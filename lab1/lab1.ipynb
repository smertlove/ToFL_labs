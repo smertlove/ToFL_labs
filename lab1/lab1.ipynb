{
 "cells": [
  {
   "cell_type": "markdown",
   "metadata": {},
   "source": [
    "# Лабораторная работа 1.\n",
    "## Генерация детерминированного конечного автомата по регулярному выражению\n",
    "\n",
    "Необходимо написать программу, которая принимает на вход регулярное выражение и строит по нему детерминированный конечный автомат. Далее на вход программе подается строка. Полученный конечный автомат должен определить, подходит ли введенная строка под заданное ранее регулярное выражение.\n",
    "\n",
    "Критерии оценки:\n",
    "3 - Регулярное выражение в недетерминированный КА\n",
    "2 - избавление от е-дуг\n",
    "2 - детерминированный КА\n",
    "3 - разбор по КА\n",
    "2 - оптимальный КА (бонусная задача)"
   ]
  },
  {
   "cell_type": "code",
   "execution_count": 1,
   "metadata": {},
   "outputs": [],
   "source": [
    "from RegexFsm import Fsm"
   ]
  },
  {
   "cell_type": "code",
   "execution_count": null,
   "metadata": {},
   "outputs": [],
   "source": [
    "# Экранирование через / а не через \\\n",
    "f = Fsm(\"I (love|LU+FF?) (Moscow|Ma(drid|gadan)|Rome)(.|!|/?)?\")"
   ]
  },
  {
   "cell_type": "code",
   "execution_count": 3,
   "metadata": {},
   "outputs": [
    {
     "data": {
      "text/plain": [
       "True"
      ]
     },
     "execution_count": 3,
     "metadata": {},
     "output_type": "execute_result"
    }
   ],
   "source": [
    "f.match(\"I love Moscow.\")"
   ]
  },
  {
   "cell_type": "code",
   "execution_count": 4,
   "metadata": {},
   "outputs": [
    {
     "data": {
      "text/plain": [
       "True"
      ]
     },
     "execution_count": 4,
     "metadata": {},
     "output_type": "execute_result"
    }
   ],
   "source": [
    "f.match(\"I LUUUUUFF Rome!\")"
   ]
  },
  {
   "cell_type": "code",
   "execution_count": 5,
   "metadata": {},
   "outputs": [
    {
     "data": {
      "text/plain": [
       "True"
      ]
     },
     "execution_count": 5,
     "metadata": {},
     "output_type": "execute_result"
    }
   ],
   "source": [
    "f.match(\"I LUF Rome\")"
   ]
  },
  {
   "cell_type": "code",
   "execution_count": 6,
   "metadata": {},
   "outputs": [
    {
     "data": {
      "text/plain": [
       "True"
      ]
     },
     "execution_count": 6,
     "metadata": {},
     "output_type": "execute_result"
    }
   ],
   "source": [
    "f.match(\"I LUUUUUFF Madrid!\")"
   ]
  },
  {
   "cell_type": "code",
   "execution_count": 7,
   "metadata": {},
   "outputs": [
    {
     "data": {
      "text/plain": [
       "False"
      ]
     },
     "execution_count": 7,
     "metadata": {},
     "output_type": "execute_result"
    }
   ],
   "source": [
    "#  Нет буквы U\n",
    "f.match(\"I LFF Madrid!\")"
   ]
  },
  {
   "cell_type": "code",
   "execution_count": 8,
   "metadata": {},
   "outputs": [
    {
     "data": {
      "text/plain": [
       "True"
      ]
     },
     "execution_count": 8,
     "metadata": {},
     "output_type": "execute_result"
    }
   ],
   "source": [
    "f.match(\"I LUFF Madrid\")"
   ]
  },
  {
   "cell_type": "code",
   "execution_count": null,
   "metadata": {},
   "outputs": [
    {
     "data": {
      "text/plain": [
       "True"
      ]
     },
     "execution_count": 9,
     "metadata": {},
     "output_type": "execute_result"
    }
   ],
   "source": [
    "f.match(\"I LUFF Magadan?\")"
   ]
  },
  {
   "cell_type": "code",
   "execution_count": 10,
   "metadata": {},
   "outputs": [
    {
     "data": {
      "text/plain": [
       "Fsm(30 nodes)\n",
       "From\tTo\tBy\tExitable\n",
       "0\t1\tI\t\n",
       "1\t2\t \t\n",
       "2\t3\tL\t\n",
       "2\t4\tl\t\n",
       "3\t5\tU\t\n",
       "4\t6\to\t\n",
       "5\t7\tF\t\n",
       "5\t5\tU\t\n",
       "6\t8\tv\t\n",
       "7\t9\t \t\n",
       "7\t10\tF\t\n",
       "8\t11\te\t\n",
       "9\t12\tM\t\n",
       "9\t13\tR\t\n",
       "10\t9\t \t\n",
       "11\t9\t \t\n",
       "12\t14\ta\t\n",
       "12\t15\to\t\n",
       "13\t16\to\t\n",
       "14\t17\td\t\n",
       "15\t18\ts\t\n",
       "16\t19\tm\t\n",
       "17\t20\tr\t\n",
       "18\t21\tc\t\n",
       "19\t22\te\t\n",
       "20\t23\ti\t\n",
       "21\t24\to\t\n",
       "22\t25\t!\t*\n",
       "22\t26\t.\t*\n",
       "22\t27\t?\t*\n",
       "23\t28\td\t\n",
       "24\t29\tw\t\n",
       "25\t\tNone\t*\n",
       "26\t\tNone\t*\n",
       "27\t\tNone\t*\n",
       "28\t25\t!\t*\n",
       "28\t26\t.\t*\n",
       "28\t27\t?\t*\n",
       "29\t25\t!\t*\n",
       "29\t26\t.\t*\n",
       "29\t27\t?\t*"
      ]
     },
     "execution_count": 10,
     "metadata": {},
     "output_type": "execute_result"
    }
   ],
   "source": [
    "f"
   ]
  },
  {
   "cell_type": "code",
   "execution_count": null,
   "metadata": {},
   "outputs": [],
   "source": [
    "testcases = {\n",
    "    \"abc\": (\n",
    "        (\"ac\"  , False),\n",
    "        (\"abc\" , True ),\n",
    "        (\"abbc\", False),\n",
    "    ),\n",
    "    \"ab*c\": (\n",
    "        (\"ac\"  , True),\n",
    "        (\"abc\" , True),\n",
    "        (\"abbc\", True),\n",
    "    ),\n",
    "    \"ab?c\": (\n",
    "        (\"ac\"  , True ),\n",
    "        (\"abc\" , True ),\n",
    "        (\"abbc\", False),\n",
    "    ),\n",
    "    \"ab+c\": (\n",
    "        (\"ac\"  , False),\n",
    "        (\"abc\" , True ),\n",
    "        (\"abbc\", True ),\n",
    "    ),\n",
    "\n",
    "    \"a*bc\": (\n",
    "        (\"bc\"  , True),\n",
    "        (\"abc\" , True),\n",
    "        (\"aabc\", True),\n",
    "    ),\n",
    "    \"a?bc\": (\n",
    "        (\"bc\"  , True ),\n",
    "        (\"abc\" , True ),\n",
    "        (\"aabc\", False),\n",
    "    ),\n",
    "    \"a+bc\": (\n",
    "        (\"bc\"  , False),\n",
    "        (\"abc\" , True ),\n",
    "        (\"aabc\", True ),\n",
    "    ),\n",
    "    \"abc*\": (\n",
    "        (\"ab\"  , True),\n",
    "        (\"abc\" , True),\n",
    "        (\"abcc\", True),\n",
    "    ),\n",
    "    \"abc?\": (\n",
    "        (\"ab\"  , True ),\n",
    "        (\"abc\" , True ),\n",
    "        (\"abcc\", False),\n",
    "    ),\n",
    "    \"abc+\": (\n",
    "        (\"ab\"  , False),\n",
    "        (\"abc\" , True ),\n",
    "        (\"abcc\", True ),\n",
    "    ),\n",
    "\n",
    "    \"abc/*\": (\n",
    "        (\"ab\"  , False),\n",
    "        (\"abc\" , False),\n",
    "        (\"abcc\", False),\n",
    "        (\"abc*\", True ),\n",
    "    ),\n",
    "    \"abc/?\": (\n",
    "        (\"ab\"  , False ),\n",
    "        (\"abc\" , False ),\n",
    "        (\"abcc\", False ),\n",
    "        (\"abc?\", True  ),\n",
    "    ),\n",
    "    \"abc/+\": (\n",
    "        (\"ab\"  , False),\n",
    "        (\"abc\" , False ),\n",
    "        (\"abcc\", False ),\n",
    "        (\"abc+\" , True ),\n",
    "    ),\n",
    "    \"a(bc)d\": (\n",
    "        (\"abcd\", True),\n",
    "    ),\n",
    "    \"a(bc)?d\": (\n",
    "        (\"abcd\", True),\n",
    "        (\"ad\", True),\n",
    "    ),\n",
    "    \"a(bc|ef)d\": (\n",
    "        (\"abcd\", True),\n",
    "        (\"aefd\", True),\n",
    "        (\"ad\", False),\n",
    "    ),\n",
    "    \"a(bc|ef)?d\": (\n",
    "         (\"abcd\", True),\n",
    "        (\"aefd\", True),\n",
    "        (\"ad\", True),\n",
    "    ),\n",
    "}"
   ]
  },
  {
   "cell_type": "code",
   "execution_count": null,
   "metadata": {},
   "outputs": [
    {
     "name": "stdout",
     "output_type": "stream",
     "text": [
      "abc\n",
      "('ac', False)\t\u001b[3;32mPASS\u001b[0m\n",
      "('abc', True)\t\u001b[3;32mPASS\u001b[0m\n",
      "('abbc', False)\t\u001b[3;32mPASS\u001b[0m\n",
      "\n",
      "ab*c\n",
      "('ac', True)\t\u001b[3;32mPASS\u001b[0m\n",
      "('abc', True)\t\u001b[3;32mPASS\u001b[0m\n",
      "('abbc', True)\t\u001b[3;32mPASS\u001b[0m\n",
      "\n",
      "ab?c\n",
      "('ac', True)\t\u001b[3;32mPASS\u001b[0m\n",
      "('abc', True)\t\u001b[3;32mPASS\u001b[0m\n",
      "('abbc', False)\t\u001b[3;32mPASS\u001b[0m\n",
      "\n",
      "ab+c\n",
      "('ac', False)\t\u001b[3;32mPASS\u001b[0m\n",
      "('abc', True)\t\u001b[3;32mPASS\u001b[0m\n",
      "('abbc', True)\t\u001b[3;32mPASS\u001b[0m\n",
      "\n",
      "a*bc\n",
      "('bc', True)\t\u001b[3;32mPASS\u001b[0m\n",
      "('abc', True)\t\u001b[3;32mPASS\u001b[0m\n",
      "('aabc', True)\t\u001b[3;32mPASS\u001b[0m\n",
      "\n",
      "a?bc\n",
      "('bc', True)\t\u001b[3;32mPASS\u001b[0m\n",
      "('abc', True)\t\u001b[3;32mPASS\u001b[0m\n",
      "('aabc', False)\t\u001b[3;32mPASS\u001b[0m\n",
      "\n",
      "a+bc\n",
      "('bc', False)\t\u001b[3;32mPASS\u001b[0m\n",
      "('abc', True)\t\u001b[3;32mPASS\u001b[0m\n",
      "('aabc', True)\t\u001b[3;32mPASS\u001b[0m\n",
      "\n",
      "abc*\n",
      "('ab', True)\t\u001b[3;32mPASS\u001b[0m\n",
      "('abc', True)\t\u001b[3;32mPASS\u001b[0m\n",
      "('abcc', True)\t\u001b[3;32mPASS\u001b[0m\n",
      "\n",
      "abc?\n",
      "('ab', True)\t\u001b[3;32mPASS\u001b[0m\n",
      "('abc', True)\t\u001b[3;32mPASS\u001b[0m\n",
      "('abcc', False)\t\u001b[3;32mPASS\u001b[0m\n",
      "\n",
      "abc+\n",
      "('ab', False)\t\u001b[3;32mPASS\u001b[0m\n",
      "('abc', True)\t\u001b[3;32mPASS\u001b[0m\n",
      "('abcc', True)\t\u001b[3;32mPASS\u001b[0m\n",
      "\n",
      "abc/*\n",
      "('ab', False)\t\u001b[3;32mPASS\u001b[0m\n",
      "('abc', False)\t\u001b[3;32mPASS\u001b[0m\n",
      "('abcc', False)\t\u001b[3;32mPASS\u001b[0m\n",
      "('abc*', True)\t\u001b[3;32mPASS\u001b[0m\n",
      "\n",
      "abc/?\n",
      "('ab', False)\t\u001b[3;32mPASS\u001b[0m\n",
      "('abc', False)\t\u001b[3;32mPASS\u001b[0m\n",
      "('abcc', False)\t\u001b[3;32mPASS\u001b[0m\n",
      "('abc?', True)\t\u001b[3;32mPASS\u001b[0m\n",
      "\n",
      "abc/+\n",
      "('ab', False)\t\u001b[3;32mPASS\u001b[0m\n",
      "('abc', False)\t\u001b[3;32mPASS\u001b[0m\n",
      "('abcc', False)\t\u001b[3;32mPASS\u001b[0m\n",
      "('abc+', True)\t\u001b[3;32mPASS\u001b[0m\n",
      "\n",
      "a(bc)d\n",
      "('abcd', True)\t\u001b[3;32mPASS\u001b[0m\n",
      "\n",
      "a(bc)?d\n",
      "('abcd', True)\t\u001b[3;32mPASS\u001b[0m\n",
      "('ad', True)\t\u001b[3;32mPASS\u001b[0m\n",
      "\n",
      "a(bc|ef)d\n",
      "('abcd', True)\t\u001b[3;32mPASS\u001b[0m\n",
      "('aefd', True)\t\u001b[3;32mPASS\u001b[0m\n",
      "('ad', False)\t\u001b[3;32mPASS\u001b[0m\n",
      "\n",
      "a(bc|ef)?d\n",
      "('abcd', True)\t\u001b[3;32mPASS\u001b[0m\n",
      "('aefd', True)\t\u001b[3;32mPASS\u001b[0m\n",
      "('ad', True)\t\u001b[3;32mPASS\u001b[0m\n",
      "\n"
     ]
    }
   ],
   "source": [
    "DEFAULT      = \"\\033[0m\"\n",
    "BOLD_RED     = \"\\033[1;31m\"\n",
    "ITALIC_GREEN = \"\\033[3;32m\"\n",
    "\n",
    "for ptrn in testcases:\n",
    "    f = Fsm(ptrn)\n",
    "    print(ptrn)\n",
    "    for testcase in testcases[ptrn]:\n",
    "        print(\n",
    "            testcase,\n",
    "            (\n",
    "               BOLD_RED     + \"ERR\" + DEFAULT,\n",
    "               ITALIC_GREEN + \"PASS\"+ DEFAULT,\n",
    "            )[f.match(testcase[0]) == testcase[1]],\n",
    "            sep=\"\\t\"\n",
    "        )\n",
    "    print()"
   ]
  },
  {
   "cell_type": "code",
   "execution_count": null,
   "metadata": {},
   "outputs": [],
   "source": [
    "# Экранирования скобок нет\n",
    "digit = r\"(1|2|3|4|5|6|7|8|9|0)\"\n",
    "optional_sep = r\"(-|| )?\"\n",
    "\n",
    "telnum = (\n",
    "    fr\"((8|/+?7){optional_sep})?\"\n",
    "    + fr\"({digit*3}{optional_sep})?\"\n",
    "    + digit*3\n",
    "    + optional_sep\n",
    "    + digit*2\n",
    "    + optional_sep\n",
    "    + digit*2\n",
    "    + optional_sep\n",
    ")\n",
    "\n",
    "f = Fsm(telnum)"
   ]
  },
  {
   "cell_type": "code",
   "execution_count": 35,
   "metadata": {},
   "outputs": [],
   "source": [
    "cases = (\n",
    "    \"+76661234567\",\n",
    "    \"86661234567\",\n",
    "    \"76661234567\",\n",
    "    \"+7 666 123 45 67\",\n",
    "    \"123-45-67\",\n",
    "    \"6661234567\",\n",
    "    \"76661234567\",\n",
    "    \"86661234567\",\n",
    "    \"8-666-123-45-67\",\n",
    ")"
   ]
  },
  {
   "cell_type": "code",
   "execution_count": 36,
   "metadata": {},
   "outputs": [
    {
     "name": "stdout",
     "output_type": "stream",
     "text": [
      "+76661234567\t\u001b[3;32mPASS\u001b[0m\n",
      "86661234567\t\u001b[3;32mPASS\u001b[0m\n",
      "76661234567\t\u001b[3;32mPASS\u001b[0m\n",
      "+7 666 123 45 67\t\u001b[3;32mPASS\u001b[0m\n",
      "123-45-67\t\u001b[3;32mPASS\u001b[0m\n",
      "6661234567\t\u001b[3;32mPASS\u001b[0m\n",
      "76661234567\t\u001b[3;32mPASS\u001b[0m\n",
      "86661234567\t\u001b[3;32mPASS\u001b[0m\n",
      "8-666-123-45-67\t\u001b[3;32mPASS\u001b[0m\n"
     ]
    }
   ],
   "source": [
    "for case in cases:\n",
    "    print(\n",
    "        case,\n",
    "        (\n",
    "            BOLD_RED     + \"ERR\" + DEFAULT,\n",
    "            ITALIC_GREEN + \"PASS\"+ DEFAULT,\n",
    "        )[f.match(case)],\n",
    "        sep=\"\\t\"\n",
    "    )"
   ]
  },
  {
   "cell_type": "code",
   "execution_count": null,
   "metadata": {},
   "outputs": [],
   "source": []
  }
 ],
 "metadata": {
  "kernelspec": {
   "display_name": "Python 3",
   "language": "python",
   "name": "python3"
  },
  "language_info": {
   "codemirror_mode": {
    "name": "ipython",
    "version": 3
   },
   "file_extension": ".py",
   "mimetype": "text/x-python",
   "name": "python",
   "nbconvert_exporter": "python",
   "pygments_lexer": "ipython3",
   "version": "3.13.1"
  }
 },
 "nbformat": 4,
 "nbformat_minor": 2
}
