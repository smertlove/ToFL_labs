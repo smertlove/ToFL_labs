{
 "cells": [
  {
   "cell_type": "markdown",
   "metadata": {},
   "source": [
    "# Лабораторная работа 1.\n",
    "## Генерация детерминированного конечного автомата по регулярному выражению\n",
    "\n",
    "Необходимо написать программу, которая принимает на вход регулярное выражение и строит по нему детерминированный конечный автомат. Далее на вход программе подается строка. Полученный конечный автомат должен определить, подходит ли введенная строка под заданное ранее регулярное выражение.\n",
    "\n",
    "Критерии оценки:\n",
    "3 - Регулярное выражение в недетерминированный КА\n",
    "2 - избавление от е-дуг\n",
    "2 - детерминированный КА\n",
    "3 - разбор по КА\n",
    "2 - оптимальный КА (бонусная задача)"
   ]
  },
  {
   "cell_type": "code",
   "execution_count": 1,
   "metadata": {},
   "outputs": [],
   "source": [
    "from RegexFsm import Fsm"
   ]
  },
  {
   "cell_type": "code",
   "execution_count": 2,
   "metadata": {},
   "outputs": [],
   "source": [
    "# Экранирование через / а не через \\\n",
    "f = Fsm(\"I (love|LU+FF?) (Moscow|Madrid|Rome)(.|!|/?)?\")"
   ]
  },
  {
   "cell_type": "code",
   "execution_count": 3,
   "metadata": {},
   "outputs": [
    {
     "data": {
      "text/plain": [
       "True"
      ]
     },
     "execution_count": 3,
     "metadata": {},
     "output_type": "execute_result"
    }
   ],
   "source": [
    "f.match(\"I love Moscow.\")"
   ]
  },
  {
   "cell_type": "code",
   "execution_count": 4,
   "metadata": {},
   "outputs": [
    {
     "data": {
      "text/plain": [
       "True"
      ]
     },
     "execution_count": 4,
     "metadata": {},
     "output_type": "execute_result"
    }
   ],
   "source": [
    "f.match(\"I LUUUUUFF Rome!\")"
   ]
  },
  {
   "cell_type": "code",
   "execution_count": 5,
   "metadata": {},
   "outputs": [
    {
     "data": {
      "text/plain": [
       "True"
      ]
     },
     "execution_count": 5,
     "metadata": {},
     "output_type": "execute_result"
    }
   ],
   "source": [
    "f.match(\"I LUF Rome\")"
   ]
  },
  {
   "cell_type": "code",
   "execution_count": 6,
   "metadata": {},
   "outputs": [
    {
     "data": {
      "text/plain": [
       "True"
      ]
     },
     "execution_count": 6,
     "metadata": {},
     "output_type": "execute_result"
    }
   ],
   "source": [
    "f.match(\"I LUUUUUFF Madrid!\")"
   ]
  },
  {
   "cell_type": "code",
   "execution_count": null,
   "metadata": {},
   "outputs": [
    {
     "data": {
      "text/plain": [
       "False"
      ]
     },
     "execution_count": 7,
     "metadata": {},
     "output_type": "execute_result"
    }
   ],
   "source": [
    "#  Нет буквы U\n",
    "f.match(\"I LFF Madrid!\")"
   ]
  },
  {
   "cell_type": "code",
   "execution_count": 9,
   "metadata": {},
   "outputs": [
    {
     "data": {
      "text/plain": [
       "True"
      ]
     },
     "execution_count": 9,
     "metadata": {},
     "output_type": "execute_result"
    }
   ],
   "source": [
    "f.match(\"I LUFF Madrid\")"
   ]
  },
  {
   "cell_type": "code",
   "execution_count": 10,
   "metadata": {},
   "outputs": [
    {
     "data": {
      "text/plain": [
       "True"
      ]
     },
     "execution_count": 10,
     "metadata": {},
     "output_type": "execute_result"
    }
   ],
   "source": [
    "f.match(\"I LUFF Madrid?\")"
   ]
  },
  {
   "cell_type": "code",
   "execution_count": 11,
   "metadata": {},
   "outputs": [
    {
     "data": {
      "text/plain": [
       "Fsm(30 nodes)\n",
       "From\tTo\tBy\tExitable\n",
       "0\t1\tI\t\n",
       "1\t2\t \t\n",
       "2\t3\tL\t\n",
       "2\t4\tl\t\n",
       "3\t5\tU\t\n",
       "4\t6\to\t\n",
       "5\t7\tF\t\n",
       "5\t5\tU\t\n",
       "6\t8\tv\t\n",
       "7\t9\t \t\n",
       "7\t10\tF\t\n",
       "8\t11\te\t\n",
       "9\t12\tM\t\n",
       "9\t13\tR\t\n",
       "10\t9\t \t\n",
       "11\t9\t \t\n",
       "12\t14\ta\t\n",
       "12\t15\to\t\n",
       "13\t16\to\t\n",
       "14\t17\td\t\n",
       "15\t18\ts\t\n",
       "16\t19\tm\t\n",
       "17\t20\tr\t\n",
       "18\t21\tc\t\n",
       "19\t22\te\t\n",
       "20\t23\ti\t\n",
       "21\t24\to\t\n",
       "22\t25\t!\t*\n",
       "22\t26\t.\t*\n",
       "22\t27\t?\t*\n",
       "23\t28\td\t\n",
       "24\t29\tw\t\n",
       "25\t\tNone\t*\n",
       "26\t\tNone\t*\n",
       "27\t\tNone\t*\n",
       "28\t25\t!\t*\n",
       "28\t26\t.\t*\n",
       "28\t27\t?\t*\n",
       "29\t25\t!\t*\n",
       "29\t26\t.\t*\n",
       "29\t27\t?\t*"
      ]
     },
     "execution_count": 11,
     "metadata": {},
     "output_type": "execute_result"
    }
   ],
   "source": [
    "f"
   ]
  },
  {
   "cell_type": "code",
   "execution_count": null,
   "metadata": {},
   "outputs": [],
   "source": []
  }
 ],
 "metadata": {
  "kernelspec": {
   "display_name": "Python 3",
   "language": "python",
   "name": "python3"
  },
  "language_info": {
   "codemirror_mode": {
    "name": "ipython",
    "version": 3
   },
   "file_extension": ".py",
   "mimetype": "text/x-python",
   "name": "python",
   "nbconvert_exporter": "python",
   "pygments_lexer": "ipython3",
   "version": "3.13.1"
  }
 },
 "nbformat": 4,
 "nbformat_minor": 2
}
