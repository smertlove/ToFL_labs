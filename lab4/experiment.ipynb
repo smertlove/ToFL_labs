{
 "cells": [
  {
   "cell_type": "markdown",
   "metadata": {},
   "source": [
    "# Лабораторная работа 4. Снятие омонимии с использованием методов машинного обучения\n",
    "\n",
    "Необходимо написать программу, которая принимает на вход корпус со снятой омонимией (что-то с соревнований, НКРЯ, Universal Dependencies, …), тренирует модель машинного обучения (любую, можно и с глубинными сетями, по умолчанию CRF или Random Forest) и снимает омонимию с поданного на вход текста (например, с тестовой части корпуса).\n",
    "\n",
    "### Критерии оценки:\n",
    "\n",
    "- 2 - использован размеченный корпус\n",
    "- 4 - обучена модель\n",
    "- 2 - снимает омонимию\n",
    "- 2 - красота решения (субъективное мнение преподавателя)\n"
   ]
  },
  {
   "cell_type": "code",
   "execution_count": 53,
   "metadata": {},
   "outputs": [],
   "source": [
    "import pathlib"
   ]
  },
  {
   "cell_type": "code",
   "execution_count": 54,
   "metadata": {},
   "outputs": [],
   "source": [
    "datadir = pathlib.Path().cwd() / \"data\""
   ]
  },
  {
   "cell_type": "code",
   "execution_count": null,
   "metadata": {},
   "outputs": [],
   "source": [
    "train_filenames = [\n",
    "    \"processed_ru_syntagrus-ud-train-a.conllu\",\n",
    "    \"processed_ru_syntagrus-ud-train-b.conllu\",\n",
    "    \"processed_ru_syntagrus-ud-train-c.conllu\",\n",
    "]\n",
    "\n",
    "test_filename = \"processed_ru_syntagrus-ud-test.conllu\""
   ]
  },
  {
   "cell_type": "code",
   "execution_count": 58,
   "metadata": {},
   "outputs": [],
   "source": [
    "X_train = []\n",
    "\n",
    "for filename in train_filenames:\n",
    "    with open(datadir / filename, \"r\", encoding=\"utf-8\") as file:\n",
    "        X_train.extend(file.read().rstrip().split(\"\\n\\n\"))\n",
    "\n",
    "with open(datadir / test_filename, \"r\", encoding=\"utf-8\") as file:\n",
    "    X_test = file.read().rstrip().split(\"\\n\\n\")"
   ]
  },
  {
   "cell_type": "code",
   "execution_count": 59,
   "metadata": {},
   "outputs": [
    {
     "data": {
      "text/plain": [
       "(69630, 8800)"
      ]
     },
     "execution_count": 59,
     "metadata": {},
     "output_type": "execute_result"
    }
   ],
   "source": [
    "len(X_train), len(X_test)"
   ]
  },
  {
   "cell_type": "code",
   "execution_count": null,
   "metadata": {},
   "outputs": [],
   "source": []
  }
 ],
 "metadata": {
  "language_info": {
   "name": "python"
  }
 },
 "nbformat": 4,
 "nbformat_minor": 2
}
