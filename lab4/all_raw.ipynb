{
 "cells": [
  {
   "cell_type": "markdown",
   "metadata": {},
   "source": [
    "# Лабораторная работа 4. Снятие омонимии с использованием методов машинного обучения\n",
    "\n",
    "Необходимо написать программу, которая принимает на вход корпус со снятой омонимией (что-то с соревнований, НКРЯ, Universal Dependencies, …), тренирует модель машинного обучения (любую, можно и с глубинными сетями, по умолчанию CRF или Random Forest) и снимает омонимию с поданного на вход текста (например, с тестовой части корпуса).\n",
    "\n",
    "### Критерии оценки:\n",
    "\n",
    "- 2 - использован размеченный корпус\n",
    "- 4 - обучена модель\n",
    "- 2 - снимает омонимию\n",
    "- 2 - красота решения (субъективное мнение преподавателя)\n"
   ]
  },
  {
   "cell_type": "code",
   "execution_count": 100,
   "metadata": {},
   "outputs": [],
   "source": [
    "import pathlib"
   ]
  },
  {
   "cell_type": "code",
   "execution_count": 101,
   "metadata": {},
   "outputs": [],
   "source": [
    "datadir = pathlib.Path().cwd() / \"data\""
   ]
  },
  {
   "cell_type": "code",
   "execution_count": 102,
   "metadata": {},
   "outputs": [],
   "source": [
    "train_filenames = [\n",
    "    \"processed_ru_syntagrus-ud-train-a.conllu\",\n",
    "    \"processed_ru_syntagrus-ud-train-b.conllu\",\n",
    "    \"processed_ru_syntagrus-ud-train-c.conllu\",\n",
    "]\n",
    "\n",
    "test_filename = \"processed_ru_syntagrus-ud-test.conllu\""
   ]
  },
  {
   "cell_type": "code",
   "execution_count": 103,
   "metadata": {},
   "outputs": [],
   "source": [
    "train_data = []\n",
    "\n",
    "for filename in train_filenames:\n",
    "    with open(datadir / filename, \"r\", encoding=\"utf-8\") as file:\n",
    "        train_data.extend(file.read().rstrip().split(\"\\n\\n\"))\n",
    "\n",
    "with open(datadir / test_filename, \"r\", encoding=\"utf-8\") as file:\n",
    "    test_data = file.read().rstrip().split(\"\\n\\n\")"
   ]
  },
  {
   "cell_type": "code",
   "execution_count": 104,
   "metadata": {},
   "outputs": [
    {
     "data": {
      "text/plain": [
       "(69630, 8800)"
      ]
     },
     "execution_count": 104,
     "metadata": {},
     "output_type": "execute_result"
    }
   ],
   "source": [
    "len(train_data), len(test_data)"
   ]
  },
  {
   "cell_type": "code",
   "execution_count": 105,
   "metadata": {},
   "outputs": [
    {
     "name": "stdout",
     "output_type": "stream",
     "text": [
      "Начальник\tPOS=NOUN|Animacy=Anim|Case=Nom|Gender=Masc|Number=Sing\n",
      "областного\tPOS=ADJ|Case=Gen|Degree=Pos|Gender=Neut|Number=Sing\n",
      "управления\tPOS=NOUN|Animacy=Inan|Case=Gen|Gender=Neut|Number=Sing\n",
      "связи\tPOS=NOUN|Animacy=Inan|Case=Gen|Gender=Fem|Number=Sing\n",
      "Семен\tPOS=PROPN|Animacy=Anim|Case=Nom|Gender=Masc|Number=Sing\n",
      "Еремеевич\tPOS=PROPN|Animacy=Anim|Case=Nom|Gender=Masc|Number=Sing\n",
      "был\tPOS=AUX|Aspect=Imp|Gender=Masc|Mood=Ind|Number=Sing|Tense=Past|VerbForm=Fin|Voice=Act\n",
      "человек\tPOS=NOUN|Animacy=Anim|Case=Nom|Gender=Masc|Number=Sing\n",
      "простой\tPOS=ADJ|Case=Nom|Degree=Pos|Gender=Masc|Number=Sing\n",
      ",\tPOS=PUNCT\n",
      "приходил\tPOS=VERB|Aspect=Imp|Gender=Masc|Mood=Ind|Number=Sing|Tense=Past|VerbForm=Fin|Voice=Act\n",
      "на\tPOS=ADP\n",
      "работу\tPOS=NOUN|Animacy=Inan|Case=Acc|Gender=Fem|Number=Sing\n",
      "всегда\tPOS=ADV|Degree=Pos\n",
      "вовремя\tPOS=ADV|Degree=Pos\n",
      ",\tPOS=PUNCT\n",
      "здоровался\tPOS=VERB|Aspect=Imp|Gender=Masc|Mood=Ind|Number=Sing|Tense=Past|VerbForm=Fin|Voice=Mid\n",
      "с\tPOS=ADP\n",
      "секретаршей\tPOS=NOUN|Animacy=Anim|Case=Ins|Gender=Fem|Number=Sing\n",
      "за\tPOS=ADP\n",
      "руку\tPOS=NOUN|Animacy=Inan|Case=Acc|Gender=Fem|Number=Sing\n",
      "и\tPOS=CCONJ\n",
      "иногда\tPOS=ADV|Degree=Pos\n",
      "даже\tPOS=PART\n",
      "писал\tPOS=VERB|Aspect=Imp|Gender=Masc|Mood=Ind|Number=Sing|Tense=Past|VerbForm=Fin|Voice=Act\n",
      "в\tPOS=ADP\n",
      "стенгазету\tPOS=NOUN|Animacy=Inan|Case=Acc|Gender=Fem|Number=Sing\n",
      "заметки\tPOS=NOUN|Animacy=Inan|Case=Acc|Gender=Fem|Number=Plur\n",
      "под\tPOS=ADP\n",
      "псевдонимом\tPOS=NOUN|Animacy=Inan|Case=Ins|Gender=Masc|Number=Sing\n",
      "\"\tPOS=PUNCT\n",
      "Муха\tPOS=NOUN|Animacy=Anim|Case=Nom|Gender=Fem|Number=Sing\n",
      "\"\tPOS=PUNCT\n",
      ".\tPOS=PUNCT\n"
     ]
    }
   ],
   "source": [
    "print(train_data[1])"
   ]
  },
  {
   "cell_type": "code",
   "execution_count": 106,
   "metadata": {},
   "outputs": [],
   "source": [
    "def prep_entry(text:str):\n",
    "    entry = tuple(filter(lambda l: not l.startswith(\"#\"), text.split(\"\\n\")))\n",
    "    entry = [line.split(\"\\t\") for line in entry]\n",
    "    return entry"
   ]
  },
  {
   "cell_type": "code",
   "execution_count": 107,
   "metadata": {},
   "outputs": [],
   "source": [
    "def split_grammar(line:str) -> dict[str, str]:\n",
    "    return {\n",
    "        (p := pair.split(\"=\"))[0]: p[1]\n",
    "        for pair\n",
    "        in line.split(\"|\")\n",
    "    }"
   ]
  },
  {
   "cell_type": "code",
   "execution_count": 108,
   "metadata": {},
   "outputs": [],
   "source": [
    "all_tags: dict[str, set] = dict()\n",
    "word_dict: dict[str, dict[str, int]] = {}"
   ]
  },
  {
   "cell_type": "code",
   "execution_count": 109,
   "metadata": {},
   "outputs": [],
   "source": [
    "for sent in train_data:\n",
    "    lines = prep_entry(sent)\n",
    "    for line in lines:\n",
    "        word, grammar = line\n",
    "        word_lower = word.lower()\n",
    "\n",
    "        # Обновить грамматический словарь\n",
    "        d = word_dict.get(word_lower, dict())\n",
    "        d[grammar] = d.get(grammar, 0) + 1\n",
    "        word_dict[word_lower] = d\n",
    "\n",
    "        # Обновить словарь тегов\n",
    "        for tag, val in split_grammar(grammar).items():\n",
    "            all_tags[tag] = all_tags.get(tag, {\"[PAD]\"}) | {val}"
   ]
  },
  {
   "cell_type": "code",
   "execution_count": 110,
   "metadata": {},
   "outputs": [
    {
     "data": {
      "text/plain": [
       "{'POS=VERB|Aspect=Perf|Mood=Ind|Number=Plur|Tense=Past|VerbForm=Fin|Voice=Act': 223,\n",
       " 'POS=VERB|Aspect=Perf|Mood=Ind|Number=Plur|Tense=Past|VerbForm=Fin|Voice=Mid': 144,\n",
       " 'POS=NOUN|Animacy=Inan|Case=Gen|Gender=Fem|Number=Sing': 19,\n",
       " 'POS=NOUN|Animacy=Inan|Case=Nom|Gender=Fem|Number=Plur': 1,\n",
       " 'POS=NOUN|Animacy=Inan|Case=Dat|Gender=Fem|Number=Sing': 1}"
      ]
     },
     "execution_count": 110,
     "metadata": {},
     "output_type": "execute_result"
    }
   ],
   "source": [
    "word_dict[\"стали\"]"
   ]
  },
  {
   "cell_type": "code",
   "execution_count": 111,
   "metadata": {},
   "outputs": [
    {
     "data": {
      "text/plain": [
       "1206302"
      ]
     },
     "execution_count": 111,
     "metadata": {},
     "output_type": "execute_result"
    }
   ],
   "source": [
    "sum(\n",
    "    [\n",
    "        sum(word_dict[word].values())\n",
    "        for word\n",
    "        in word_dict\n",
    "    ]\n",
    ")"
   ]
  },
  {
   "cell_type": "code",
   "execution_count": 112,
   "metadata": {},
   "outputs": [],
   "source": [
    "## Уберем все разборы, кол-во которых меньше THRESHOLD\n",
    "\n",
    "THRESHOLD = 6\n",
    "\n",
    "for word in word_dict:\n",
    "    word_dict[word] = {\n",
    "        k: val\n",
    "        for k, val\n",
    "        in word_dict[word].items()\n",
    "        if val >= THRESHOLD\n",
    "    }\n"
   ]
  },
  {
   "cell_type": "code",
   "execution_count": 113,
   "metadata": {},
   "outputs": [
    {
     "data": {
      "text/plain": [
       "1000132"
      ]
     },
     "execution_count": 113,
     "metadata": {},
     "output_type": "execute_result"
    }
   ],
   "source": [
    "sum(\n",
    "    [\n",
    "        sum(word_dict[word].values())\n",
    "        for word\n",
    "        in word_dict\n",
    "    ]\n",
    ")"
   ]
  },
  {
   "cell_type": "code",
   "execution_count": 114,
   "metadata": {},
   "outputs": [
    {
     "data": {
      "text/plain": [
       "{'POS=VERB|Aspect=Perf|Mood=Ind|Number=Plur|Tense=Past|VerbForm=Fin|Voice=Act': 223,\n",
       " 'POS=VERB|Aspect=Perf|Mood=Ind|Number=Plur|Tense=Past|VerbForm=Fin|Voice=Mid': 144,\n",
       " 'POS=NOUN|Animacy=Inan|Case=Gen|Gender=Fem|Number=Sing': 19}"
      ]
     },
     "execution_count": 114,
     "metadata": {},
     "output_type": "execute_result"
    }
   ],
   "source": [
    "word_dict[\"стали\"]"
   ]
  },
  {
   "cell_type": "code",
   "execution_count": 115,
   "metadata": {},
   "outputs": [
    {
     "data": {
      "text/plain": [
       "['В',\n",
       " 'советский',\n",
       " 'период',\n",
       " 'времени',\n",
       " 'число',\n",
       " 'ИТ',\n",
       " '-',\n",
       " 'специалистов',\n",
       " 'в',\n",
       " 'Армении',\n",
       " 'составляло',\n",
       " 'около',\n",
       " 'десяти',\n",
       " 'тысяч',\n",
       " '.']"
      ]
     },
     "execution_count": 115,
     "metadata": {},
     "output_type": "execute_result"
    }
   ],
   "source": [
    "test_sent = list(map(lambda pair: pair[0], prep_entry(test_data[0])))\n",
    "test_sent"
   ]
  },
  {
   "cell_type": "code",
   "execution_count": 116,
   "metadata": {},
   "outputs": [],
   "source": [
    "class BaseMorphotagger:\n",
    "\n",
    "    def __init__(self, emtries):\n",
    "        self.word_dict = emtries\n",
    "\n",
    "    def disambig(self, d: dict):\n",
    "        pass\n",
    "\n",
    "    def parse_unknown(self, tok, **kwargs):\n",
    "        return \"[UNKNOWN]\"\n",
    "\n",
    "    def parse_known(self, tok, **kwargs):\n",
    "        d = kwargs[\"d\"]\n",
    "        grammar = max(\n",
    "            d,\n",
    "            key=d.get\n",
    "        )\n",
    "\n",
    "        if len(d) > 1:\n",
    "            grammar = \"[AMBIG]: \" + grammar\n",
    "\n",
    "        else:\n",
    "            grammar = \"[SING]: \" + grammar\n",
    "\n",
    "        return grammar\n",
    "\n",
    "    def parse_tokens(self, tokens: list[str]):\n",
    "        result = []\n",
    "\n",
    "        for tok in tokens:\n",
    "\n",
    "            tok_lower = tok.lower()\n",
    "            d = self.word_dict[tok_lower]\n",
    "\n",
    "            if not d:\n",
    "                grammar = self.parse_unknown(tok_lower, tokens=tokens, grammar=result)\n",
    "\n",
    "            else:\n",
    "                grammar = self.parse_known(tok_lower, d=d, tokens=tokens, grammar=result)\n",
    "\n",
    "            result.append(grammar)\n",
    "\n",
    "        return result"
   ]
  },
  {
   "cell_type": "code",
   "execution_count": 117,
   "metadata": {},
   "outputs": [],
   "source": [
    "morphotagger = BaseMorphotagger(word_dict)"
   ]
  },
  {
   "cell_type": "code",
   "execution_count": 118,
   "metadata": {},
   "outputs": [
    {
     "name": "stdout",
     "output_type": "stream",
     "text": [
      "В\t[SING]: POS=ADP\n",
      "советский\t[AMBIG]: POS=ADJ|Case=Nom|Degree=Pos|Gender=Masc|Number=Sing\n",
      "период\t[AMBIG]: POS=NOUN|Animacy=Inan|Case=Acc|Gender=Masc|Number=Sing\n",
      "времени\t[AMBIG]: POS=NOUN|Animacy=Inan|Case=Gen|Gender=Neut|Number=Sing\n",
      "число\t[AMBIG]: POS=NOUN|Animacy=Inan|Case=Nom|Gender=Neut|Number=Sing\n",
      "ИТ\t[UNKNOWN]\n",
      "-\t[SING]: POS=PUNCT\n",
      "специалистов\t[AMBIG]: POS=NOUN|Animacy=Anim|Case=Gen|Gender=Masc|Number=Plur\n",
      "в\t[SING]: POS=ADP\n",
      "Армении\t[UNKNOWN]\n",
      "составляло\t[SING]: POS=VERB|Aspect=Imp|Gender=Neut|Mood=Ind|Number=Sing|Tense=Past|VerbForm=Fin|Voice=Act\n",
      "около\t[SING]: POS=ADP\n",
      "десяти\t[AMBIG]: POS=NUM|Case=Gen|NumType=Card\n",
      "тысяч\t[SING]: POS=NOUN|Animacy=Inan|Case=Gen|Gender=Fem|Number=Plur\n",
      ".\t[SING]: POS=PUNCT\n"
     ]
    }
   ],
   "source": [
    "for tok, grammar in zip(test_sent, morphotagger.parse_tokens(test_sent)):\n",
    "    print(tok, grammar, sep=\"\\t\")"
   ]
  },
  {
   "cell_type": "code",
   "execution_count": 119,
   "metadata": {},
   "outputs": [
    {
     "data": {
      "text/plain": [
       "{'POS': {'ADJ',\n",
       "  'ADP',\n",
       "  'ADV',\n",
       "  'AUX',\n",
       "  'CCONJ',\n",
       "  'DET',\n",
       "  'INTJ',\n",
       "  'NOUN',\n",
       "  'NUM',\n",
       "  'PART',\n",
       "  'PRON',\n",
       "  'PROPN',\n",
       "  'PUNCT',\n",
       "  'SCONJ',\n",
       "  'SYM',\n",
       "  'VERB',\n",
       "  'X',\n",
       "  '[PAD]',\n",
       "  '_'},\n",
       " 'Animacy': {'Anim', 'Inan', '[PAD]'},\n",
       " 'Case': {'Acc', 'Dat', 'Gen', 'Ins', 'Loc', 'Nom', 'Par', 'Voc', '[PAD]'},\n",
       " 'Gender': {'Fem', 'Masc', 'Neut', '[PAD]'},\n",
       " 'Number': {'Plur', 'Sing', '[PAD]'},\n",
       " 'Degree': {'Cmp', 'Pos', 'Sup', '[PAD]'},\n",
       " 'Aspect': {'Imp', 'Perf', '[PAD]'},\n",
       " 'Mood': {'Cnd', 'Imp', 'Ind', '[PAD]'},\n",
       " 'Tense': {'Fut', 'Past', 'Pres', '[PAD]'},\n",
       " 'VerbForm': {'Conv', 'Fin', 'Inf', 'Part', '[PAD]'},\n",
       " 'Voice': {'Act', 'Mid', 'Pass', '[PAD]'},\n",
       " 'Person': {'1', '2', '3', '[PAD]'},\n",
       " 'PronType': {'Dem', 'Ind', 'Int,Rel', 'Neg', 'Prs', 'Tot', '[PAD]'},\n",
       " 'Variant': {'Short', '[PAD]'},\n",
       " 'NumType': {'Card', '[PAD]'},\n",
       " 'Poss': {'Yes', '[PAD]'},\n",
       " 'Reflex': {'Yes', '[PAD]'},\n",
       " 'Foreign': {'Yes', '[PAD]'},\n",
       " 'Polarity': {'Neg', '[PAD]'},\n",
       " 'Typo': {'Yes', '[PAD]'},\n",
       " 'Abbr': {'Yes', '[PAD]'}}"
      ]
     },
     "execution_count": 119,
     "metadata": {},
     "output_type": "execute_result"
    }
   ],
   "source": [
    "all_tags"
   ]
  },
  {
   "cell_type": "code",
   "execution_count": 120,
   "metadata": {},
   "outputs": [],
   "source": [
    "all_tags[\"POS\"].remove('_')"
   ]
  },
  {
   "cell_type": "code",
   "execution_count": 121,
   "metadata": {},
   "outputs": [
    {
     "data": {
      "text/plain": [
       "{'ADJ',\n",
       " 'ADP',\n",
       " 'ADV',\n",
       " 'AUX',\n",
       " 'CCONJ',\n",
       " 'DET',\n",
       " 'INTJ',\n",
       " 'NOUN',\n",
       " 'NUM',\n",
       " 'PART',\n",
       " 'PRON',\n",
       " 'PROPN',\n",
       " 'PUNCT',\n",
       " 'SCONJ',\n",
       " 'SYM',\n",
       " 'VERB',\n",
       " 'X',\n",
       " '[PAD]'}"
      ]
     },
     "execution_count": 121,
     "metadata": {},
     "output_type": "execute_result"
    }
   ],
   "source": [
    "all_tags[\"POS\"]"
   ]
  },
  {
   "cell_type": "code",
   "execution_count": 122,
   "metadata": {},
   "outputs": [
    {
     "name": "stdout",
     "output_type": "stream",
     "text": [
      "Variant\n",
      "NumType\n",
      "Poss\n",
      "Reflex\n",
      "Foreign\n",
      "Polarity\n",
      "Typo\n",
      "Abbr\n"
     ]
    }
   ],
   "source": [
    "to_del = []\n",
    "\n",
    "for tag in all_tags:\n",
    "    if len(all_tags[tag]) < 3:\n",
    "        print(tag)\n",
    "        to_del.append(tag)\n",
    "\n",
    "for tag in to_del:\n",
    "    del all_tags[tag]"
   ]
  },
  {
   "cell_type": "code",
   "execution_count": 123,
   "metadata": {},
   "outputs": [
    {
     "data": {
      "text/plain": [
       "{'POS': {'ADJ',\n",
       "  'ADP',\n",
       "  'ADV',\n",
       "  'AUX',\n",
       "  'CCONJ',\n",
       "  'DET',\n",
       "  'INTJ',\n",
       "  'NOUN',\n",
       "  'NUM',\n",
       "  'PART',\n",
       "  'PRON',\n",
       "  'PROPN',\n",
       "  'PUNCT',\n",
       "  'SCONJ',\n",
       "  'SYM',\n",
       "  'VERB',\n",
       "  'X',\n",
       "  '[PAD]'},\n",
       " 'Animacy': {'Anim', 'Inan', '[PAD]'},\n",
       " 'Case': {'Acc', 'Dat', 'Gen', 'Ins', 'Loc', 'Nom', 'Par', 'Voc', '[PAD]'},\n",
       " 'Gender': {'Fem', 'Masc', 'Neut', '[PAD]'},\n",
       " 'Number': {'Plur', 'Sing', '[PAD]'},\n",
       " 'Degree': {'Cmp', 'Pos', 'Sup', '[PAD]'},\n",
       " 'Aspect': {'Imp', 'Perf', '[PAD]'},\n",
       " 'Mood': {'Cnd', 'Imp', 'Ind', '[PAD]'},\n",
       " 'Tense': {'Fut', 'Past', 'Pres', '[PAD]'},\n",
       " 'VerbForm': {'Conv', 'Fin', 'Inf', 'Part', '[PAD]'},\n",
       " 'Voice': {'Act', 'Mid', 'Pass', '[PAD]'},\n",
       " 'Person': {'1', '2', '3', '[PAD]'},\n",
       " 'PronType': {'Dem', 'Ind', 'Int,Rel', 'Neg', 'Prs', 'Tot', '[PAD]'}}"
      ]
     },
     "execution_count": 123,
     "metadata": {},
     "output_type": "execute_result"
    }
   ],
   "source": [
    "all_tags"
   ]
  },
  {
   "cell_type": "code",
   "execution_count": 124,
   "metadata": {},
   "outputs": [],
   "source": [
    "id2tags = {k: None for k in all_tags}\n",
    "tag2ids = {k: None for k in all_tags}\n",
    "\n",
    "for k in all_tags:\n",
    "    id2tags[k] = {i: val for i, val in enumerate(all_tags[k])}\n",
    "\n",
    "for k in id2tags:\n",
    "    tag2ids[k] = {val: key for key, val in id2tags[k].items()}\n",
    "\n",
    "for k in all_tags:\n",
    "    zeroth_elem = id2tags[k][0]\n",
    "    if zeroth_elem != \"[PAD]\":\n",
    "\n",
    "        pad_idx = tag2ids[k][\"[PAD]\"]\n",
    "        id2tags[k][0] = \"[PAD]\"\n",
    "        id2tags[k][pad_idx] = zeroth_elem\n",
    "\n",
    "        tag2ids[k][\"[PAD]\"] = 0\n",
    "        tag2ids[k][zeroth_elem] = pad_idx\n"
   ]
  },
  {
   "cell_type": "code",
   "execution_count": 125,
   "metadata": {},
   "outputs": [
    {
     "data": {
      "text/plain": [
       "{'POS': {'NUM': 16,\n",
       "  'SYM': 1,\n",
       "  'CCONJ': 2,\n",
       "  'PROPN': 3,\n",
       "  'ADV': 4,\n",
       "  'VERB': 5,\n",
       "  'X': 6,\n",
       "  'NOUN': 7,\n",
       "  'ADJ': 8,\n",
       "  'PRON': 9,\n",
       "  'DET': 10,\n",
       "  'PUNCT': 11,\n",
       "  'PART': 12,\n",
       "  'AUX': 13,\n",
       "  'SCONJ': 14,\n",
       "  'INTJ': 15,\n",
       "  '[PAD]': 0,\n",
       "  'ADP': 17},\n",
       " 'Animacy': {'Anim': 2, 'Inan': 1, '[PAD]': 0},\n",
       " 'Case': {'Par': 4,\n",
       "  'Acc': 1,\n",
       "  'Loc': 2,\n",
       "  'Voc': 3,\n",
       "  '[PAD]': 0,\n",
       "  'Ins': 5,\n",
       "  'Gen': 6,\n",
       "  'Nom': 7,\n",
       "  'Dat': 8},\n",
       " 'Gender': {'[PAD]': 0, 'Fem': 1, 'Neut': 2, 'Masc': 3},\n",
       " 'Number': {'Sing': 2, 'Plur': 1, '[PAD]': 0},\n",
       " 'Degree': {'Pos': 1, '[PAD]': 0, 'Sup': 2, 'Cmp': 3},\n",
       " 'Aspect': {'Imp': 1, '[PAD]': 0, 'Perf': 2},\n",
       " 'Mood': {'[PAD]': 0, 'Ind': 1, 'Imp': 2, 'Cnd': 3},\n",
       " 'Tense': {'Fut': 3, 'Past': 1, 'Pres': 2, '[PAD]': 0},\n",
       " 'VerbForm': {'Conv': 3, 'Fin': 1, 'Inf': 2, '[PAD]': 0, 'Part': 4},\n",
       " 'Voice': {'Pass': 1, '[PAD]': 0, 'Mid': 2, 'Act': 3},\n",
       " 'Person': {'2': 2, '1': 1, '[PAD]': 0, '3': 3},\n",
       " 'PronType': {'Dem': 1,\n",
       "  '[PAD]': 0,\n",
       "  'Ind': 2,\n",
       "  'Tot': 3,\n",
       "  'Prs': 4,\n",
       "  'Neg': 5,\n",
       "  'Int,Rel': 6}}"
      ]
     },
     "execution_count": 125,
     "metadata": {},
     "output_type": "execute_result"
    }
   ],
   "source": [
    "tag2ids"
   ]
  },
  {
   "cell_type": "code",
   "execution_count": 126,
   "metadata": {},
   "outputs": [
    {
     "data": {
      "text/plain": [
       "{'POS': {0: '[PAD]',\n",
       "  1: 'SYM',\n",
       "  2: 'CCONJ',\n",
       "  3: 'PROPN',\n",
       "  4: 'ADV',\n",
       "  5: 'VERB',\n",
       "  6: 'X',\n",
       "  7: 'NOUN',\n",
       "  8: 'ADJ',\n",
       "  9: 'PRON',\n",
       "  10: 'DET',\n",
       "  11: 'PUNCT',\n",
       "  12: 'PART',\n",
       "  13: 'AUX',\n",
       "  14: 'SCONJ',\n",
       "  15: 'INTJ',\n",
       "  16: 'NUM',\n",
       "  17: 'ADP'},\n",
       " 'Animacy': {0: '[PAD]', 1: 'Inan', 2: 'Anim'},\n",
       " 'Case': {0: '[PAD]',\n",
       "  1: 'Acc',\n",
       "  2: 'Loc',\n",
       "  3: 'Voc',\n",
       "  4: 'Par',\n",
       "  5: 'Ins',\n",
       "  6: 'Gen',\n",
       "  7: 'Nom',\n",
       "  8: 'Dat'},\n",
       " 'Gender': {0: '[PAD]', 1: 'Fem', 2: 'Neut', 3: 'Masc'},\n",
       " 'Number': {0: '[PAD]', 1: 'Plur', 2: 'Sing'},\n",
       " 'Degree': {0: '[PAD]', 1: 'Pos', 2: 'Sup', 3: 'Cmp'},\n",
       " 'Aspect': {0: '[PAD]', 1: 'Imp', 2: 'Perf'},\n",
       " 'Mood': {0: '[PAD]', 1: 'Ind', 2: 'Imp', 3: 'Cnd'},\n",
       " 'Tense': {0: '[PAD]', 1: 'Past', 2: 'Pres', 3: 'Fut'},\n",
       " 'VerbForm': {0: '[PAD]', 1: 'Fin', 2: 'Inf', 3: 'Conv', 4: 'Part'},\n",
       " 'Voice': {0: '[PAD]', 1: 'Pass', 2: 'Mid', 3: 'Act'},\n",
       " 'Person': {0: '[PAD]', 1: '1', 2: '2', 3: '3'},\n",
       " 'PronType': {0: '[PAD]',\n",
       "  1: 'Dem',\n",
       "  2: 'Ind',\n",
       "  3: 'Tot',\n",
       "  4: 'Prs',\n",
       "  5: 'Neg',\n",
       "  6: 'Int,Rel'}}"
      ]
     },
     "execution_count": 126,
     "metadata": {},
     "output_type": "execute_result"
    }
   ],
   "source": [
    "id2tags"
   ]
  },
  {
   "cell_type": "code",
   "execution_count": 127,
   "metadata": {},
   "outputs": [
    {
     "data": {
      "text/plain": [
       "{'Animacy',\n",
       " 'Aspect',\n",
       " 'Case',\n",
       " 'Degree',\n",
       " 'Gender',\n",
       " 'Mood',\n",
       " 'Number',\n",
       " 'POS',\n",
       " 'Person',\n",
       " 'PronType',\n",
       " 'Tense',\n",
       " 'VerbForm',\n",
       " 'Voice'}"
      ]
     },
     "execution_count": 127,
     "metadata": {},
     "output_type": "execute_result"
    }
   ],
   "source": [
    "set(all_tags.keys())"
   ]
  },
  {
   "cell_type": "code",
   "execution_count": 128,
   "metadata": {},
   "outputs": [],
   "source": [
    "sorted_keys = sorted(all_tags.keys())"
   ]
  },
  {
   "cell_type": "code",
   "execution_count": 129,
   "metadata": {},
   "outputs": [
    {
     "data": {
      "text/plain": [
       "['Animacy',\n",
       " 'Aspect',\n",
       " 'Case',\n",
       " 'Degree',\n",
       " 'Gender',\n",
       " 'Mood',\n",
       " 'Number',\n",
       " 'POS',\n",
       " 'Person',\n",
       " 'PronType',\n",
       " 'Tense',\n",
       " 'VerbForm',\n",
       " 'Voice']"
      ]
     },
     "execution_count": 129,
     "metadata": {},
     "output_type": "execute_result"
    }
   ],
   "source": [
    "sorted_keys"
   ]
  },
  {
   "cell_type": "code",
   "execution_count": 130,
   "metadata": {},
   "outputs": [],
   "source": [
    "def get_grammar_dict(line:str, allowed_tags=set(all_tags.keys())):\n",
    "    pairs = split_grammar(line)\n",
    "    return {\n",
    "        k: tag2ids.get(\n",
    "            k,\n",
    "            dict()\n",
    "        ).get(\n",
    "            pairs.get(k, \"[PAD]\"),\n",
    "            0\n",
    "        )\n",
    "        for k\n",
    "        in allowed_tags\n",
    "    }"
   ]
  },
  {
   "cell_type": "code",
   "execution_count": 131,
   "metadata": {},
   "outputs": [
    {
     "data": {
      "text/plain": [
       "{'Tense': 0,\n",
       " 'Number': 0,\n",
       " 'Gender': 0,\n",
       " 'Case': 0,\n",
       " 'Aspect': 0,\n",
       " 'VerbForm': 0,\n",
       " 'POS': 7,\n",
       " 'Animacy': 1,\n",
       " 'Mood': 0,\n",
       " 'Person': 0,\n",
       " 'Degree': 0,\n",
       " 'Voice': 0,\n",
       " 'PronType': 0}"
      ]
     },
     "execution_count": 131,
     "metadata": {},
     "output_type": "execute_result"
    }
   ],
   "source": [
    "get_grammar_dict(\"POS=NOUN|Animacy=Inan\")"
   ]
  },
  {
   "cell_type": "code",
   "execution_count": 132,
   "metadata": {},
   "outputs": [],
   "source": [
    "def get_grammar_vector(line:str, allowed_tags=set(all_tags.keys())):\n",
    "    grammar_dict = get_grammar_dict(line, allowed_tags=allowed_tags)\n",
    "    return [grammar_dict[k] for k in sorted(grammar_dict.keys())]"
   ]
  },
  {
   "cell_type": "code",
   "execution_count": 133,
   "metadata": {},
   "outputs": [
    {
     "data": {
      "text/plain": [
       "[1, 0, 0, 0, 0, 0, 0, 7, 0, 0, 0, 0, 0]"
      ]
     },
     "execution_count": 133,
     "metadata": {},
     "output_type": "execute_result"
    }
   ],
   "source": [
    "# В алфавитном порядке\n",
    "get_grammar_vector(\"POS=NOUN|Animacy=Inan\")"
   ]
  },
  {
   "cell_type": "code",
   "execution_count": 134,
   "metadata": {},
   "outputs": [],
   "source": [
    "def grammar_vector_to_dict(vector, sorted_keys=sorted_keys):\n",
    "    return {\n",
    "        sorted_keys[i]: val\n",
    "        for i, val\n",
    "        in enumerate(vector)\n",
    "    }"
   ]
  },
  {
   "cell_type": "code",
   "execution_count": 135,
   "metadata": {},
   "outputs": [
    {
     "data": {
      "text/plain": [
       "{'Animacy': 1,\n",
       " 'Aspect': 0,\n",
       " 'Case': 0,\n",
       " 'Degree': 0,\n",
       " 'Gender': 0,\n",
       " 'Mood': 0,\n",
       " 'Number': 0,\n",
       " 'POS': 7,\n",
       " 'Person': 0,\n",
       " 'PronType': 0,\n",
       " 'Tense': 0,\n",
       " 'VerbForm': 0,\n",
       " 'Voice': 0}"
      ]
     },
     "execution_count": 135,
     "metadata": {},
     "output_type": "execute_result"
    }
   ],
   "source": [
    "grammar_vector_to_dict(\n",
    "    get_grammar_vector(\"POS=NOUN|Animacy=Inan\")\n",
    ")"
   ]
  },
  {
   "cell_type": "code",
   "execution_count": 136,
   "metadata": {},
   "outputs": [],
   "source": [
    "def grammar_dict_to_line(dict, id2tags=id2tags, pad_idx=0):\n",
    "    return \"|\".join(\n",
    "        [\n",
    "            f\"{tag}={id2tags[tag][dict[tag]]}\"\n",
    "            for tag\n",
    "            in dict\n",
    "            if dict[tag] != pad_idx\n",
    "        ]\n",
    "    )"
   ]
  },
  {
   "cell_type": "code",
   "execution_count": 137,
   "metadata": {},
   "outputs": [
    {
     "data": {
      "text/plain": [
       "'Animacy=Inan|POS=NOUN'"
      ]
     },
     "execution_count": 137,
     "metadata": {},
     "output_type": "execute_result"
    }
   ],
   "source": [
    "grammar_dict_to_line(\n",
    "    grammar_vector_to_dict(\n",
    "        get_grammar_vector(\"POS=NOUN|Animacy=Inan\")\n",
    "    )\n",
    ")"
   ]
  },
  {
   "cell_type": "code",
   "execution_count": 138,
   "metadata": {},
   "outputs": [],
   "source": [
    "def extract_features(sentence, index, neg=False, word_dict=word_dict):\n",
    "\n",
    "    word, target_tags = sentence[index]\n",
    "\n",
    "    # word = word.lower()\n",
    "\n",
    "    if index - 1 >= 0:\n",
    "        _, prev_tag_1 = sentence[index - 1]\n",
    "    else:\n",
    "        _, prev_tag_1 = \"[PAD]\", \"DUMMY=dummy|dummy=DUMMY\"\n",
    "\n",
    "    # prev_tag_1 = get_grammar_dict(prev_tag_1)\n",
    "    prev_tag_1 = get_grammar_vector(prev_tag_1)\n",
    "\n",
    "    if index - 2 >= 0:\n",
    "        _, prev_tag_2 = sentence[index - 2]\n",
    "    else:\n",
    "        _, prev_tag_2 = \"[PAD]\", \"DUMMY=dummy|dummy=DUMMY\"\n",
    "\n",
    "    prev_tag_2 = get_grammar_vector(prev_tag_2)\n",
    "\n",
    "    if index - 3 >= 0:\n",
    "        _, prev_tag_3 = sentence[index - 3]\n",
    "    else:\n",
    "        _, prev_tag_3 = \"[PAD]\", \"DUMMY=dummy|dummy=DUMMY\"\n",
    "\n",
    "    prev_tag_3 = get_grammar_vector(prev_tag_3)\n",
    "\n",
    "    # prev_tag_2 = get_grammar_dict(prev_tag_2)\n",
    "    \n",
    "\n",
    "    target_vector = get_grammar_vector(target_tags)\n",
    "\n",
    "    if neg:\n",
    "        for parse in word_dict[word.lower()]:\n",
    "            vector = get_grammar_vector(parse)\n",
    "            if vector != target_vector:\n",
    "                target_vector = vector\n",
    "                break\n",
    "        else:\n",
    "            target_vector = [0]*len(target_vector)\n",
    "\n",
    "    training_row = [\n",
    "        int(word.isupper()),\n",
    "        int(word.istitle()),\n",
    "        int(word.isdigit()),\n",
    "        *prev_tag_1,\n",
    "        *prev_tag_2,\n",
    "        *prev_tag_3,\n",
    "        *target_vector\n",
    "    ]\n",
    "\n",
    "    return word.lower(), training_row, int(not neg)"
   ]
  },
  {
   "cell_type": "code",
   "execution_count": 139,
   "metadata": {},
   "outputs": [
    {
     "data": {
      "text/plain": [
       "('начальник',\n",
       " {'POS=NOUN|Animacy=Anim|Case=Nom|Gender=Masc|Number=Sing': 72},\n",
       " 1)"
      ]
     },
     "execution_count": 139,
     "metadata": {},
     "output_type": "execute_result"
    }
   ],
   "source": [
    "word, trr, tstr = extract_features(prep_entry(train_data[1]), 0)\n",
    "word, word_dict.get(word.lower(), \"DUMMY=dummy|dummy=DUMMY\"), tstr"
   ]
  },
  {
   "cell_type": "code",
   "execution_count": 140,
   "metadata": {},
   "outputs": [
    {
     "data": {
      "text/plain": [
       "('областного', {'POS=ADJ|Case=Gen|Degree=Pos|Gender=Masc|Number=Sing': 6}, 1)"
      ]
     },
     "execution_count": 140,
     "metadata": {},
     "output_type": "execute_result"
    }
   ],
   "source": [
    "word, trr, tstr = extract_features(prep_entry(train_data[1]), 1)\n",
    "word, word_dict.get(word.lower(), \"DUMMY=dummy|dummy=DUMMY\"), tstr"
   ]
  },
  {
   "cell_type": "code",
   "execution_count": 141,
   "metadata": {},
   "outputs": [
    {
     "data": {
      "text/plain": [
       "('управления',\n",
       " {'POS=NOUN|Animacy=Inan|Case=Gen|Gender=Neut|Number=Sing': 185,\n",
       "  'POS=PROPN|Animacy=Inan|Case=Gen|Gender=Neut|Number=Sing': 10},\n",
       " 1)"
      ]
     },
     "execution_count": 141,
     "metadata": {},
     "output_type": "execute_result"
    }
   ],
   "source": [
    "word, trr, tstr = extract_features(prep_entry(train_data[1]), 2)\n",
    "word, word_dict.get(word.lower(), \"DUMMY=dummy|dummy=DUMMY\"), tstr"
   ]
  },
  {
   "cell_type": "code",
   "execution_count": 142,
   "metadata": {},
   "outputs": [
    {
     "data": {
      "text/plain": [
       "('управления',\n",
       " {'POS=NOUN|Animacy=Inan|Case=Gen|Gender=Neut|Number=Sing': 185,\n",
       "  'POS=PROPN|Animacy=Inan|Case=Gen|Gender=Neut|Number=Sing': 10},\n",
       " 0)"
      ]
     },
     "execution_count": 142,
     "metadata": {},
     "output_type": "execute_result"
    }
   ],
   "source": [
    "word, trr, tstr = extract_features(prep_entry(train_data[1]), 2, neg=True)\n",
    "word, word_dict.get(word.lower(), \"DUMMY=dummy|dummy=DUMMY\"), tstr"
   ]
  },
  {
   "cell_type": "code",
   "execution_count": 143,
   "metadata": {},
   "outputs": [
    {
     "data": {
      "text/plain": [
       "[0,\n",
       " 0,\n",
       " 0,\n",
       " 0,\n",
       " 0,\n",
       " 6,\n",
       " 1,\n",
       " 2,\n",
       " 0,\n",
       " 2,\n",
       " 8,\n",
       " 0,\n",
       " 0,\n",
       " 0,\n",
       " 0,\n",
       " 0,\n",
       " 2,\n",
       " 0,\n",
       " 7,\n",
       " 0,\n",
       " 3,\n",
       " 0,\n",
       " 2,\n",
       " 7,\n",
       " 0,\n",
       " 0,\n",
       " 0,\n",
       " 0,\n",
       " 0,\n",
       " 0,\n",
       " 0,\n",
       " 0,\n",
       " 0,\n",
       " 0,\n",
       " 0,\n",
       " 0,\n",
       " 0,\n",
       " 0,\n",
       " 0,\n",
       " 0,\n",
       " 0,\n",
       " 0,\n",
       " 1,\n",
       " 0,\n",
       " 6,\n",
       " 0,\n",
       " 2,\n",
       " 0,\n",
       " 2,\n",
       " 3,\n",
       " 0,\n",
       " 0,\n",
       " 0,\n",
       " 0,\n",
       " 0]"
      ]
     },
     "execution_count": 143,
     "metadata": {},
     "output_type": "execute_result"
    }
   ],
   "source": [
    "trr"
   ]
  },
  {
   "cell_type": "code",
   "execution_count": 144,
   "metadata": {},
   "outputs": [
    {
     "data": {
      "text/plain": [
       "0"
      ]
     },
     "execution_count": 144,
     "metadata": {},
     "output_type": "execute_result"
    }
   ],
   "source": [
    "tstr"
   ]
  },
  {
   "cell_type": "code",
   "execution_count": 145,
   "metadata": {},
   "outputs": [],
   "source": [
    "def gen_training_row(train_data):\n",
    "    while True:\n",
    "        for i, entry in enumerate(train_data):\n",
    "            parsed_entry = prep_entry(entry)\n",
    "            for j in range(len(parsed_entry)):\n",
    "                yield extract_features(parsed_entry, j)\n",
    "                yield extract_features(parsed_entry, j, neg=True)\n"
   ]
  },
  {
   "cell_type": "code",
   "execution_count": 146,
   "metadata": {},
   "outputs": [],
   "source": [
    "gen_train = gen_training_row(train_data)\n",
    "gen_test  = gen_training_row(test_data)"
   ]
  },
  {
   "cell_type": "code",
   "execution_count": 147,
   "metadata": {},
   "outputs": [],
   "source": [
    "from lightgbm import LGBMClassifier\n",
    "import numpy as np\n",
    "from tqdm import tqdm"
   ]
  },
  {
   "cell_type": "code",
   "execution_count": 148,
   "metadata": {},
   "outputs": [],
   "source": [
    "model = LGBMClassifier(\n",
    "    objective=\"binary\",\n",
    "    metric=\"auc\",\n",
    "    boosting_type=\"gbdt\",\n",
    "    num_leaves=31,\n",
    "    learning_rate=0.05,\n",
    "    verbose=-1\n",
    ")"
   ]
  },
  {
   "cell_type": "code",
   "execution_count": 149,
   "metadata": {},
   "outputs": [],
   "source": [
    "EPOCHS = 5000\n",
    "BATCH_SIZE = 15000"
   ]
  },
  {
   "cell_type": "code",
   "execution_count": 150,
   "metadata": {},
   "outputs": [
    {
     "name": "stderr",
     "output_type": "stream",
     "text": [
      "100%|██████████| 5000/5000 [36:17<00:00,  2.30it/s] \n"
     ]
    }
   ],
   "source": [
    "for epoch in tqdm(range(1, EPOCHS + 1)):\n",
    "    X_bar = []\n",
    "    y_bar = []\n",
    "\n",
    "    for _ in range(BATCH_SIZE):\n",
    "        word, features, labels = next(gen_train)\n",
    "        X_bar.append(features)\n",
    "        y_bar.append(labels)\n",
    "\n",
    "    X_bar = np.array(X_bar)\n",
    "    y_bar = np.array(y_bar)\n",
    "\n",
    "    model.fit(X_bar, y_bar)"
   ]
  },
  {
   "cell_type": "code",
   "execution_count": 160,
   "metadata": {},
   "outputs": [],
   "source": [
    "# DEBUG = False\n",
    "DEBUG = True"
   ]
  },
  {
   "cell_type": "code",
   "execution_count": 161,
   "metadata": {},
   "outputs": [],
   "source": [
    "def disambiguate_sentence(tokens:list[str], model:LGBMClassifier):\n",
    "    prep_tokens = []\n",
    "\n",
    "    for tok in tokens:\n",
    "        entries = word_dict.get(tok.lower(), dict())\n",
    "\n",
    "        if len(entries) == 0:\n",
    "            prep_tokens.append([tok, \"Unkn=Unkn\"])\n",
    "\n",
    "        elif len(entries) == 1:\n",
    "            prep_tokens.append([tok, next(iter(entries))])\n",
    "\n",
    "        else:\n",
    "            parses_probas = []\n",
    "\n",
    "            for parse in entries:\n",
    "                try_tokens = prep_tokens.copy() + [[tok, parse]]\n",
    "                feats = np.array(extract_features(try_tokens, len(try_tokens)-1)[1]).reshape(1, -1)\n",
    "\n",
    "                proba = model.predict_proba(feats, verbose=-1)[0, -1]\n",
    "                if DEBUG:\n",
    "                    print(tok, parse, proba, sep=\"\\t\")\n",
    "                parses_probas.append([parse, proba])\n",
    "\n",
    "            decided_entry = max(parses_probas, key = lambda pair: pair[1])[0]\n",
    "            prep_tokens.append([tok, decided_entry])\n",
    "\n",
    "\n",
    "    return prep_tokens"
   ]
  },
  {
   "cell_type": "markdown",
   "metadata": {},
   "source": [
    "### Пример 1: часть речи"
   ]
  },
  {
   "cell_type": "code",
   "execution_count": 168,
   "metadata": {},
   "outputs": [
    {
     "name": "stdout",
     "output_type": "stream",
     "text": [
      "они\tPOS=PRON|Case=Nom|Number=Plur|Person=3|PronType=Prs\t0.8574635691041903\n",
      "они\tPOS=PRON|Case=Nom|Number=Plur|Person=3\t0.0704212368055494\n",
      "стали\tPOS=VERB|Aspect=Perf|Mood=Ind|Number=Plur|Tense=Past|VerbForm=Fin|Voice=Act\t0.967774957402844\n",
      "стали\tPOS=VERB|Aspect=Perf|Mood=Ind|Number=Plur|Tense=Past|VerbForm=Fin|Voice=Mid\t0.9707824405681388\n",
      "стали\tPOS=NOUN|Animacy=Inan|Case=Gen|Gender=Fem|Number=Sing\t0.8097826302937551\n"
     ]
    },
    {
     "name": "stderr",
     "output_type": "stream",
     "text": [
      "/home/smertlove/sandbox/hse/ToFL_labs/.venv/lib/python3.10/site-packages/sklearn/utils/validation.py:2739: UserWarning: X does not have valid feature names, but LGBMClassifier was fitted with feature names\n",
      "  warnings.warn(\n",
      "/home/smertlove/sandbox/hse/ToFL_labs/.venv/lib/python3.10/site-packages/sklearn/utils/validation.py:2739: UserWarning: X does not have valid feature names, but LGBMClassifier was fitted with feature names\n",
      "  warnings.warn(\n",
      "/home/smertlove/sandbox/hse/ToFL_labs/.venv/lib/python3.10/site-packages/sklearn/utils/validation.py:2739: UserWarning: X does not have valid feature names, but LGBMClassifier was fitted with feature names\n",
      "  warnings.warn(\n",
      "/home/smertlove/sandbox/hse/ToFL_labs/.venv/lib/python3.10/site-packages/sklearn/utils/validation.py:2739: UserWarning: X does not have valid feature names, but LGBMClassifier was fitted with feature names\n",
      "  warnings.warn(\n",
      "/home/smertlove/sandbox/hse/ToFL_labs/.venv/lib/python3.10/site-packages/sklearn/utils/validation.py:2739: UserWarning: X does not have valid feature names, but LGBMClassifier was fitted with feature names\n",
      "  warnings.warn(\n"
     ]
    },
    {
     "data": {
      "text/plain": [
       "[['В', 'POS=ADP'],\n",
       " ['итоге', 'POS=NOUN|Animacy=Inan|Case=Loc|Gender=Masc|Number=Sing'],\n",
       " ['они', 'POS=PRON|Case=Nom|Number=Plur|Person=3|PronType=Prs'],\n",
       " ['стали',\n",
       "  'POS=VERB|Aspect=Perf|Mood=Ind|Number=Plur|Tense=Past|VerbForm=Fin|Voice=Mid'],\n",
       " ['разбойниками', 'Unkn=Unkn'],\n",
       " ['.', 'POS=PUNCT']]"
      ]
     },
     "execution_count": 168,
     "metadata": {},
     "output_type": "execute_result"
    }
   ],
   "source": [
    "disambiguate_sentence(\"В итоге они стали разбойниками .\".split(), model)"
   ]
  },
  {
   "cell_type": "code",
   "execution_count": 169,
   "metadata": {},
   "outputs": [
    {
     "name": "stdout",
     "output_type": "stream",
     "text": [
      "Завод\tPOS=NOUN|Animacy=Inan|Case=Nom|Gender=Masc|Number=Sing\t0.8747726228080009\n",
      "Завод\tPOS=NOUN|Animacy=Inan|Case=Acc|Gender=Masc|Number=Sing\t0.3022019757904673\n",
      "стали\tPOS=VERB|Aspect=Perf|Mood=Ind|Number=Plur|Tense=Past|VerbForm=Fin|Voice=Act\t0.9680747421354197\n",
      "стали\tPOS=VERB|Aspect=Perf|Mood=Ind|Number=Plur|Tense=Past|VerbForm=Fin|Voice=Mid\t0.9701506220205404\n",
      "стали\tPOS=NOUN|Animacy=Inan|Case=Gen|Gender=Fem|Number=Sing\t0.8206447256887596\n"
     ]
    },
    {
     "name": "stderr",
     "output_type": "stream",
     "text": [
      "/home/smertlove/sandbox/hse/ToFL_labs/.venv/lib/python3.10/site-packages/sklearn/utils/validation.py:2739: UserWarning: X does not have valid feature names, but LGBMClassifier was fitted with feature names\n",
      "  warnings.warn(\n",
      "/home/smertlove/sandbox/hse/ToFL_labs/.venv/lib/python3.10/site-packages/sklearn/utils/validation.py:2739: UserWarning: X does not have valid feature names, but LGBMClassifier was fitted with feature names\n",
      "  warnings.warn(\n",
      "/home/smertlove/sandbox/hse/ToFL_labs/.venv/lib/python3.10/site-packages/sklearn/utils/validation.py:2739: UserWarning: X does not have valid feature names, but LGBMClassifier was fitted with feature names\n",
      "  warnings.warn(\n",
      "/home/smertlove/sandbox/hse/ToFL_labs/.venv/lib/python3.10/site-packages/sklearn/utils/validation.py:2739: UserWarning: X does not have valid feature names, but LGBMClassifier was fitted with feature names\n",
      "  warnings.warn(\n",
      "/home/smertlove/sandbox/hse/ToFL_labs/.venv/lib/python3.10/site-packages/sklearn/utils/validation.py:2739: UserWarning: X does not have valid feature names, but LGBMClassifier was fitted with feature names\n",
      "  warnings.warn(\n"
     ]
    },
    {
     "data": {
      "text/plain": [
       "[['Завод', 'POS=NOUN|Animacy=Inan|Case=Nom|Gender=Masc|Number=Sing'],\n",
       " [',', 'POS=PUNCT'],\n",
       " ['производящий', 'Unkn=Unkn'],\n",
       " ['стали',\n",
       "  'POS=VERB|Aspect=Perf|Mood=Ind|Number=Plur|Tense=Past|VerbForm=Fin|Voice=Mid'],\n",
       " ['.', 'POS=PUNCT']]"
      ]
     },
     "execution_count": 169,
     "metadata": {},
     "output_type": "execute_result"
    }
   ],
   "source": [
    "disambiguate_sentence(\"Завод , производящий стали .\".split(), model)"
   ]
  },
  {
   "cell_type": "code",
   "execution_count": 170,
   "metadata": {},
   "outputs": [
    {
     "name": "stdout",
     "output_type": "stream",
     "text": [
      "стали\tPOS=VERB|Aspect=Perf|Mood=Ind|Number=Plur|Tense=Past|VerbForm=Fin|Voice=Act\t0.9680747421354197\n",
      "стали\tPOS=VERB|Aspect=Perf|Mood=Ind|Number=Plur|Tense=Past|VerbForm=Fin|Voice=Mid\t0.9701506220205404\n",
      "стали\tPOS=NOUN|Animacy=Inan|Case=Gen|Gender=Fem|Number=Sing\t0.7618211837673081\n",
      "которые\tPOS=PRON|Case=Acc|PronType=Int,Rel\t0.5224583542141229\n",
      "которые\tPOS=PRON|Case=Nom|PronType=Int,Rel\t0.2449058229316219\n",
      "которые\tPOS=PRON|Case=Nom|Number=Plur\t0.06184213261852183\n",
      "которые\tPOS=PRON|Animacy=Inan|Case=Acc|Number=Plur\t0.06719047634263982\n",
      "мы\tPOS=PRON|Case=Nom|Number=Plur|Person=1|PronType=Prs\t0.8455422376251126\n",
      "мы\tPOS=PRON|Case=Nom|Number=Plur|Person=1\t0.06054985085902337\n"
     ]
    },
    {
     "name": "stderr",
     "output_type": "stream",
     "text": [
      "/home/smertlove/sandbox/hse/ToFL_labs/.venv/lib/python3.10/site-packages/sklearn/utils/validation.py:2739: UserWarning: X does not have valid feature names, but LGBMClassifier was fitted with feature names\n",
      "  warnings.warn(\n",
      "/home/smertlove/sandbox/hse/ToFL_labs/.venv/lib/python3.10/site-packages/sklearn/utils/validation.py:2739: UserWarning: X does not have valid feature names, but LGBMClassifier was fitted with feature names\n",
      "  warnings.warn(\n",
      "/home/smertlove/sandbox/hse/ToFL_labs/.venv/lib/python3.10/site-packages/sklearn/utils/validation.py:2739: UserWarning: X does not have valid feature names, but LGBMClassifier was fitted with feature names\n",
      "  warnings.warn(\n",
      "/home/smertlove/sandbox/hse/ToFL_labs/.venv/lib/python3.10/site-packages/sklearn/utils/validation.py:2739: UserWarning: X does not have valid feature names, but LGBMClassifier was fitted with feature names\n",
      "  warnings.warn(\n",
      "/home/smertlove/sandbox/hse/ToFL_labs/.venv/lib/python3.10/site-packages/sklearn/utils/validation.py:2739: UserWarning: X does not have valid feature names, but LGBMClassifier was fitted with feature names\n",
      "  warnings.warn(\n",
      "/home/smertlove/sandbox/hse/ToFL_labs/.venv/lib/python3.10/site-packages/sklearn/utils/validation.py:2739: UserWarning: X does not have valid feature names, but LGBMClassifier was fitted with feature names\n",
      "  warnings.warn(\n",
      "/home/smertlove/sandbox/hse/ToFL_labs/.venv/lib/python3.10/site-packages/sklearn/utils/validation.py:2739: UserWarning: X does not have valid feature names, but LGBMClassifier was fitted with feature names\n",
      "  warnings.warn(\n",
      "/home/smertlove/sandbox/hse/ToFL_labs/.venv/lib/python3.10/site-packages/sklearn/utils/validation.py:2739: UserWarning: X does not have valid feature names, but LGBMClassifier was fitted with feature names\n",
      "  warnings.warn(\n",
      "/home/smertlove/sandbox/hse/ToFL_labs/.venv/lib/python3.10/site-packages/sklearn/utils/validation.py:2739: UserWarning: X does not have valid feature names, but LGBMClassifier was fitted with feature names\n",
      "  warnings.warn(\n"
     ]
    },
    {
     "data": {
      "text/plain": [
       "[['стали',\n",
       "  'POS=VERB|Aspect=Perf|Mood=Ind|Number=Plur|Tense=Past|VerbForm=Fin|Voice=Mid'],\n",
       " [',', 'POS=PUNCT'],\n",
       " ['которые', 'POS=PRON|Case=Acc|PronType=Int,Rel'],\n",
       " ['мы', 'POS=PRON|Case=Nom|Number=Plur|Person=1|PronType=Prs'],\n",
       " ['производим', 'Unkn=Unkn'],\n",
       " ['.', 'POS=PUNCT']]"
      ]
     },
     "execution_count": 170,
     "metadata": {},
     "output_type": "execute_result"
    }
   ],
   "source": [
    "# Недостаточно контекста\n",
    "disambiguate_sentence(\"стали , которые мы производим .\".split(), model)"
   ]
  },
  {
   "cell_type": "markdown",
   "metadata": {},
   "source": [
    "### Пример 2: падеж"
   ]
  },
  {
   "cell_type": "code",
   "execution_count": 171,
   "metadata": {},
   "outputs": [
    {
     "name": "stdout",
     "output_type": "stream",
     "text": [
      "связи\tPOS=NOUN|Animacy=Inan|Case=Gen|Gender=Fem|Number=Sing\t0.8713172024249778\n",
      "связи\tPOS=NOUN|Animacy=Inan|Case=Loc|Gender=Fem|Number=Sing\t0.1756566290122286\n",
      "связи\tPOS=NOUN|Animacy=Inan|Case=Acc|Gender=Fem|Number=Plur\t0.19450508188085774\n",
      "связи\tPOS=NOUN|Animacy=Inan|Case=Nom|Gender=Fem|Number=Plur\t0.7420672195614567\n"
     ]
    },
    {
     "name": "stderr",
     "output_type": "stream",
     "text": [
      "/home/smertlove/sandbox/hse/ToFL_labs/.venv/lib/python3.10/site-packages/sklearn/utils/validation.py:2739: UserWarning: X does not have valid feature names, but LGBMClassifier was fitted with feature names\n",
      "  warnings.warn(\n",
      "/home/smertlove/sandbox/hse/ToFL_labs/.venv/lib/python3.10/site-packages/sklearn/utils/validation.py:2739: UserWarning: X does not have valid feature names, but LGBMClassifier was fitted with feature names\n",
      "  warnings.warn(\n",
      "/home/smertlove/sandbox/hse/ToFL_labs/.venv/lib/python3.10/site-packages/sklearn/utils/validation.py:2739: UserWarning: X does not have valid feature names, but LGBMClassifier was fitted with feature names\n",
      "  warnings.warn(\n",
      "/home/smertlove/sandbox/hse/ToFL_labs/.venv/lib/python3.10/site-packages/sklearn/utils/validation.py:2739: UserWarning: X does not have valid feature names, but LGBMClassifier was fitted with feature names\n",
      "  warnings.warn(\n"
     ]
    },
    {
     "data": {
      "text/plain": [
       "[['Для', 'POS=ADP'],\n",
       " ['установления', 'POS=NOUN|Animacy=Inan|Case=Gen|Gender=Neut|Number=Sing'],\n",
       " ['связи', 'POS=NOUN|Animacy=Inan|Case=Gen|Gender=Fem|Number=Sing'],\n",
       " ['с', 'POS=ADP'],\n",
       " ['пришельцами', 'Unkn=Unkn'],\n",
       " ['.', 'POS=PUNCT']]"
      ]
     },
     "execution_count": 171,
     "metadata": {},
     "output_type": "execute_result"
    }
   ],
   "source": [
    "disambiguate_sentence(\"Для установления связи с пришельцами .\".split(), model)"
   ]
  },
  {
   "cell_type": "code",
   "execution_count": 172,
   "metadata": {},
   "outputs": [
    {
     "name": "stdout",
     "output_type": "stream",
     "text": [
      "Наши\tPOS=DET|Case=Nom|Number=Plur|Poss=Yes|PronType=Prs\t0.6362390043419599\n",
      "Наши\tPOS=DET|Case=Acc|Number=Plur|Poss=Yes|PronType=Prs\t0.5534279071909028\n",
      "Наши\tPOS=DET|Animacy=Inan|Case=Acc|Number=Plur\t0.06601800849158747\n",
      "Наши\tPOS=DET|Case=Nom|Number=Plur\t0.07254468550448342\n",
      "связи\tPOS=NOUN|Animacy=Inan|Case=Gen|Gender=Fem|Number=Sing\t0.8097826302937551\n",
      "связи\tPOS=NOUN|Animacy=Inan|Case=Loc|Gender=Fem|Number=Sing\t0.22106952734012555\n",
      "связи\tPOS=NOUN|Animacy=Inan|Case=Acc|Gender=Fem|Number=Plur\t0.19236769378562488\n",
      "связи\tPOS=NOUN|Animacy=Inan|Case=Nom|Gender=Fem|Number=Plur\t0.8926212844364179\n"
     ]
    },
    {
     "name": "stderr",
     "output_type": "stream",
     "text": [
      "/home/smertlove/sandbox/hse/ToFL_labs/.venv/lib/python3.10/site-packages/sklearn/utils/validation.py:2739: UserWarning: X does not have valid feature names, but LGBMClassifier was fitted with feature names\n",
      "  warnings.warn(\n",
      "/home/smertlove/sandbox/hse/ToFL_labs/.venv/lib/python3.10/site-packages/sklearn/utils/validation.py:2739: UserWarning: X does not have valid feature names, but LGBMClassifier was fitted with feature names\n",
      "  warnings.warn(\n",
      "/home/smertlove/sandbox/hse/ToFL_labs/.venv/lib/python3.10/site-packages/sklearn/utils/validation.py:2739: UserWarning: X does not have valid feature names, but LGBMClassifier was fitted with feature names\n",
      "  warnings.warn(\n",
      "/home/smertlove/sandbox/hse/ToFL_labs/.venv/lib/python3.10/site-packages/sklearn/utils/validation.py:2739: UserWarning: X does not have valid feature names, but LGBMClassifier was fitted with feature names\n",
      "  warnings.warn(\n",
      "/home/smertlove/sandbox/hse/ToFL_labs/.venv/lib/python3.10/site-packages/sklearn/utils/validation.py:2739: UserWarning: X does not have valid feature names, but LGBMClassifier was fitted with feature names\n",
      "  warnings.warn(\n",
      "/home/smertlove/sandbox/hse/ToFL_labs/.venv/lib/python3.10/site-packages/sklearn/utils/validation.py:2739: UserWarning: X does not have valid feature names, but LGBMClassifier was fitted with feature names\n",
      "  warnings.warn(\n",
      "/home/smertlove/sandbox/hse/ToFL_labs/.venv/lib/python3.10/site-packages/sklearn/utils/validation.py:2739: UserWarning: X does not have valid feature names, but LGBMClassifier was fitted with feature names\n",
      "  warnings.warn(\n",
      "/home/smertlove/sandbox/hse/ToFL_labs/.venv/lib/python3.10/site-packages/sklearn/utils/validation.py:2739: UserWarning: X does not have valid feature names, but LGBMClassifier was fitted with feature names\n",
      "  warnings.warn(\n"
     ]
    },
    {
     "data": {
      "text/plain": [
       "[['Наши', 'POS=DET|Case=Nom|Number=Plur|Poss=Yes|PronType=Prs'],\n",
       " ['связи', 'POS=NOUN|Animacy=Inan|Case=Nom|Gender=Fem|Number=Plur'],\n",
       " ['с', 'POS=ADP'],\n",
       " ['коллегами', 'POS=NOUN|Animacy=Anim|Case=Ins|Gender=Masc|Number=Plur'],\n",
       " ['.', 'POS=PUNCT']]"
      ]
     },
     "execution_count": 172,
     "metadata": {},
     "output_type": "execute_result"
    }
   ],
   "source": [
    "disambiguate_sentence(\"Наши связи с коллегами .\".split(), model)"
   ]
  },
  {
   "cell_type": "code",
   "execution_count": 173,
   "metadata": {},
   "outputs": [
    {
     "name": "stdout",
     "output_type": "stream",
     "text": [
      "18\tPOS=NUM|NumType=Card\t0.6838407988105323\n",
      "18\tPOS=NUM\t0.6838407988105323\n",
      "18\tPOS=ADJ\t0.48508467736522665\n",
      "человек\tPOS=NOUN|Animacy=Anim|Case=Nom|Gender=Masc|Number=Sing\t0.8827861755771124\n",
      "человек\tPOS=NOUN|Animacy=Anim|Case=Gen|Gender=Masc|Number=Plur\t0.7777328596403669\n"
     ]
    },
    {
     "name": "stderr",
     "output_type": "stream",
     "text": [
      "/home/smertlove/sandbox/hse/ToFL_labs/.venv/lib/python3.10/site-packages/sklearn/utils/validation.py:2739: UserWarning: X does not have valid feature names, but LGBMClassifier was fitted with feature names\n",
      "  warnings.warn(\n",
      "/home/smertlove/sandbox/hse/ToFL_labs/.venv/lib/python3.10/site-packages/sklearn/utils/validation.py:2739: UserWarning: X does not have valid feature names, but LGBMClassifier was fitted with feature names\n",
      "  warnings.warn(\n",
      "/home/smertlove/sandbox/hse/ToFL_labs/.venv/lib/python3.10/site-packages/sklearn/utils/validation.py:2739: UserWarning: X does not have valid feature names, but LGBMClassifier was fitted with feature names\n",
      "  warnings.warn(\n",
      "/home/smertlove/sandbox/hse/ToFL_labs/.venv/lib/python3.10/site-packages/sklearn/utils/validation.py:2739: UserWarning: X does not have valid feature names, but LGBMClassifier was fitted with feature names\n",
      "  warnings.warn(\n",
      "/home/smertlove/sandbox/hse/ToFL_labs/.venv/lib/python3.10/site-packages/sklearn/utils/validation.py:2739: UserWarning: X does not have valid feature names, but LGBMClassifier was fitted with feature names\n",
      "  warnings.warn(\n"
     ]
    },
    {
     "data": {
      "text/plain": [
       "[['18', 'POS=NUM|NumType=Card'],\n",
       " ['человек', 'POS=NOUN|Animacy=Anim|Case=Nom|Gender=Masc|Number=Sing'],\n",
       " ['.', 'POS=PUNCT']]"
      ]
     },
     "execution_count": 173,
     "metadata": {},
     "output_type": "execute_result"
    }
   ],
   "source": [
    "disambiguate_sentence(\"18 человек .\".split(), model)"
   ]
  },
  {
   "cell_type": "code",
   "execution_count": null,
   "metadata": {},
   "outputs": [
    {
     "name": "stdout",
     "output_type": "stream",
     "text": [
      "Несколько\tPOS=ADV|Degree=Pos\t0.7705854914602377\n",
      "Несколько\tPOS=NUM|Animacy=Inan|Case=Acc|NumType=Card\t0.5530824330719456\n",
      "Несколько\tPOS=NUM|Case=Nom|NumType=Card\t0.651617060870511\n",
      "Несколько\tPOS=NUM|Case=Nom\t0.651617060870511\n",
      "Несколько\tPOS=NUM|Animacy=Inan|Case=Acc\t0.5530824330719456\n",
      "человек\tPOS=NOUN|Animacy=Anim|Case=Nom|Gender=Masc|Number=Sing\t0.8441678757850495\n",
      "человек\tPOS=NOUN|Animacy=Anim|Case=Gen|Gender=Masc|Number=Plur\t0.7648674332679221\n"
     ]
    },
    {
     "name": "stderr",
     "output_type": "stream",
     "text": [
      "/home/smertlove/sandbox/hse/ToFL_labs/.venv/lib/python3.10/site-packages/sklearn/utils/validation.py:2739: UserWarning: X does not have valid feature names, but LGBMClassifier was fitted with feature names\n",
      "  warnings.warn(\n",
      "/home/smertlove/sandbox/hse/ToFL_labs/.venv/lib/python3.10/site-packages/sklearn/utils/validation.py:2739: UserWarning: X does not have valid feature names, but LGBMClassifier was fitted with feature names\n",
      "  warnings.warn(\n",
      "/home/smertlove/sandbox/hse/ToFL_labs/.venv/lib/python3.10/site-packages/sklearn/utils/validation.py:2739: UserWarning: X does not have valid feature names, but LGBMClassifier was fitted with feature names\n",
      "  warnings.warn(\n",
      "/home/smertlove/sandbox/hse/ToFL_labs/.venv/lib/python3.10/site-packages/sklearn/utils/validation.py:2739: UserWarning: X does not have valid feature names, but LGBMClassifier was fitted with feature names\n",
      "  warnings.warn(\n",
      "/home/smertlove/sandbox/hse/ToFL_labs/.venv/lib/python3.10/site-packages/sklearn/utils/validation.py:2739: UserWarning: X does not have valid feature names, but LGBMClassifier was fitted with feature names\n",
      "  warnings.warn(\n",
      "/home/smertlove/sandbox/hse/ToFL_labs/.venv/lib/python3.10/site-packages/sklearn/utils/validation.py:2739: UserWarning: X does not have valid feature names, but LGBMClassifier was fitted with feature names\n",
      "  warnings.warn(\n",
      "/home/smertlove/sandbox/hse/ToFL_labs/.venv/lib/python3.10/site-packages/sklearn/utils/validation.py:2739: UserWarning: X does not have valid feature names, but LGBMClassifier was fitted with feature names\n",
      "  warnings.warn(\n"
     ]
    },
    {
     "data": {
      "text/plain": [
       "[['Несколько', 'POS=ADV|Degree=Pos'],\n",
       " ['человек', 'POS=NOUN|Animacy=Anim|Case=Nom|Gender=Masc|Number=Sing'],\n",
       " ['.', 'POS=PUNCT']]"
      ]
     },
     "execution_count": 174,
     "metadata": {},
     "output_type": "execute_result"
    }
   ],
   "source": [
    "disambiguate_sentence(\"Несколько человек .\".split(), model)"
   ]
  },
  {
   "cell_type": "code",
   "execution_count": null,
   "metadata": {},
   "outputs": [],
   "source": []
  }
 ],
 "metadata": {
  "kernelspec": {
   "display_name": ".venv",
   "language": "python",
   "name": "python3"
  },
  "language_info": {
   "codemirror_mode": {
    "name": "ipython",
    "version": 3
   },
   "file_extension": ".py",
   "mimetype": "text/x-python",
   "name": "python",
   "nbconvert_exporter": "python",
   "pygments_lexer": "ipython3",
   "version": "3.10.12"
  }
 },
 "nbformat": 4,
 "nbformat_minor": 2
}
