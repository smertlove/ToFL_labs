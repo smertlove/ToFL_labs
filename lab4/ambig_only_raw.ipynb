{
 "cells": [
  {
   "cell_type": "markdown",
   "metadata": {},
   "source": [
    "# Лабораторная работа 4. Снятие омонимии с использованием методов машинного обучения\n",
    "\n",
    "Необходимо написать программу, которая принимает на вход корпус со снятой омонимией (что-то с соревнований, НКРЯ, Universal Dependencies, …), тренирует модель машинного обучения (любую, можно и с глубинными сетями, по умолчанию CRF или Random Forest) и снимает омонимию с поданного на вход текста (например, с тестовой части корпуса).\n",
    "\n",
    "### Критерии оценки:\n",
    "\n",
    "- 2 - использован размеченный корпус\n",
    "- 4 - обучена модель\n",
    "- 2 - снимает омонимию\n",
    "- 2 - красота решения (субъективное мнение преподавателя)\n"
   ]
  },
  {
   "cell_type": "code",
   "execution_count": 1,
   "metadata": {},
   "outputs": [],
   "source": [
    "import pathlib"
   ]
  },
  {
   "cell_type": "code",
   "execution_count": 2,
   "metadata": {},
   "outputs": [],
   "source": [
    "datadir = pathlib.Path().cwd() / \"data\""
   ]
  },
  {
   "cell_type": "code",
   "execution_count": 3,
   "metadata": {},
   "outputs": [],
   "source": [
    "train_filenames = [\n",
    "    \"processed_ru_syntagrus-ud-train-a.conllu\",\n",
    "    \"processed_ru_syntagrus-ud-train-b.conllu\",\n",
    "    \"processed_ru_syntagrus-ud-train-c.conllu\",\n",
    "]\n",
    "\n",
    "test_filename = \"processed_ru_syntagrus-ud-test.conllu\""
   ]
  },
  {
   "cell_type": "code",
   "execution_count": 4,
   "metadata": {},
   "outputs": [],
   "source": [
    "train_data = []\n",
    "\n",
    "for filename in train_filenames:\n",
    "    with open(datadir / filename, \"r\", encoding=\"utf-8\") as file:\n",
    "        train_data.extend(file.read().rstrip().split(\"\\n\\n\"))\n",
    "\n",
    "with open(datadir / test_filename, \"r\", encoding=\"utf-8\") as file:\n",
    "    test_data = file.read().rstrip().split(\"\\n\\n\")"
   ]
  },
  {
   "cell_type": "code",
   "execution_count": 5,
   "metadata": {},
   "outputs": [
    {
     "data": {
      "text/plain": [
       "(69630, 8800)"
      ]
     },
     "execution_count": 5,
     "metadata": {},
     "output_type": "execute_result"
    }
   ],
   "source": [
    "len(train_data), len(test_data)"
   ]
  },
  {
   "cell_type": "code",
   "execution_count": 6,
   "metadata": {},
   "outputs": [
    {
     "name": "stdout",
     "output_type": "stream",
     "text": [
      "Начальник\tPOS=NOUN|Animacy=Anim|Case=Nom|Gender=Masc|Number=Sing\n",
      "областного\tPOS=ADJ|Case=Gen|Degree=Pos|Gender=Neut|Number=Sing\n",
      "управления\tPOS=NOUN|Animacy=Inan|Case=Gen|Gender=Neut|Number=Sing\n",
      "связи\tPOS=NOUN|Animacy=Inan|Case=Gen|Gender=Fem|Number=Sing\n",
      "Семен\tPOS=PROPN|Animacy=Anim|Case=Nom|Gender=Masc|Number=Sing\n",
      "Еремеевич\tPOS=PROPN|Animacy=Anim|Case=Nom|Gender=Masc|Number=Sing\n",
      "был\tPOS=AUX|Aspect=Imp|Gender=Masc|Mood=Ind|Number=Sing|Tense=Past|VerbForm=Fin|Voice=Act\n",
      "человек\tPOS=NOUN|Animacy=Anim|Case=Nom|Gender=Masc|Number=Sing\n",
      "простой\tPOS=ADJ|Case=Nom|Degree=Pos|Gender=Masc|Number=Sing\n",
      ",\tPOS=PUNCT\n",
      "приходил\tPOS=VERB|Aspect=Imp|Gender=Masc|Mood=Ind|Number=Sing|Tense=Past|VerbForm=Fin|Voice=Act\n",
      "на\tPOS=ADP\n",
      "работу\tPOS=NOUN|Animacy=Inan|Case=Acc|Gender=Fem|Number=Sing\n",
      "всегда\tPOS=ADV|Degree=Pos\n",
      "вовремя\tPOS=ADV|Degree=Pos\n",
      ",\tPOS=PUNCT\n",
      "здоровался\tPOS=VERB|Aspect=Imp|Gender=Masc|Mood=Ind|Number=Sing|Tense=Past|VerbForm=Fin|Voice=Mid\n",
      "с\tPOS=ADP\n",
      "секретаршей\tPOS=NOUN|Animacy=Anim|Case=Ins|Gender=Fem|Number=Sing\n",
      "за\tPOS=ADP\n",
      "руку\tPOS=NOUN|Animacy=Inan|Case=Acc|Gender=Fem|Number=Sing\n",
      "и\tPOS=CCONJ\n",
      "иногда\tPOS=ADV|Degree=Pos\n",
      "даже\tPOS=PART\n",
      "писал\tPOS=VERB|Aspect=Imp|Gender=Masc|Mood=Ind|Number=Sing|Tense=Past|VerbForm=Fin|Voice=Act\n",
      "в\tPOS=ADP\n",
      "стенгазету\tPOS=NOUN|Animacy=Inan|Case=Acc|Gender=Fem|Number=Sing\n",
      "заметки\tPOS=NOUN|Animacy=Inan|Case=Acc|Gender=Fem|Number=Plur\n",
      "под\tPOS=ADP\n",
      "псевдонимом\tPOS=NOUN|Animacy=Inan|Case=Ins|Gender=Masc|Number=Sing\n",
      "\"\tPOS=PUNCT\n",
      "Муха\tPOS=NOUN|Animacy=Anim|Case=Nom|Gender=Fem|Number=Sing\n",
      "\"\tPOS=PUNCT\n",
      ".\tPOS=PUNCT\n"
     ]
    }
   ],
   "source": [
    "print(train_data[1])"
   ]
  },
  {
   "cell_type": "code",
   "execution_count": 7,
   "metadata": {},
   "outputs": [],
   "source": [
    "def prep_entry(text:str):\n",
    "    entry = tuple(filter(lambda l: not l.startswith(\"#\"), text.split(\"\\n\")))\n",
    "    entry = [line.split(\"\\t\") for line in entry]\n",
    "    return entry"
   ]
  },
  {
   "cell_type": "code",
   "execution_count": 8,
   "metadata": {},
   "outputs": [],
   "source": [
    "def split_grammar(line:str) -> dict[str, str]:\n",
    "    return {\n",
    "        (p := pair.split(\"=\"))[0]: p[1]\n",
    "        for pair\n",
    "        in line.split(\"|\")\n",
    "    }"
   ]
  },
  {
   "cell_type": "code",
   "execution_count": 9,
   "metadata": {},
   "outputs": [],
   "source": [
    "all_tags: dict[str, set] = dict()\n",
    "word_dict: dict[str, dict[str, int]] = {}"
   ]
  },
  {
   "cell_type": "code",
   "execution_count": 10,
   "metadata": {},
   "outputs": [],
   "source": [
    "for sent in train_data:\n",
    "    lines = prep_entry(sent)\n",
    "    for line in lines:\n",
    "        word, grammar = line\n",
    "        word_lower = word.lower()\n",
    "\n",
    "        # Обновить грамматический словарь\n",
    "        d = word_dict.get(word_lower, dict())\n",
    "        d[grammar] = d.get(grammar, 0) + 1\n",
    "        word_dict[word_lower] = d\n",
    "\n",
    "        # Обновить словарь тегов\n",
    "        for tag, val in split_grammar(grammar).items():\n",
    "            all_tags[tag] = all_tags.get(tag, {\"[PAD]\"}) | {val}"
   ]
  },
  {
   "cell_type": "code",
   "execution_count": 11,
   "metadata": {},
   "outputs": [
    {
     "data": {
      "text/plain": [
       "{'POS=VERB|Aspect=Perf|Mood=Ind|Number=Plur|Tense=Past|VerbForm=Fin|Voice=Act': 223,\n",
       " 'POS=VERB|Aspect=Perf|Mood=Ind|Number=Plur|Tense=Past|VerbForm=Fin|Voice=Mid': 144,\n",
       " 'POS=NOUN|Animacy=Inan|Case=Gen|Gender=Fem|Number=Sing': 19,\n",
       " 'POS=NOUN|Animacy=Inan|Case=Nom|Gender=Fem|Number=Plur': 1,\n",
       " 'POS=NOUN|Animacy=Inan|Case=Dat|Gender=Fem|Number=Sing': 1}"
      ]
     },
     "execution_count": 11,
     "metadata": {},
     "output_type": "execute_result"
    }
   ],
   "source": [
    "word_dict[\"стали\"]"
   ]
  },
  {
   "cell_type": "code",
   "execution_count": 12,
   "metadata": {},
   "outputs": [
    {
     "data": {
      "text/plain": [
       "1206302"
      ]
     },
     "execution_count": 12,
     "metadata": {},
     "output_type": "execute_result"
    }
   ],
   "source": [
    "sum(\n",
    "    [\n",
    "        sum(word_dict[word].values())\n",
    "        for word\n",
    "        in word_dict\n",
    "    ]\n",
    ")"
   ]
  },
  {
   "cell_type": "code",
   "execution_count": 13,
   "metadata": {},
   "outputs": [],
   "source": [
    "## Уберем все разборы, кол-во которых меньше THRESHOLD\n",
    "\n",
    "THRESHOLD = 6\n",
    "\n",
    "for word in word_dict:\n",
    "    word_dict[word] = {\n",
    "        k: val\n",
    "        for k, val\n",
    "        in word_dict[word].items()\n",
    "        if val >= THRESHOLD\n",
    "    }\n"
   ]
  },
  {
   "cell_type": "code",
   "execution_count": 14,
   "metadata": {},
   "outputs": [
    {
     "data": {
      "text/plain": [
       "1000132"
      ]
     },
     "execution_count": 14,
     "metadata": {},
     "output_type": "execute_result"
    }
   ],
   "source": [
    "sum(\n",
    "    [\n",
    "        sum(word_dict[word].values())\n",
    "        for word\n",
    "        in word_dict\n",
    "    ]\n",
    ")"
   ]
  },
  {
   "cell_type": "code",
   "execution_count": 15,
   "metadata": {},
   "outputs": [
    {
     "data": {
      "text/plain": [
       "{'POS=VERB|Aspect=Perf|Mood=Ind|Number=Plur|Tense=Past|VerbForm=Fin|Voice=Act': 223,\n",
       " 'POS=VERB|Aspect=Perf|Mood=Ind|Number=Plur|Tense=Past|VerbForm=Fin|Voice=Mid': 144,\n",
       " 'POS=NOUN|Animacy=Inan|Case=Gen|Gender=Fem|Number=Sing': 19}"
      ]
     },
     "execution_count": 15,
     "metadata": {},
     "output_type": "execute_result"
    }
   ],
   "source": [
    "word_dict[\"стали\"]"
   ]
  },
  {
   "cell_type": "code",
   "execution_count": 16,
   "metadata": {},
   "outputs": [
    {
     "data": {
      "text/plain": [
       "['В',\n",
       " 'советский',\n",
       " 'период',\n",
       " 'времени',\n",
       " 'число',\n",
       " 'ИТ',\n",
       " '-',\n",
       " 'специалистов',\n",
       " 'в',\n",
       " 'Армении',\n",
       " 'составляло',\n",
       " 'около',\n",
       " 'десяти',\n",
       " 'тысяч',\n",
       " '.']"
      ]
     },
     "execution_count": 16,
     "metadata": {},
     "output_type": "execute_result"
    }
   ],
   "source": [
    "test_sent = list(map(lambda pair: pair[0], prep_entry(test_data[0])))\n",
    "test_sent"
   ]
  },
  {
   "cell_type": "code",
   "execution_count": 17,
   "metadata": {},
   "outputs": [],
   "source": [
    "class BaseMorphotagger:\n",
    "\n",
    "    def __init__(self, emtries):\n",
    "        self.word_dict = emtries\n",
    "\n",
    "    def disambig(self, d: dict):\n",
    "        pass\n",
    "\n",
    "    def parse_unknown(self, tok, **kwargs):\n",
    "        return \"[UNKNOWN]\"\n",
    "\n",
    "    def parse_known(self, tok, **kwargs):\n",
    "        d = kwargs[\"d\"]\n",
    "        grammar = max(\n",
    "            d,\n",
    "            key=d.get\n",
    "        )\n",
    "\n",
    "        if len(d) > 1:\n",
    "            grammar = \"[AMBIG]: \" + grammar\n",
    "\n",
    "        else:\n",
    "            grammar = \"[SING]: \" + grammar\n",
    "\n",
    "        return grammar\n",
    "\n",
    "    def parse_tokens(self, tokens: list[str]):\n",
    "        result = []\n",
    "\n",
    "        for tok in tokens:\n",
    "\n",
    "            tok_lower = tok.lower()\n",
    "            d = self.word_dict[tok_lower]\n",
    "\n",
    "            if not d:\n",
    "                grammar = self.parse_unknown(tok_lower, tokens=tokens, grammar=result)\n",
    "\n",
    "            else:\n",
    "                grammar = self.parse_known(tok_lower, d=d, tokens=tokens, grammar=result)\n",
    "\n",
    "            result.append(grammar)\n",
    "\n",
    "        return result"
   ]
  },
  {
   "cell_type": "code",
   "execution_count": 18,
   "metadata": {},
   "outputs": [],
   "source": [
    "morphotagger = BaseMorphotagger(word_dict)"
   ]
  },
  {
   "cell_type": "code",
   "execution_count": 19,
   "metadata": {},
   "outputs": [
    {
     "name": "stdout",
     "output_type": "stream",
     "text": [
      "В\t[SING]: POS=ADP\n",
      "советский\t[AMBIG]: POS=ADJ|Case=Nom|Degree=Pos|Gender=Masc|Number=Sing\n",
      "период\t[AMBIG]: POS=NOUN|Animacy=Inan|Case=Acc|Gender=Masc|Number=Sing\n",
      "времени\t[AMBIG]: POS=NOUN|Animacy=Inan|Case=Gen|Gender=Neut|Number=Sing\n",
      "число\t[AMBIG]: POS=NOUN|Animacy=Inan|Case=Nom|Gender=Neut|Number=Sing\n",
      "ИТ\t[UNKNOWN]\n",
      "-\t[SING]: POS=PUNCT\n",
      "специалистов\t[AMBIG]: POS=NOUN|Animacy=Anim|Case=Gen|Gender=Masc|Number=Plur\n",
      "в\t[SING]: POS=ADP\n",
      "Армении\t[UNKNOWN]\n",
      "составляло\t[SING]: POS=VERB|Aspect=Imp|Gender=Neut|Mood=Ind|Number=Sing|Tense=Past|VerbForm=Fin|Voice=Act\n",
      "около\t[SING]: POS=ADP\n",
      "десяти\t[AMBIG]: POS=NUM|Case=Gen|NumType=Card\n",
      "тысяч\t[SING]: POS=NOUN|Animacy=Inan|Case=Gen|Gender=Fem|Number=Plur\n",
      ".\t[SING]: POS=PUNCT\n"
     ]
    }
   ],
   "source": [
    "for tok, grammar in zip(test_sent, morphotagger.parse_tokens(test_sent)):\n",
    "    print(tok, grammar, sep=\"\\t\")"
   ]
  },
  {
   "cell_type": "code",
   "execution_count": 20,
   "metadata": {},
   "outputs": [
    {
     "data": {
      "text/plain": [
       "{'POS': {'ADJ',\n",
       "  'ADP',\n",
       "  'ADV',\n",
       "  'AUX',\n",
       "  'CCONJ',\n",
       "  'DET',\n",
       "  'INTJ',\n",
       "  'NOUN',\n",
       "  'NUM',\n",
       "  'PART',\n",
       "  'PRON',\n",
       "  'PROPN',\n",
       "  'PUNCT',\n",
       "  'SCONJ',\n",
       "  'SYM',\n",
       "  'VERB',\n",
       "  'X',\n",
       "  '[PAD]',\n",
       "  '_'},\n",
       " 'Animacy': {'Anim', 'Inan', '[PAD]'},\n",
       " 'Case': {'Acc', 'Dat', 'Gen', 'Ins', 'Loc', 'Nom', 'Par', 'Voc', '[PAD]'},\n",
       " 'Gender': {'Fem', 'Masc', 'Neut', '[PAD]'},\n",
       " 'Number': {'Plur', 'Sing', '[PAD]'},\n",
       " 'Degree': {'Cmp', 'Pos', 'Sup', '[PAD]'},\n",
       " 'Aspect': {'Imp', 'Perf', '[PAD]'},\n",
       " 'Mood': {'Cnd', 'Imp', 'Ind', '[PAD]'},\n",
       " 'Tense': {'Fut', 'Past', 'Pres', '[PAD]'},\n",
       " 'VerbForm': {'Conv', 'Fin', 'Inf', 'Part', '[PAD]'},\n",
       " 'Voice': {'Act', 'Mid', 'Pass', '[PAD]'},\n",
       " 'Person': {'1', '2', '3', '[PAD]'},\n",
       " 'PronType': {'Dem', 'Ind', 'Int,Rel', 'Neg', 'Prs', 'Tot', '[PAD]'},\n",
       " 'Variant': {'Short', '[PAD]'},\n",
       " 'NumType': {'Card', '[PAD]'},\n",
       " 'Poss': {'Yes', '[PAD]'},\n",
       " 'Reflex': {'Yes', '[PAD]'},\n",
       " 'Foreign': {'Yes', '[PAD]'},\n",
       " 'Polarity': {'Neg', '[PAD]'},\n",
       " 'Typo': {'Yes', '[PAD]'},\n",
       " 'Abbr': {'Yes', '[PAD]'}}"
      ]
     },
     "execution_count": 20,
     "metadata": {},
     "output_type": "execute_result"
    }
   ],
   "source": [
    "all_tags"
   ]
  },
  {
   "cell_type": "code",
   "execution_count": 21,
   "metadata": {},
   "outputs": [],
   "source": [
    "all_tags[\"POS\"].remove('_')"
   ]
  },
  {
   "cell_type": "code",
   "execution_count": 22,
   "metadata": {},
   "outputs": [
    {
     "data": {
      "text/plain": [
       "{'ADJ',\n",
       " 'ADP',\n",
       " 'ADV',\n",
       " 'AUX',\n",
       " 'CCONJ',\n",
       " 'DET',\n",
       " 'INTJ',\n",
       " 'NOUN',\n",
       " 'NUM',\n",
       " 'PART',\n",
       " 'PRON',\n",
       " 'PROPN',\n",
       " 'PUNCT',\n",
       " 'SCONJ',\n",
       " 'SYM',\n",
       " 'VERB',\n",
       " 'X',\n",
       " '[PAD]'}"
      ]
     },
     "execution_count": 22,
     "metadata": {},
     "output_type": "execute_result"
    }
   ],
   "source": [
    "all_tags[\"POS\"]"
   ]
  },
  {
   "cell_type": "code",
   "execution_count": 23,
   "metadata": {},
   "outputs": [
    {
     "name": "stdout",
     "output_type": "stream",
     "text": [
      "Variant\n",
      "NumType\n",
      "Poss\n",
      "Reflex\n",
      "Foreign\n",
      "Polarity\n",
      "Typo\n",
      "Abbr\n"
     ]
    }
   ],
   "source": [
    "to_del = []\n",
    "\n",
    "for tag in all_tags:\n",
    "    if len(all_tags[tag]) < 3:\n",
    "        print(tag)\n",
    "        to_del.append(tag)\n",
    "\n",
    "for tag in to_del:\n",
    "    del all_tags[tag]"
   ]
  },
  {
   "cell_type": "code",
   "execution_count": 24,
   "metadata": {},
   "outputs": [
    {
     "data": {
      "text/plain": [
       "{'POS': {'ADJ',\n",
       "  'ADP',\n",
       "  'ADV',\n",
       "  'AUX',\n",
       "  'CCONJ',\n",
       "  'DET',\n",
       "  'INTJ',\n",
       "  'NOUN',\n",
       "  'NUM',\n",
       "  'PART',\n",
       "  'PRON',\n",
       "  'PROPN',\n",
       "  'PUNCT',\n",
       "  'SCONJ',\n",
       "  'SYM',\n",
       "  'VERB',\n",
       "  'X',\n",
       "  '[PAD]'},\n",
       " 'Animacy': {'Anim', 'Inan', '[PAD]'},\n",
       " 'Case': {'Acc', 'Dat', 'Gen', 'Ins', 'Loc', 'Nom', 'Par', 'Voc', '[PAD]'},\n",
       " 'Gender': {'Fem', 'Masc', 'Neut', '[PAD]'},\n",
       " 'Number': {'Plur', 'Sing', '[PAD]'},\n",
       " 'Degree': {'Cmp', 'Pos', 'Sup', '[PAD]'},\n",
       " 'Aspect': {'Imp', 'Perf', '[PAD]'},\n",
       " 'Mood': {'Cnd', 'Imp', 'Ind', '[PAD]'},\n",
       " 'Tense': {'Fut', 'Past', 'Pres', '[PAD]'},\n",
       " 'VerbForm': {'Conv', 'Fin', 'Inf', 'Part', '[PAD]'},\n",
       " 'Voice': {'Act', 'Mid', 'Pass', '[PAD]'},\n",
       " 'Person': {'1', '2', '3', '[PAD]'},\n",
       " 'PronType': {'Dem', 'Ind', 'Int,Rel', 'Neg', 'Prs', 'Tot', '[PAD]'}}"
      ]
     },
     "execution_count": 24,
     "metadata": {},
     "output_type": "execute_result"
    }
   ],
   "source": [
    "all_tags"
   ]
  },
  {
   "cell_type": "code",
   "execution_count": 25,
   "metadata": {},
   "outputs": [],
   "source": [
    "id2tags = {k: None for k in all_tags}\n",
    "tag2ids = {k: None for k in all_tags}\n",
    "\n",
    "for k in all_tags:\n",
    "    id2tags[k] = {i: val for i, val in enumerate(all_tags[k])}\n",
    "\n",
    "for k in id2tags:\n",
    "    tag2ids[k] = {val: key for key, val in id2tags[k].items()}\n",
    "\n",
    "for k in all_tags:\n",
    "    zeroth_elem = id2tags[k][0]\n",
    "    if zeroth_elem != \"[PAD]\":\n",
    "\n",
    "        pad_idx = tag2ids[k][\"[PAD]\"]\n",
    "        id2tags[k][0] = \"[PAD]\"\n",
    "        id2tags[k][pad_idx] = zeroth_elem\n",
    "\n",
    "        tag2ids[k][\"[PAD]\"] = 0\n",
    "        tag2ids[k][zeroth_elem] = pad_idx\n"
   ]
  },
  {
   "cell_type": "code",
   "execution_count": 26,
   "metadata": {},
   "outputs": [
    {
     "data": {
      "text/plain": [
       "{'POS': {'PRON': 6,\n",
       "  'NUM': 1,\n",
       "  'PART': 2,\n",
       "  'VERB': 3,\n",
       "  'CCONJ': 4,\n",
       "  'PUNCT': 5,\n",
       "  '[PAD]': 0,\n",
       "  'ADJ': 7,\n",
       "  'ADV': 8,\n",
       "  'DET': 9,\n",
       "  'X': 10,\n",
       "  'INTJ': 11,\n",
       "  'PROPN': 12,\n",
       "  'NOUN': 13,\n",
       "  'SCONJ': 14,\n",
       "  'ADP': 15,\n",
       "  'SYM': 16,\n",
       "  'AUX': 17},\n",
       " 'Animacy': {'[PAD]': 0, 'Anim': 1, 'Inan': 2},\n",
       " 'Case': {'Acc': 3,\n",
       "  'Ins': 1,\n",
       "  'Voc': 2,\n",
       "  '[PAD]': 0,\n",
       "  'Dat': 4,\n",
       "  'Loc': 5,\n",
       "  'Gen': 6,\n",
       "  'Par': 7,\n",
       "  'Nom': 8},\n",
       " 'Gender': {'Masc': 1, '[PAD]': 0, 'Fem': 2, 'Neut': 3},\n",
       " 'Number': {'[PAD]': 0, 'Plur': 1, 'Sing': 2},\n",
       " 'Degree': {'Cmp': 2, 'Sup': 1, '[PAD]': 0, 'Pos': 3},\n",
       " 'Aspect': {'[PAD]': 0, 'Perf': 1, 'Imp': 2},\n",
       " 'Mood': {'Cnd': 2, 'Imp': 1, '[PAD]': 0, 'Ind': 3},\n",
       " 'Tense': {'Fut': 2, 'Pres': 1, '[PAD]': 0, 'Past': 3},\n",
       " 'VerbForm': {'Conv': 3, 'Part': 1, 'Inf': 2, '[PAD]': 0, 'Fin': 4},\n",
       " 'Voice': {'Pass': 1, '[PAD]': 0, 'Mid': 2, 'Act': 3},\n",
       " 'Person': {'1': 1, '[PAD]': 0, '2': 2, '3': 3},\n",
       " 'PronType': {'Tot': 3,\n",
       "  'Dem': 1,\n",
       "  'Int,Rel': 2,\n",
       "  '[PAD]': 0,\n",
       "  'Ind': 4,\n",
       "  'Neg': 5,\n",
       "  'Prs': 6}}"
      ]
     },
     "execution_count": 26,
     "metadata": {},
     "output_type": "execute_result"
    }
   ],
   "source": [
    "tag2ids"
   ]
  },
  {
   "cell_type": "code",
   "execution_count": 27,
   "metadata": {},
   "outputs": [
    {
     "data": {
      "text/plain": [
       "{'POS': {0: '[PAD]',\n",
       "  1: 'NUM',\n",
       "  2: 'PART',\n",
       "  3: 'VERB',\n",
       "  4: 'CCONJ',\n",
       "  5: 'PUNCT',\n",
       "  6: 'PRON',\n",
       "  7: 'ADJ',\n",
       "  8: 'ADV',\n",
       "  9: 'DET',\n",
       "  10: 'X',\n",
       "  11: 'INTJ',\n",
       "  12: 'PROPN',\n",
       "  13: 'NOUN',\n",
       "  14: 'SCONJ',\n",
       "  15: 'ADP',\n",
       "  16: 'SYM',\n",
       "  17: 'AUX'},\n",
       " 'Animacy': {0: '[PAD]', 1: 'Anim', 2: 'Inan'},\n",
       " 'Case': {0: '[PAD]',\n",
       "  1: 'Ins',\n",
       "  2: 'Voc',\n",
       "  3: 'Acc',\n",
       "  4: 'Dat',\n",
       "  5: 'Loc',\n",
       "  6: 'Gen',\n",
       "  7: 'Par',\n",
       "  8: 'Nom'},\n",
       " 'Gender': {0: '[PAD]', 1: 'Masc', 2: 'Fem', 3: 'Neut'},\n",
       " 'Number': {0: '[PAD]', 1: 'Plur', 2: 'Sing'},\n",
       " 'Degree': {0: '[PAD]', 1: 'Sup', 2: 'Cmp', 3: 'Pos'},\n",
       " 'Aspect': {0: '[PAD]', 1: 'Perf', 2: 'Imp'},\n",
       " 'Mood': {0: '[PAD]', 1: 'Imp', 2: 'Cnd', 3: 'Ind'},\n",
       " 'Tense': {0: '[PAD]', 1: 'Pres', 2: 'Fut', 3: 'Past'},\n",
       " 'VerbForm': {0: '[PAD]', 1: 'Part', 2: 'Inf', 3: 'Conv', 4: 'Fin'},\n",
       " 'Voice': {0: '[PAD]', 1: 'Pass', 2: 'Mid', 3: 'Act'},\n",
       " 'Person': {0: '[PAD]', 1: '1', 2: '2', 3: '3'},\n",
       " 'PronType': {0: '[PAD]',\n",
       "  1: 'Dem',\n",
       "  2: 'Int,Rel',\n",
       "  3: 'Tot',\n",
       "  4: 'Ind',\n",
       "  5: 'Neg',\n",
       "  6: 'Prs'}}"
      ]
     },
     "execution_count": 27,
     "metadata": {},
     "output_type": "execute_result"
    }
   ],
   "source": [
    "id2tags"
   ]
  },
  {
   "cell_type": "code",
   "execution_count": 28,
   "metadata": {},
   "outputs": [
    {
     "data": {
      "text/plain": [
       "{'Animacy',\n",
       " 'Aspect',\n",
       " 'Case',\n",
       " 'Degree',\n",
       " 'Gender',\n",
       " 'Mood',\n",
       " 'Number',\n",
       " 'POS',\n",
       " 'Person',\n",
       " 'PronType',\n",
       " 'Tense',\n",
       " 'VerbForm',\n",
       " 'Voice'}"
      ]
     },
     "execution_count": 28,
     "metadata": {},
     "output_type": "execute_result"
    }
   ],
   "source": [
    "set(all_tags.keys())"
   ]
  },
  {
   "cell_type": "code",
   "execution_count": 29,
   "metadata": {},
   "outputs": [],
   "source": [
    "sorted_keys = sorted(all_tags.keys())"
   ]
  },
  {
   "cell_type": "code",
   "execution_count": 30,
   "metadata": {},
   "outputs": [
    {
     "data": {
      "text/plain": [
       "['Animacy',\n",
       " 'Aspect',\n",
       " 'Case',\n",
       " 'Degree',\n",
       " 'Gender',\n",
       " 'Mood',\n",
       " 'Number',\n",
       " 'POS',\n",
       " 'Person',\n",
       " 'PronType',\n",
       " 'Tense',\n",
       " 'VerbForm',\n",
       " 'Voice']"
      ]
     },
     "execution_count": 30,
     "metadata": {},
     "output_type": "execute_result"
    }
   ],
   "source": [
    "sorted_keys"
   ]
  },
  {
   "cell_type": "code",
   "execution_count": 31,
   "metadata": {},
   "outputs": [],
   "source": [
    "def get_grammar_dict(line:str, allowed_tags=set(all_tags.keys())):\n",
    "    pairs = split_grammar(line)\n",
    "    return {\n",
    "        k: tag2ids.get(\n",
    "            k,\n",
    "            dict()\n",
    "        ).get(\n",
    "            pairs.get(k, \"[PAD]\"),\n",
    "            0\n",
    "        )\n",
    "        for k\n",
    "        in allowed_tags\n",
    "    }"
   ]
  },
  {
   "cell_type": "code",
   "execution_count": 32,
   "metadata": {},
   "outputs": [
    {
     "data": {
      "text/plain": [
       "{'Gender': 0,\n",
       " 'Animacy': 2,\n",
       " 'Aspect': 0,\n",
       " 'Number': 0,\n",
       " 'Mood': 0,\n",
       " 'Voice': 0,\n",
       " 'PronType': 0,\n",
       " 'VerbForm': 0,\n",
       " 'POS': 13,\n",
       " 'Person': 0,\n",
       " 'Tense': 0,\n",
       " 'Degree': 0,\n",
       " 'Case': 0}"
      ]
     },
     "execution_count": 32,
     "metadata": {},
     "output_type": "execute_result"
    }
   ],
   "source": [
    "get_grammar_dict(\"POS=NOUN|Animacy=Inan\")"
   ]
  },
  {
   "cell_type": "code",
   "execution_count": 33,
   "metadata": {},
   "outputs": [],
   "source": [
    "def get_grammar_vector(line:str, allowed_tags=set(all_tags.keys())):\n",
    "    grammar_dict = get_grammar_dict(line, allowed_tags=allowed_tags)\n",
    "    return [grammar_dict[k] for k in sorted(grammar_dict.keys())]"
   ]
  },
  {
   "cell_type": "code",
   "execution_count": 34,
   "metadata": {},
   "outputs": [
    {
     "data": {
      "text/plain": [
       "[2, 0, 0, 0, 0, 0, 0, 13, 0, 0, 0, 0, 0]"
      ]
     },
     "execution_count": 34,
     "metadata": {},
     "output_type": "execute_result"
    }
   ],
   "source": [
    "# В алфавитном порядке\n",
    "get_grammar_vector(\"POS=NOUN|Animacy=Inan\")"
   ]
  },
  {
   "cell_type": "code",
   "execution_count": 35,
   "metadata": {},
   "outputs": [],
   "source": [
    "def grammar_vector_to_dict(vector, sorted_keys=sorted_keys):\n",
    "    return {\n",
    "        sorted_keys[i]: val\n",
    "        for i, val\n",
    "        in enumerate(vector)\n",
    "    }"
   ]
  },
  {
   "cell_type": "code",
   "execution_count": 36,
   "metadata": {},
   "outputs": [
    {
     "data": {
      "text/plain": [
       "{'Animacy': 2,\n",
       " 'Aspect': 0,\n",
       " 'Case': 0,\n",
       " 'Degree': 0,\n",
       " 'Gender': 0,\n",
       " 'Mood': 0,\n",
       " 'Number': 0,\n",
       " 'POS': 13,\n",
       " 'Person': 0,\n",
       " 'PronType': 0,\n",
       " 'Tense': 0,\n",
       " 'VerbForm': 0,\n",
       " 'Voice': 0}"
      ]
     },
     "execution_count": 36,
     "metadata": {},
     "output_type": "execute_result"
    }
   ],
   "source": [
    "grammar_vector_to_dict(\n",
    "    get_grammar_vector(\"POS=NOUN|Animacy=Inan\")\n",
    ")"
   ]
  },
  {
   "cell_type": "code",
   "execution_count": 37,
   "metadata": {},
   "outputs": [],
   "source": [
    "def grammar_dict_to_line(dict, id2tags=id2tags, pad_idx=0):\n",
    "    return \"|\".join(\n",
    "        [\n",
    "            f\"{tag}={id2tags[tag][dict[tag]]}\"\n",
    "            for tag\n",
    "            in dict\n",
    "            if dict[tag] != pad_idx\n",
    "        ]\n",
    "    )"
   ]
  },
  {
   "cell_type": "code",
   "execution_count": 38,
   "metadata": {},
   "outputs": [
    {
     "data": {
      "text/plain": [
       "'Animacy=Inan|POS=NOUN'"
      ]
     },
     "execution_count": 38,
     "metadata": {},
     "output_type": "execute_result"
    }
   ],
   "source": [
    "grammar_dict_to_line(\n",
    "    grammar_vector_to_dict(\n",
    "        get_grammar_vector(\"POS=NOUN|Animacy=Inan\")\n",
    "    )\n",
    ")"
   ]
  },
  {
   "cell_type": "code",
   "execution_count": 39,
   "metadata": {},
   "outputs": [],
   "source": [
    "def extract_features(sentence, index, neg=False, word_dict=word_dict):\n",
    "\n",
    "    word, target_tags = sentence[index]\n",
    "\n",
    "    # word = word.lower()\n",
    "\n",
    "    if index - 1 >= 0:\n",
    "        _, prev_tag_1 = sentence[index - 1]\n",
    "    else:\n",
    "        _, prev_tag_1 = \"[PAD]\", \"DUMMY=dummy|dummy=DUMMY\"\n",
    "\n",
    "    # prev_tag_1 = get_grammar_dict(prev_tag_1)\n",
    "    prev_tag_1 = get_grammar_vector(prev_tag_1)\n",
    "\n",
    "    if index - 2 >= 0:\n",
    "        _, prev_tag_2 = sentence[index - 2]\n",
    "    else:\n",
    "        _, prev_tag_2 = \"[PAD]\", \"DUMMY=dummy|dummy=DUMMY\"\n",
    "\n",
    "    prev_tag_2 = get_grammar_vector(prev_tag_2)\n",
    "\n",
    "    if index - 3 >= 0:\n",
    "        _, prev_tag_3 = sentence[index - 3]\n",
    "    else:\n",
    "        _, prev_tag_3 = \"[PAD]\", \"DUMMY=dummy|dummy=DUMMY\"\n",
    "\n",
    "    prev_tag_3 = get_grammar_vector(prev_tag_3)\n",
    "\n",
    "    # prev_tag_2 = get_grammar_dict(prev_tag_2)\n",
    "    \n",
    "\n",
    "    target_vector = get_grammar_vector(target_tags)\n",
    "\n",
    "    if neg:\n",
    "        for parse in word_dict[word.lower()]:\n",
    "            vector = get_grammar_vector(parse)\n",
    "            if vector != target_vector:\n",
    "                target_vector = vector\n",
    "                break\n",
    "        else:\n",
    "            target_vector = [0]*len(target_vector)\n",
    "\n",
    "    training_row = [\n",
    "        int(word.isupper()),\n",
    "        int(word.istitle()),\n",
    "        int(word.isdigit()),\n",
    "        *prev_tag_1,\n",
    "        *prev_tag_2,\n",
    "        *prev_tag_3,\n",
    "        *target_vector\n",
    "    ]\n",
    "\n",
    "    return word.lower(), training_row, int(not neg)"
   ]
  },
  {
   "cell_type": "code",
   "execution_count": 40,
   "metadata": {},
   "outputs": [
    {
     "data": {
      "text/plain": [
       "('начальник',\n",
       " {'POS=NOUN|Animacy=Anim|Case=Nom|Gender=Masc|Number=Sing': 72},\n",
       " 1)"
      ]
     },
     "execution_count": 40,
     "metadata": {},
     "output_type": "execute_result"
    }
   ],
   "source": [
    "word, trr, tstr = extract_features(prep_entry(train_data[1]), 0)\n",
    "word, word_dict.get(word.lower(), \"DUMMY=dummy|dummy=DUMMY\"), tstr"
   ]
  },
  {
   "cell_type": "code",
   "execution_count": 41,
   "metadata": {},
   "outputs": [
    {
     "data": {
      "text/plain": [
       "('областного', {'POS=ADJ|Case=Gen|Degree=Pos|Gender=Masc|Number=Sing': 6}, 1)"
      ]
     },
     "execution_count": 41,
     "metadata": {},
     "output_type": "execute_result"
    }
   ],
   "source": [
    "word, trr, tstr = extract_features(prep_entry(train_data[1]), 1)\n",
    "word, word_dict.get(word.lower(), \"DUMMY=dummy|dummy=DUMMY\"), tstr"
   ]
  },
  {
   "cell_type": "code",
   "execution_count": 42,
   "metadata": {},
   "outputs": [
    {
     "data": {
      "text/plain": [
       "('управления',\n",
       " {'POS=NOUN|Animacy=Inan|Case=Gen|Gender=Neut|Number=Sing': 185,\n",
       "  'POS=PROPN|Animacy=Inan|Case=Gen|Gender=Neut|Number=Sing': 10},\n",
       " 1)"
      ]
     },
     "execution_count": 42,
     "metadata": {},
     "output_type": "execute_result"
    }
   ],
   "source": [
    "word, trr, tstr = extract_features(prep_entry(train_data[1]), 2)\n",
    "word, word_dict.get(word.lower(), \"DUMMY=dummy|dummy=DUMMY\"), tstr"
   ]
  },
  {
   "cell_type": "code",
   "execution_count": 43,
   "metadata": {},
   "outputs": [
    {
     "data": {
      "text/plain": [
       "('управления',\n",
       " {'POS=NOUN|Animacy=Inan|Case=Gen|Gender=Neut|Number=Sing': 185,\n",
       "  'POS=PROPN|Animacy=Inan|Case=Gen|Gender=Neut|Number=Sing': 10},\n",
       " 0)"
      ]
     },
     "execution_count": 43,
     "metadata": {},
     "output_type": "execute_result"
    }
   ],
   "source": [
    "word, trr, tstr = extract_features(prep_entry(train_data[1]), 2, neg=True)\n",
    "word, word_dict.get(word.lower(), \"DUMMY=dummy|dummy=DUMMY\"), tstr"
   ]
  },
  {
   "cell_type": "code",
   "execution_count": 44,
   "metadata": {},
   "outputs": [
    {
     "data": {
      "text/plain": [
       "[0,\n",
       " 0,\n",
       " 0,\n",
       " 0,\n",
       " 0,\n",
       " 6,\n",
       " 3,\n",
       " 3,\n",
       " 0,\n",
       " 2,\n",
       " 7,\n",
       " 0,\n",
       " 0,\n",
       " 0,\n",
       " 0,\n",
       " 0,\n",
       " 1,\n",
       " 0,\n",
       " 8,\n",
       " 0,\n",
       " 1,\n",
       " 0,\n",
       " 2,\n",
       " 13,\n",
       " 0,\n",
       " 0,\n",
       " 0,\n",
       " 0,\n",
       " 0,\n",
       " 0,\n",
       " 0,\n",
       " 0,\n",
       " 0,\n",
       " 0,\n",
       " 0,\n",
       " 0,\n",
       " 0,\n",
       " 0,\n",
       " 0,\n",
       " 0,\n",
       " 0,\n",
       " 0,\n",
       " 2,\n",
       " 0,\n",
       " 6,\n",
       " 0,\n",
       " 3,\n",
       " 0,\n",
       " 2,\n",
       " 12,\n",
       " 0,\n",
       " 0,\n",
       " 0,\n",
       " 0,\n",
       " 0]"
      ]
     },
     "execution_count": 44,
     "metadata": {},
     "output_type": "execute_result"
    }
   ],
   "source": [
    "trr"
   ]
  },
  {
   "cell_type": "code",
   "execution_count": 45,
   "metadata": {},
   "outputs": [
    {
     "data": {
      "text/plain": [
       "0"
      ]
     },
     "execution_count": 45,
     "metadata": {},
     "output_type": "execute_result"
    }
   ],
   "source": [
    "tstr"
   ]
  },
  {
   "cell_type": "code",
   "execution_count": 46,
   "metadata": {},
   "outputs": [],
   "source": [
    "def gen_training_row(train_data):\n",
    "    while True:\n",
    "        for i, entry in enumerate(train_data):\n",
    "            parsed_entry = prep_entry(entry)\n",
    "            for j in range(len(parsed_entry)):\n",
    "                w = parsed_entry[j][0].lower()\n",
    "                if w in word_dict and len(word_dict[w]) > 1:\n",
    "\n",
    "                    yield extract_features(parsed_entry, j)\n",
    "                    yield extract_features(parsed_entry, j, neg=True)\n"
   ]
  },
  {
   "cell_type": "code",
   "execution_count": 47,
   "metadata": {},
   "outputs": [],
   "source": [
    "gen_train = gen_training_row(train_data)\n",
    "gen_test  = gen_training_row(test_data)"
   ]
  },
  {
   "cell_type": "code",
   "execution_count": null,
   "metadata": {},
   "outputs": [],
   "source": []
  },
  {
   "cell_type": "code",
   "execution_count": 49,
   "metadata": {},
   "outputs": [],
   "source": [
    "from lightgbm import LGBMClassifier\n",
    "import numpy as np\n",
    "from tqdm import tqdm"
   ]
  },
  {
   "cell_type": "code",
   "execution_count": 50,
   "metadata": {},
   "outputs": [],
   "source": [
    "model = LGBMClassifier(\n",
    "    objective=\"binary\",\n",
    "    metric=\"auc\",\n",
    "    boosting_type=\"gbdt\",\n",
    "    num_leaves=31,\n",
    "    learning_rate=0.05,\n",
    "    verbose=-1\n",
    ")"
   ]
  },
  {
   "cell_type": "code",
   "execution_count": 51,
   "metadata": {},
   "outputs": [],
   "source": [
    "EPOCHS = 500\n",
    "BATCH_SIZE = 15000"
   ]
  },
  {
   "cell_type": "code",
   "execution_count": 52,
   "metadata": {},
   "outputs": [
    {
     "name": "stderr",
     "output_type": "stream",
     "text": [
      "  0%|          | 0/500 [00:00<?, ?it/s]"
     ]
    },
    {
     "name": "stderr",
     "output_type": "stream",
     "text": [
      "100%|██████████| 500/500 [03:50<00:00,  2.17it/s]\n"
     ]
    }
   ],
   "source": [
    "for epoch in tqdm(range(1, EPOCHS + 1)):\n",
    "    X_bar = []\n",
    "    y_bar = []\n",
    "\n",
    "    for _ in range(BATCH_SIZE):\n",
    "        word, features, labels = next(gen_train)\n",
    "        X_bar.append(features)\n",
    "        y_bar.append(labels)\n",
    "\n",
    "    X_bar = np.array(X_bar)\n",
    "    y_bar = np.array(y_bar)\n",
    "\n",
    "    model.fit(X_bar, y_bar)"
   ]
  },
  {
   "cell_type": "code",
   "execution_count": 53,
   "metadata": {},
   "outputs": [],
   "source": [
    "# DEBUG = False\n",
    "DEBUG = True"
   ]
  },
  {
   "cell_type": "code",
   "execution_count": 54,
   "metadata": {},
   "outputs": [],
   "source": [
    "def disambiguate_sentence(tokens:list[str], model:LGBMClassifier):\n",
    "    prep_tokens = []\n",
    "\n",
    "    for tok in tokens:\n",
    "        entries = word_dict.get(tok.lower(), dict())\n",
    "\n",
    "        if len(entries) == 0:\n",
    "            prep_tokens.append([tok, \"Unkn=Unkn\"])\n",
    "\n",
    "        elif len(entries) == 1:\n",
    "            prep_tokens.append([tok, next(iter(entries))])\n",
    "\n",
    "        else:\n",
    "            parses_probas = []\n",
    "\n",
    "            for parse in entries:\n",
    "                try_tokens = prep_tokens.copy() + [[tok, parse]]\n",
    "                feats = np.array(extract_features(try_tokens, len(try_tokens)-1)[1]).reshape(1, -1)\n",
    "\n",
    "                proba = model.predict_proba(feats, verbose=-1)[0, -1]\n",
    "                if DEBUG:\n",
    "                    print(tok, parse, proba, sep=\"\\t\")\n",
    "                parses_probas.append([parse, proba])\n",
    "\n",
    "            decided_entry = max(parses_probas, key = lambda pair: pair[1])[0]\n",
    "            prep_tokens.append([tok, decided_entry])\n",
    "\n",
    "\n",
    "    return prep_tokens"
   ]
  },
  {
   "cell_type": "markdown",
   "metadata": {},
   "source": [
    "### Пример 1: часть речи"
   ]
  },
  {
   "cell_type": "code",
   "execution_count": 75,
   "metadata": {},
   "outputs": [
    {
     "name": "stdout",
     "output_type": "stream",
     "text": [
      "они\tPOS=PRON|Case=Nom|Number=Plur|Person=3|PronType=Prs\t0.9410943122339618\n",
      "они\tPOS=PRON|Case=Nom|Number=Plur|Person=3\t0.05654492476862961\n",
      "стали\tPOS=VERB|Aspect=Perf|Mood=Ind|Number=Plur|Tense=Past|VerbForm=Fin|Voice=Act\t0.2773807683956345\n",
      "стали\tPOS=VERB|Aspect=Perf|Mood=Ind|Number=Plur|Tense=Past|VerbForm=Fin|Voice=Mid\t0.487979429865982\n",
      "стали\tPOS=NOUN|Animacy=Inan|Case=Gen|Gender=Fem|Number=Sing\t0.4352742436662145\n"
     ]
    },
    {
     "name": "stderr",
     "output_type": "stream",
     "text": [
      "/home/smertlove/sandbox/hse/ToFL_labs/.venv/lib/python3.10/site-packages/sklearn/utils/validation.py:2739: UserWarning: X does not have valid feature names, but LGBMClassifier was fitted with feature names\n",
      "  warnings.warn(\n",
      "/home/smertlove/sandbox/hse/ToFL_labs/.venv/lib/python3.10/site-packages/sklearn/utils/validation.py:2739: UserWarning: X does not have valid feature names, but LGBMClassifier was fitted with feature names\n",
      "  warnings.warn(\n",
      "/home/smertlove/sandbox/hse/ToFL_labs/.venv/lib/python3.10/site-packages/sklearn/utils/validation.py:2739: UserWarning: X does not have valid feature names, but LGBMClassifier was fitted with feature names\n",
      "  warnings.warn(\n",
      "/home/smertlove/sandbox/hse/ToFL_labs/.venv/lib/python3.10/site-packages/sklearn/utils/validation.py:2739: UserWarning: X does not have valid feature names, but LGBMClassifier was fitted with feature names\n",
      "  warnings.warn(\n",
      "/home/smertlove/sandbox/hse/ToFL_labs/.venv/lib/python3.10/site-packages/sklearn/utils/validation.py:2739: UserWarning: X does not have valid feature names, but LGBMClassifier was fitted with feature names\n",
      "  warnings.warn(\n"
     ]
    },
    {
     "data": {
      "text/plain": [
       "[['В', 'POS=ADP'],\n",
       " ['итоге', 'POS=NOUN|Animacy=Inan|Case=Loc|Gender=Masc|Number=Sing'],\n",
       " ['они', 'POS=PRON|Case=Nom|Number=Plur|Person=3|PronType=Prs'],\n",
       " ['стали',\n",
       "  'POS=VERB|Aspect=Perf|Mood=Ind|Number=Plur|Tense=Past|VerbForm=Fin|Voice=Mid'],\n",
       " ['разбойниками', 'Unkn=Unkn'],\n",
       " ['.', 'POS=PUNCT']]"
      ]
     },
     "execution_count": 75,
     "metadata": {},
     "output_type": "execute_result"
    }
   ],
   "source": [
    "disambiguate_sentence(\"В итоге они стали разбойниками .\".split(), model)"
   ]
  },
  {
   "cell_type": "code",
   "execution_count": 70,
   "metadata": {},
   "outputs": [
    {
     "name": "stdout",
     "output_type": "stream",
     "text": [
      "Завод\tPOS=NOUN|Animacy=Inan|Case=Nom|Gender=Masc|Number=Sing\t0.7657080149316211\n",
      "Завод\tPOS=NOUN|Animacy=Inan|Case=Acc|Gender=Masc|Number=Sing\t0.23089967080332932\n",
      "стали\tPOS=VERB|Aspect=Perf|Mood=Ind|Number=Plur|Tense=Past|VerbForm=Fin|Voice=Act\t0.3996179464628823\n",
      "стали\tPOS=VERB|Aspect=Perf|Mood=Ind|Number=Plur|Tense=Past|VerbForm=Fin|Voice=Mid\t0.46966881176653846\n",
      "стали\tPOS=NOUN|Animacy=Inan|Case=Gen|Gender=Fem|Number=Sing\t0.4797654538727015\n"
     ]
    },
    {
     "name": "stderr",
     "output_type": "stream",
     "text": [
      "/home/smertlove/sandbox/hse/ToFL_labs/.venv/lib/python3.10/site-packages/sklearn/utils/validation.py:2739: UserWarning: X does not have valid feature names, but LGBMClassifier was fitted with feature names\n",
      "  warnings.warn(\n",
      "/home/smertlove/sandbox/hse/ToFL_labs/.venv/lib/python3.10/site-packages/sklearn/utils/validation.py:2739: UserWarning: X does not have valid feature names, but LGBMClassifier was fitted with feature names\n",
      "  warnings.warn(\n",
      "/home/smertlove/sandbox/hse/ToFL_labs/.venv/lib/python3.10/site-packages/sklearn/utils/validation.py:2739: UserWarning: X does not have valid feature names, but LGBMClassifier was fitted with feature names\n",
      "  warnings.warn(\n",
      "/home/smertlove/sandbox/hse/ToFL_labs/.venv/lib/python3.10/site-packages/sklearn/utils/validation.py:2739: UserWarning: X does not have valid feature names, but LGBMClassifier was fitted with feature names\n",
      "  warnings.warn(\n",
      "/home/smertlove/sandbox/hse/ToFL_labs/.venv/lib/python3.10/site-packages/sklearn/utils/validation.py:2739: UserWarning: X does not have valid feature names, but LGBMClassifier was fitted with feature names\n",
      "  warnings.warn(\n"
     ]
    },
    {
     "data": {
      "text/plain": [
       "[['Завод', 'POS=NOUN|Animacy=Inan|Case=Nom|Gender=Masc|Number=Sing'],\n",
       " [',', 'POS=PUNCT'],\n",
       " ['производящий', 'Unkn=Unkn'],\n",
       " ['стали', 'POS=NOUN|Animacy=Inan|Case=Gen|Gender=Fem|Number=Sing'],\n",
       " ['.', 'POS=PUNCT']]"
      ]
     },
     "execution_count": 70,
     "metadata": {},
     "output_type": "execute_result"
    }
   ],
   "source": [
    "disambiguate_sentence(\"Завод , производящий стали .\".split(), model)"
   ]
  },
  {
   "cell_type": "code",
   "execution_count": null,
   "metadata": {},
   "outputs": [
    {
     "name": "stdout",
     "output_type": "stream",
     "text": [
      "стали\tPOS=VERB|Aspect=Perf|Mood=Ind|Number=Plur|Tense=Past|VerbForm=Fin|Voice=Act\t0.5333808103536697\n",
      "стали\tPOS=VERB|Aspect=Perf|Mood=Ind|Number=Plur|Tense=Past|VerbForm=Fin|Voice=Mid\t0.4703197575905293\n",
      "стали\tPOS=NOUN|Animacy=Inan|Case=Gen|Gender=Fem|Number=Sing\t0.4824340613896696\n",
      "которые\tPOS=PRON|Case=Acc|PronType=Int,Rel\t0.412156596773844\n",
      "которые\tPOS=PRON|Case=Nom|PronType=Int,Rel\t0.16492322400122736\n",
      "которые\tPOS=PRON|Case=Nom|Number=Plur\t0.23170548226228918\n",
      "которые\tPOS=PRON|Animacy=Inan|Case=Acc|Number=Plur\t0.3236271419588549\n",
      "мы\tPOS=PRON|Case=Nom|Number=Plur|Person=1|PronType=Prs\t0.8831806459383733\n",
      "мы\tPOS=PRON|Case=Nom|Number=Plur|Person=1\t0.04320322244734478\n"
     ]
    },
    {
     "name": "stderr",
     "output_type": "stream",
     "text": [
      "/home/smertlove/sandbox/hse/ToFL_labs/.venv/lib/python3.10/site-packages/sklearn/utils/validation.py:2739: UserWarning: X does not have valid feature names, but LGBMClassifier was fitted with feature names\n",
      "  warnings.warn(\n",
      "/home/smertlove/sandbox/hse/ToFL_labs/.venv/lib/python3.10/site-packages/sklearn/utils/validation.py:2739: UserWarning: X does not have valid feature names, but LGBMClassifier was fitted with feature names\n",
      "  warnings.warn(\n",
      "/home/smertlove/sandbox/hse/ToFL_labs/.venv/lib/python3.10/site-packages/sklearn/utils/validation.py:2739: UserWarning: X does not have valid feature names, but LGBMClassifier was fitted with feature names\n",
      "  warnings.warn(\n",
      "/home/smertlove/sandbox/hse/ToFL_labs/.venv/lib/python3.10/site-packages/sklearn/utils/validation.py:2739: UserWarning: X does not have valid feature names, but LGBMClassifier was fitted with feature names\n",
      "  warnings.warn(\n",
      "/home/smertlove/sandbox/hse/ToFL_labs/.venv/lib/python3.10/site-packages/sklearn/utils/validation.py:2739: UserWarning: X does not have valid feature names, but LGBMClassifier was fitted with feature names\n",
      "  warnings.warn(\n",
      "/home/smertlove/sandbox/hse/ToFL_labs/.venv/lib/python3.10/site-packages/sklearn/utils/validation.py:2739: UserWarning: X does not have valid feature names, but LGBMClassifier was fitted with feature names\n",
      "  warnings.warn(\n",
      "/home/smertlove/sandbox/hse/ToFL_labs/.venv/lib/python3.10/site-packages/sklearn/utils/validation.py:2739: UserWarning: X does not have valid feature names, but LGBMClassifier was fitted with feature names\n",
      "  warnings.warn(\n",
      "/home/smertlove/sandbox/hse/ToFL_labs/.venv/lib/python3.10/site-packages/sklearn/utils/validation.py:2739: UserWarning: X does not have valid feature names, but LGBMClassifier was fitted with feature names\n",
      "  warnings.warn(\n",
      "/home/smertlove/sandbox/hse/ToFL_labs/.venv/lib/python3.10/site-packages/sklearn/utils/validation.py:2739: UserWarning: X does not have valid feature names, but LGBMClassifier was fitted with feature names\n",
      "  warnings.warn(\n"
     ]
    },
    {
     "data": {
      "text/plain": [
       "[['стали',\n",
       "  'POS=VERB|Aspect=Perf|Mood=Ind|Number=Plur|Tense=Past|VerbForm=Fin|Voice=Act'],\n",
       " [',', 'POS=PUNCT'],\n",
       " ['которые', 'POS=PRON|Case=Acc|PronType=Int,Rel'],\n",
       " ['мы', 'POS=PRON|Case=Nom|Number=Plur|Person=1|PronType=Prs'],\n",
       " ['производим', 'Unkn=Unkn'],\n",
       " ['.', 'POS=PUNCT']]"
      ]
     },
     "execution_count": 73,
     "metadata": {},
     "output_type": "execute_result"
    }
   ],
   "source": [
    "# Недостаточно контекста\n",
    "disambiguate_sentence(\"стали , которые мы производим .\".split(), model)"
   ]
  },
  {
   "cell_type": "markdown",
   "metadata": {},
   "source": [
    "### Пример 2: падеж"
   ]
  },
  {
   "cell_type": "code",
   "execution_count": 56,
   "metadata": {},
   "outputs": [
    {
     "name": "stdout",
     "output_type": "stream",
     "text": [
      "связи\tPOS=NOUN|Animacy=Inan|Case=Gen|Gender=Fem|Number=Sing\t0.7821928980705306\n",
      "связи\tPOS=NOUN|Animacy=Inan|Case=Loc|Gender=Fem|Number=Sing\t0.14301670560841828\n",
      "связи\tPOS=NOUN|Animacy=Inan|Case=Acc|Gender=Fem|Number=Plur\t0.12173660638699113\n",
      "связи\tPOS=NOUN|Animacy=Inan|Case=Nom|Gender=Fem|Number=Plur\t0.289142732564695\n"
     ]
    },
    {
     "name": "stderr",
     "output_type": "stream",
     "text": [
      "/home/smertlove/sandbox/hse/ToFL_labs/.venv/lib/python3.10/site-packages/sklearn/utils/validation.py:2739: UserWarning: X does not have valid feature names, but LGBMClassifier was fitted with feature names\n",
      "  warnings.warn(\n",
      "/home/smertlove/sandbox/hse/ToFL_labs/.venv/lib/python3.10/site-packages/sklearn/utils/validation.py:2739: UserWarning: X does not have valid feature names, but LGBMClassifier was fitted with feature names\n",
      "  warnings.warn(\n",
      "/home/smertlove/sandbox/hse/ToFL_labs/.venv/lib/python3.10/site-packages/sklearn/utils/validation.py:2739: UserWarning: X does not have valid feature names, but LGBMClassifier was fitted with feature names\n",
      "  warnings.warn(\n",
      "/home/smertlove/sandbox/hse/ToFL_labs/.venv/lib/python3.10/site-packages/sklearn/utils/validation.py:2739: UserWarning: X does not have valid feature names, but LGBMClassifier was fitted with feature names\n",
      "  warnings.warn(\n"
     ]
    },
    {
     "data": {
      "text/plain": [
       "[['Для', 'POS=ADP'],\n",
       " ['установления', 'POS=NOUN|Animacy=Inan|Case=Gen|Gender=Neut|Number=Sing'],\n",
       " ['связи', 'POS=NOUN|Animacy=Inan|Case=Gen|Gender=Fem|Number=Sing'],\n",
       " ['с', 'POS=ADP'],\n",
       " ['пришельцами', 'Unkn=Unkn'],\n",
       " ['.', 'POS=PUNCT']]"
      ]
     },
     "execution_count": 56,
     "metadata": {},
     "output_type": "execute_result"
    }
   ],
   "source": [
    "disambiguate_sentence(\"Для установления связи с пришельцами .\".split(), model)"
   ]
  },
  {
   "cell_type": "code",
   "execution_count": 57,
   "metadata": {},
   "outputs": [
    {
     "name": "stdout",
     "output_type": "stream",
     "text": [
      "Наши\tPOS=DET|Case=Nom|Number=Plur|Poss=Yes|PronType=Prs\t0.8174051474847277\n",
      "Наши\tPOS=DET|Case=Acc|Number=Plur|Poss=Yes|PronType=Prs\t0.49333631059075006\n",
      "Наши\tPOS=DET|Animacy=Inan|Case=Acc|Number=Plur\t0.17932659073661827\n",
      "Наши\tPOS=DET|Case=Nom|Number=Plur\t0.19312027592786477\n",
      "связи\tPOS=NOUN|Animacy=Inan|Case=Gen|Gender=Fem|Number=Sing\t0.39891742605929353\n",
      "связи\tPOS=NOUN|Animacy=Inan|Case=Loc|Gender=Fem|Number=Sing\t0.12105718061149123\n",
      "связи\tPOS=NOUN|Animacy=Inan|Case=Acc|Gender=Fem|Number=Plur\t0.0962986355968993\n",
      "связи\tPOS=NOUN|Animacy=Inan|Case=Nom|Gender=Fem|Number=Plur\t0.8932993573756414\n"
     ]
    },
    {
     "name": "stderr",
     "output_type": "stream",
     "text": [
      "/home/smertlove/sandbox/hse/ToFL_labs/.venv/lib/python3.10/site-packages/sklearn/utils/validation.py:2739: UserWarning: X does not have valid feature names, but LGBMClassifier was fitted with feature names\n",
      "  warnings.warn(\n",
      "/home/smertlove/sandbox/hse/ToFL_labs/.venv/lib/python3.10/site-packages/sklearn/utils/validation.py:2739: UserWarning: X does not have valid feature names, but LGBMClassifier was fitted with feature names\n",
      "  warnings.warn(\n",
      "/home/smertlove/sandbox/hse/ToFL_labs/.venv/lib/python3.10/site-packages/sklearn/utils/validation.py:2739: UserWarning: X does not have valid feature names, but LGBMClassifier was fitted with feature names\n",
      "  warnings.warn(\n",
      "/home/smertlove/sandbox/hse/ToFL_labs/.venv/lib/python3.10/site-packages/sklearn/utils/validation.py:2739: UserWarning: X does not have valid feature names, but LGBMClassifier was fitted with feature names\n",
      "  warnings.warn(\n",
      "/home/smertlove/sandbox/hse/ToFL_labs/.venv/lib/python3.10/site-packages/sklearn/utils/validation.py:2739: UserWarning: X does not have valid feature names, but LGBMClassifier was fitted with feature names\n",
      "  warnings.warn(\n",
      "/home/smertlove/sandbox/hse/ToFL_labs/.venv/lib/python3.10/site-packages/sklearn/utils/validation.py:2739: UserWarning: X does not have valid feature names, but LGBMClassifier was fitted with feature names\n",
      "  warnings.warn(\n",
      "/home/smertlove/sandbox/hse/ToFL_labs/.venv/lib/python3.10/site-packages/sklearn/utils/validation.py:2739: UserWarning: X does not have valid feature names, but LGBMClassifier was fitted with feature names\n",
      "  warnings.warn(\n",
      "/home/smertlove/sandbox/hse/ToFL_labs/.venv/lib/python3.10/site-packages/sklearn/utils/validation.py:2739: UserWarning: X does not have valid feature names, but LGBMClassifier was fitted with feature names\n",
      "  warnings.warn(\n"
     ]
    },
    {
     "data": {
      "text/plain": [
       "[['Наши', 'POS=DET|Case=Nom|Number=Plur|Poss=Yes|PronType=Prs'],\n",
       " ['связи', 'POS=NOUN|Animacy=Inan|Case=Nom|Gender=Fem|Number=Plur'],\n",
       " ['с', 'POS=ADP'],\n",
       " ['коллегами', 'POS=NOUN|Animacy=Anim|Case=Ins|Gender=Masc|Number=Plur'],\n",
       " ['.', 'POS=PUNCT']]"
      ]
     },
     "execution_count": 57,
     "metadata": {},
     "output_type": "execute_result"
    }
   ],
   "source": [
    "disambiguate_sentence(\"Наши связи с коллегами .\".split(), model)"
   ]
  },
  {
   "cell_type": "code",
   "execution_count": 59,
   "metadata": {},
   "outputs": [
    {
     "name": "stdout",
     "output_type": "stream",
     "text": [
      "18\tPOS=NUM|NumType=Card\t0.8270148472327914\n",
      "18\tPOS=NUM\t0.8270148472327914\n",
      "18\tPOS=ADJ\t0.10900230332007474\n",
      "человек\tPOS=NOUN|Animacy=Anim|Case=Nom|Gender=Masc|Number=Sing\t0.37675607807173767\n",
      "человек\tPOS=NOUN|Animacy=Anim|Case=Gen|Gender=Masc|Number=Plur\t0.6343944777518347\n"
     ]
    },
    {
     "name": "stderr",
     "output_type": "stream",
     "text": [
      "/home/smertlove/sandbox/hse/ToFL_labs/.venv/lib/python3.10/site-packages/sklearn/utils/validation.py:2739: UserWarning: X does not have valid feature names, but LGBMClassifier was fitted with feature names\n",
      "  warnings.warn(\n",
      "/home/smertlove/sandbox/hse/ToFL_labs/.venv/lib/python3.10/site-packages/sklearn/utils/validation.py:2739: UserWarning: X does not have valid feature names, but LGBMClassifier was fitted with feature names\n",
      "  warnings.warn(\n",
      "/home/smertlove/sandbox/hse/ToFL_labs/.venv/lib/python3.10/site-packages/sklearn/utils/validation.py:2739: UserWarning: X does not have valid feature names, but LGBMClassifier was fitted with feature names\n",
      "  warnings.warn(\n",
      "/home/smertlove/sandbox/hse/ToFL_labs/.venv/lib/python3.10/site-packages/sklearn/utils/validation.py:2739: UserWarning: X does not have valid feature names, but LGBMClassifier was fitted with feature names\n",
      "  warnings.warn(\n",
      "/home/smertlove/sandbox/hse/ToFL_labs/.venv/lib/python3.10/site-packages/sklearn/utils/validation.py:2739: UserWarning: X does not have valid feature names, but LGBMClassifier was fitted with feature names\n",
      "  warnings.warn(\n"
     ]
    },
    {
     "data": {
      "text/plain": [
       "[['18', 'POS=NUM|NumType=Card'],\n",
       " ['человек', 'POS=NOUN|Animacy=Anim|Case=Gen|Gender=Masc|Number=Plur'],\n",
       " ['.', 'POS=PUNCT']]"
      ]
     },
     "execution_count": 59,
     "metadata": {},
     "output_type": "execute_result"
    }
   ],
   "source": [
    "disambiguate_sentence(\"18 человек .\".split(), model)"
   ]
  },
  {
   "cell_type": "code",
   "execution_count": 60,
   "metadata": {},
   "outputs": [
    {
     "name": "stdout",
     "output_type": "stream",
     "text": [
      "Тот\tPOS=DET|Case=Acc|Gender=Masc|Number=Sing|PronType=Dem\t0.34409332452990526\n",
      "Тот\tPOS=DET|Case=Nom|Gender=Masc|Number=Sing|PronType=Dem\t0.711244767108151\n",
      "Тот\tPOS=DET|Animacy=Inan|Case=Acc|Gender=Masc|Number=Sing\t0.17517261307106563\n",
      "Тот\tPOS=DET|Case=Nom|Gender=Masc|Number=Sing\t0.18878527574404855\n",
      "самый\tPOS=ADJ|Animacy=Inan|Case=Acc|Degree=Pos|Gender=Masc|Number=Sing\t0.13351796729952956\n",
      "самый\tPOS=ADJ|Case=Nom|Degree=Pos|Gender=Masc|Number=Sing\t0.7929178155095201\n",
      "самый\tPOS=DET|Animacy=Inan|Case=Acc|Gender=Masc|Number=Sing\t0.08319809881083459\n",
      "самый\tPOS=DET|Case=Nom|Gender=Masc|Number=Sing\t0.37717207676575604\n",
      "человек\tPOS=NOUN|Animacy=Anim|Case=Nom|Gender=Masc|Number=Sing\t0.8778543527320118\n",
      "человек\tPOS=NOUN|Animacy=Anim|Case=Gen|Gender=Masc|Number=Plur\t0.5242649552704631\n"
     ]
    },
    {
     "name": "stderr",
     "output_type": "stream",
     "text": [
      "/home/smertlove/sandbox/hse/ToFL_labs/.venv/lib/python3.10/site-packages/sklearn/utils/validation.py:2739: UserWarning: X does not have valid feature names, but LGBMClassifier was fitted with feature names\n",
      "  warnings.warn(\n",
      "/home/smertlove/sandbox/hse/ToFL_labs/.venv/lib/python3.10/site-packages/sklearn/utils/validation.py:2739: UserWarning: X does not have valid feature names, but LGBMClassifier was fitted with feature names\n",
      "  warnings.warn(\n",
      "/home/smertlove/sandbox/hse/ToFL_labs/.venv/lib/python3.10/site-packages/sklearn/utils/validation.py:2739: UserWarning: X does not have valid feature names, but LGBMClassifier was fitted with feature names\n",
      "  warnings.warn(\n",
      "/home/smertlove/sandbox/hse/ToFL_labs/.venv/lib/python3.10/site-packages/sklearn/utils/validation.py:2739: UserWarning: X does not have valid feature names, but LGBMClassifier was fitted with feature names\n",
      "  warnings.warn(\n",
      "/home/smertlove/sandbox/hse/ToFL_labs/.venv/lib/python3.10/site-packages/sklearn/utils/validation.py:2739: UserWarning: X does not have valid feature names, but LGBMClassifier was fitted with feature names\n",
      "  warnings.warn(\n",
      "/home/smertlove/sandbox/hse/ToFL_labs/.venv/lib/python3.10/site-packages/sklearn/utils/validation.py:2739: UserWarning: X does not have valid feature names, but LGBMClassifier was fitted with feature names\n",
      "  warnings.warn(\n",
      "/home/smertlove/sandbox/hse/ToFL_labs/.venv/lib/python3.10/site-packages/sklearn/utils/validation.py:2739: UserWarning: X does not have valid feature names, but LGBMClassifier was fitted with feature names\n",
      "  warnings.warn(\n",
      "/home/smertlove/sandbox/hse/ToFL_labs/.venv/lib/python3.10/site-packages/sklearn/utils/validation.py:2739: UserWarning: X does not have valid feature names, but LGBMClassifier was fitted with feature names\n",
      "  warnings.warn(\n",
      "/home/smertlove/sandbox/hse/ToFL_labs/.venv/lib/python3.10/site-packages/sklearn/utils/validation.py:2739: UserWarning: X does not have valid feature names, but LGBMClassifier was fitted with feature names\n",
      "  warnings.warn(\n",
      "/home/smertlove/sandbox/hse/ToFL_labs/.venv/lib/python3.10/site-packages/sklearn/utils/validation.py:2739: UserWarning: X does not have valid feature names, but LGBMClassifier was fitted with feature names\n",
      "  warnings.warn(\n"
     ]
    },
    {
     "data": {
      "text/plain": [
       "[['Тот', 'POS=DET|Case=Nom|Gender=Masc|Number=Sing|PronType=Dem'],\n",
       " ['самый', 'POS=ADJ|Case=Nom|Degree=Pos|Gender=Masc|Number=Sing'],\n",
       " ['человек', 'POS=NOUN|Animacy=Anim|Case=Nom|Gender=Masc|Number=Sing'],\n",
       " ['.', 'POS=PUNCT']]"
      ]
     },
     "execution_count": 60,
     "metadata": {},
     "output_type": "execute_result"
    }
   ],
   "source": [
    "disambiguate_sentence(\"Тот самый человек .\".split(), model)"
   ]
  },
  {
   "cell_type": "code",
   "execution_count": null,
   "metadata": {},
   "outputs": [
    {
     "name": "stderr",
     "output_type": "stream",
     "text": [
      "/home/smertlove/sandbox/hse/ToFL_labs/.venv/lib/python3.10/site-packages/sklearn/utils/validation.py:2739: UserWarning: X does not have valid feature names, but LGBMClassifier was fitted with feature names\n",
      "  warnings.warn(\n",
      "/home/smertlove/sandbox/hse/ToFL_labs/.venv/lib/python3.10/site-packages/sklearn/utils/validation.py:2739: UserWarning: X does not have valid feature names, but LGBMClassifier was fitted with feature names\n",
      "  warnings.warn(\n",
      "/home/smertlove/sandbox/hse/ToFL_labs/.venv/lib/python3.10/site-packages/sklearn/utils/validation.py:2739: UserWarning: X does not have valid feature names, but LGBMClassifier was fitted with feature names\n",
      "  warnings.warn(\n",
      "/home/smertlove/sandbox/hse/ToFL_labs/.venv/lib/python3.10/site-packages/sklearn/utils/validation.py:2739: UserWarning: X does not have valid feature names, but LGBMClassifier was fitted with feature names\n",
      "  warnings.warn(\n",
      "/home/smertlove/sandbox/hse/ToFL_labs/.venv/lib/python3.10/site-packages/sklearn/utils/validation.py:2739: UserWarning: X does not have valid feature names, but LGBMClassifier was fitted with feature names\n",
      "  warnings.warn(\n"
     ]
    },
    {
     "name": "stdout",
     "output_type": "stream",
     "text": [
      "Несколько\tPOS=ADV|Degree=Pos\t0.5250802368455961\n",
      "Несколько\tPOS=NUM|Animacy=Inan|Case=Acc|NumType=Card\t0.5663796516062514\n",
      "Несколько\tPOS=NUM|Case=Nom|NumType=Card\t0.6190846233633428\n",
      "Несколько\tPOS=NUM|Case=Nom\t0.6190846233633428\n",
      "Несколько\tPOS=NUM|Animacy=Inan|Case=Acc\t0.5663796516062514\n",
      "человек\tPOS=NOUN|Animacy=Anim|Case=Nom|Gender=Masc|Number=Sing\t0.7509036516654578\n",
      "человек\tPOS=NOUN|Animacy=Anim|Case=Gen|Gender=Masc|Number=Plur\t0.6606745070552508\n"
     ]
    },
    {
     "name": "stderr",
     "output_type": "stream",
     "text": [
      "/home/smertlove/sandbox/hse/ToFL_labs/.venv/lib/python3.10/site-packages/sklearn/utils/validation.py:2739: UserWarning: X does not have valid feature names, but LGBMClassifier was fitted with feature names\n",
      "  warnings.warn(\n",
      "/home/smertlove/sandbox/hse/ToFL_labs/.venv/lib/python3.10/site-packages/sklearn/utils/validation.py:2739: UserWarning: X does not have valid feature names, but LGBMClassifier was fitted with feature names\n",
      "  warnings.warn(\n"
     ]
    },
    {
     "data": {
      "text/plain": [
       "[['Несколько', 'POS=NUM|Case=Nom|NumType=Card'],\n",
       " ['человек', 'POS=NOUN|Animacy=Anim|Case=Nom|Gender=Masc|Number=Sing'],\n",
       " ['.', 'POS=PUNCT']]"
      ]
     },
     "execution_count": 61,
     "metadata": {},
     "output_type": "execute_result"
    }
   ],
   "source": [
    "# Неверно классифицировалось \"Несколько\", ошибка потянулась в \"человек\"\n",
    "disambiguate_sentence(\"Несколько человек .\".split(), model)"
   ]
  },
  {
   "cell_type": "code",
   "execution_count": null,
   "metadata": {},
   "outputs": [],
   "source": []
  }
 ],
 "metadata": {
  "kernelspec": {
   "display_name": ".venv",
   "language": "python",
   "name": "python3"
  },
  "language_info": {
   "codemirror_mode": {
    "name": "ipython",
    "version": 3
   },
   "file_extension": ".py",
   "mimetype": "text/x-python",
   "name": "python",
   "nbconvert_exporter": "python",
   "pygments_lexer": "ipython3",
   "version": "3.10.12"
  }
 },
 "nbformat": 4,
 "nbformat_minor": 2
}
