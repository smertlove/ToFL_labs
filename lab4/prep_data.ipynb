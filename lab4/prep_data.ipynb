{
 "cells": [
  {
   "cell_type": "markdown",
   "metadata": {},
   "source": [
    "## Загрузка данных"
   ]
  },
  {
   "cell_type": "code",
   "execution_count": 26,
   "metadata": {},
   "outputs": [],
   "source": [
    "import pathlib\n",
    "import requests"
   ]
  },
  {
   "cell_type": "code",
   "execution_count": 27,
   "metadata": {},
   "outputs": [],
   "source": [
    "datadir = pathlib.Path().cwd() / \"data\""
   ]
  },
  {
   "cell_type": "code",
   "execution_count": 28,
   "metadata": {},
   "outputs": [],
   "source": [
    "if not datadir.exists():\n",
    "    datadir.mkdir()"
   ]
  },
  {
   "cell_type": "code",
   "execution_count": 29,
   "metadata": {},
   "outputs": [],
   "source": [
    "# Путь к raw файлу\n",
    "ghb_url = \"https://github.com/UniversalDependencies/UD_Russian-SynTagRus/raw/refs/heads/master/\""
   ]
  },
  {
   "cell_type": "code",
   "execution_count": 30,
   "metadata": {},
   "outputs": [],
   "source": [
    "filenames = [\n",
    "    \"ru_syntagrus-ud-train-a.conllu\",\n",
    "    \"ru_syntagrus-ud-train-b.conllu\",\n",
    "    \"ru_syntagrus-ud-train-c.conllu\",\n",
    "    \"ru_syntagrus-ud-test.conllu\"\n",
    "]"
   ]
  },
  {
   "cell_type": "code",
   "execution_count": 31,
   "metadata": {},
   "outputs": [],
   "source": [
    "for filename in filenames:\n",
    "    path = datadir / filename\n",
    "    if not path.exists():\n",
    "        url = ghb_url + filename\n",
    "\n",
    "        try:\n",
    "            response = requests.get(url, timeout=15)\n",
    "            response.raise_for_status()\n",
    "\n",
    "        except requests.exceptions.RequestException as e:\n",
    "            print(f\"Download failed: {e}\")\n",
    "\n",
    "        else:\n",
    "            with open(path, \"w\", encoding=\"utf-8\") as file:\n",
    "                file.write(response.text)"
   ]
  },
  {
   "cell_type": "markdown",
   "metadata": {},
   "source": [
    "## Подготовка датасета\n",
    "\n",
    "Функциональные зависимости нам тут не нужны, нужна чисто грамматика"
   ]
  },
  {
   "cell_type": "code",
   "execution_count": 47,
   "metadata": {},
   "outputs": [],
   "source": [
    "def prep_entry(text:str):\n",
    "    entry = tuple(filter(lambda l: not l.startswith(\"#\"), text.split(\"\\n\")))\n",
    "    entry = [line.split(\"\\t\") for line in entry]\n",
    "    return entry"
   ]
  },
  {
   "cell_type": "code",
   "execution_count": 48,
   "metadata": {},
   "outputs": [],
   "source": [
    "def get_all_grammar(entry: list[str]) -> dict[str, str]:\n",
    "\n",
    "    pos = entry[3]\n",
    "    feats = entry[5]\n",
    "\n",
    "    result = [f\"POS={pos}\"]\n",
    "                      \n",
    "    if feats != \"_\":\n",
    "         result += sorted(feats.split(\"|\"))\n",
    "\n",
    "    return \"|\".join(result)"
   ]
  },
  {
   "cell_type": "code",
   "execution_count": 49,
   "metadata": {},
   "outputs": [],
   "source": [
    "train_path = datadir / \"train.txt\""
   ]
  },
  {
   "cell_type": "code",
   "execution_count": 52,
   "metadata": {},
   "outputs": [],
   "source": [
    "for name in filenames:\n",
    "    source_path = datadir / name\n",
    "    target_path = datadir / (\"processed_\" + name)\n",
    "\n",
    "    if not target_path.exists():\n",
    "        with open(target_path, \"w\", encoding=\"utf-8\") as target_file, open(source_path, \"r\", encoding=\"utf-8\") as source_file:\n",
    "            data = source_file.read().split(\"\\n\\n\")\n",
    "\n",
    "            for text in data:\n",
    "\n",
    "                if not text.strip():\n",
    "                    continue\n",
    "\n",
    "                entry = prep_entry(text)\n",
    "\n",
    "                for line in entry:\n",
    "                    target_file.write(f\"{line[1]}\\t{get_all_grammar(line)}\\n\")\n",
    "                target_file.write(\"\\n\")"
   ]
  }
 ],
 "metadata": {
  "kernelspec": {
   "display_name": ".venv",
   "language": "python",
   "name": "python3"
  },
  "language_info": {
   "codemirror_mode": {
    "name": "ipython",
    "version": 3
   },
   "file_extension": ".py",
   "mimetype": "text/x-python",
   "name": "python",
   "nbconvert_exporter": "python",
   "pygments_lexer": "ipython3",
   "version": "3.10.12"
  }
 },
 "nbformat": 4,
 "nbformat_minor": 2
}
