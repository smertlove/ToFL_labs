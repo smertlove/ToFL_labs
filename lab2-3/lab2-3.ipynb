{
 "cells": [
  {
   "cell_type": "code",
   "execution_count": 1,
   "id": "d5eab5c9",
   "metadata": {},
   "outputs": [],
   "source": [
    "from OurSQL.parser import OurSQLInterpreter"
   ]
  },
  {
   "cell_type": "code",
   "execution_count": 2,
   "id": "ebbc280c",
   "metadata": {},
   "outputs": [],
   "source": [
    "interpreter = OurSQLInterpreter()"
   ]
  },
  {
   "cell_type": "code",
   "execution_count": 3,
   "id": "d172b50b",
   "metadata": {},
   "outputs": [
    {
     "name": "stdout",
     "output_type": "stream",
     "text": [
      "Existing databases:\n",
      "__MAIN__ 0 tables\t<--\n"
     ]
    }
   ],
   "source": [
    "interpreter.run(\"SHOW DATABASES;\")"
   ]
  },
  {
   "cell_type": "code",
   "execution_count": 4,
   "id": "18305e13",
   "metadata": {},
   "outputs": [
    {
     "name": "stdout",
     "output_type": "stream",
     "text": [
      "Existing databases:\n",
      "__MAIN__ 0 tables\t<--\n",
      "MyShinyDB 0 tables\n"
     ]
    }
   ],
   "source": [
    "interpreter.run(\"\"\"\n",
    "    CREATE DATABASE MyShinyDB;\n",
    "    SHOW DATABASES;\n",
    "\"\"\")"
   ]
  },
  {
   "cell_type": "code",
   "execution_count": 5,
   "id": "44dfc5c0",
   "metadata": {},
   "outputs": [],
   "source": [
    "interpreter.run(\"\"\"\n",
    "    CREATE TABLE User(\n",
    "        id INT PRIMARY KEY AUTOINCREMENT,\n",
    "        name STR NOT NULL,\n",
    "        type STR FOREIGN KEY REFERENCES Type(type)  \n",
    "    );\n",
    "\"\"\")"
   ]
  },
  {
   "cell_type": "code",
   "execution_count": 6,
   "id": "5318c842",
   "metadata": {},
   "outputs": [
    {
     "name": "stdout",
     "output_type": "stream",
     "text": [
      "Existing databases:\n",
      "__MAIN__ 1 table\t<--\n",
      "MyShinyDB 0 tables\n",
      "\n",
      "Tables of __MAIN__ database:\n",
      "User {'id': Field(name=id, type=int, default=None, nullable=True, PrimaryKey), 'name': Field(name=name, type=str, default=None, nullable=not_null), 'type': Field(name=type, type=str, default=None, nullable=True, ForeignKey references Type(type), on update: restrict, on delete: restrict)}\n"
     ]
    }
   ],
   "source": [
    "interpreter.run(\"SHOW DATABASES;\")\n",
    "print()\n",
    "interpreter.run(\"SHOW TABLES;\")"
   ]
  },
  {
   "cell_type": "code",
   "execution_count": 7,
   "id": "7f348fac",
   "metadata": {},
   "outputs": [
    {
     "name": "stdout",
     "output_type": "stream",
     "text": [
      "Existing databases:\n",
      "MyShinyDB 0 tables\t<--\n"
     ]
    }
   ],
   "source": [
    "interpreter.run(\"USE MyShinyDB;\")\n",
    "interpreter.run(\"drop database __MAIN__;\")\n",
    "interpreter.run(\"SHOW DATABASES;\")"
   ]
  },
  {
   "cell_type": "code",
   "execution_count": 8,
   "id": "1acbe352",
   "metadata": {},
   "outputs": [],
   "source": [
    "interpreter.run(\"\"\"\n",
    "    CREATE TABLE User(\n",
    "        id INT PRIMARY KEY AUTOINCREMENT,\n",
    "        name STR NOT NULL,\n",
    "        type STR DEFAULT \"basic\",\n",
    "        FOREIGN KEY (type) REFERENCES Type(type)  \n",
    "    );\n",
    "\"\"\")"
   ]
  },
  {
   "cell_type": "code",
   "execution_count": null,
   "id": "2fa1356c",
   "metadata": {},
   "outputs": [
    {
     "ename": "ValueError",
     "evalue": "id is already a PrimaryKey.",
     "output_type": "error",
     "traceback": [
      "\u001b[31m---------------------------------------------------------------------------\u001b[39m",
      "\u001b[31mValueError\u001b[39m                                Traceback (most recent call last)",
      "\u001b[36mCell\u001b[39m\u001b[36m \u001b[39m\u001b[32mIn[9]\u001b[39m\u001b[32m, line 1\u001b[39m\n\u001b[32m----> \u001b[39m\u001b[32m1\u001b[39m \u001b[43minterpreter\u001b[49m\u001b[43m.\u001b[49m\u001b[43mrun\u001b[49m\u001b[43m(\u001b[49m\u001b[33;43m\"\"\"\u001b[39;49m\n\u001b[32m      2\u001b[39m \u001b[33;43m    CREATE TABLE User2(\u001b[39;49m\n\u001b[32m      3\u001b[39m \u001b[33;43m        id INT PRIMARY KEY AUTOINCREMENT,\u001b[39;49m\n\u001b[32m      4\u001b[39m \u001b[33;43m        name STR NOT NULL,\u001b[39;49m\n\u001b[32m      5\u001b[39m \u001b[33;43m        type STR DEFAULT \u001b[39;49m\u001b[33;43m\"\u001b[39;49m\u001b[33;43mbasic\u001b[39;49m\u001b[33;43m\"\u001b[39;49m\u001b[33;43m,\u001b[39;49m\n\u001b[32m      6\u001b[39m \u001b[33;43m        PrImArY kEy (id),\u001b[39;49m\n\u001b[32m      7\u001b[39m \u001b[33;43m        FOREIGN KEY (type) REFERENCES Type(type)  \u001b[39;49m\n\u001b[32m      8\u001b[39m \u001b[33;43m    );\u001b[39;49m\n\u001b[32m      9\u001b[39m \u001b[33;43m\"\"\"\u001b[39;49m\u001b[43m)\u001b[49m\n",
      "\u001b[36mFile \u001b[39m\u001b[32md:\\HSE subj data\\compilers_hw\\ToFL_labs\\lab2-3\\OurSQL\\parser.py:77\u001b[39m, in \u001b[36mOurSQLInterpreter.run\u001b[39m\u001b[34m(self, string)\u001b[39m\n\u001b[32m     75\u001b[39m \u001b[38;5;28;01mfor\u001b[39;00m instruction \u001b[38;5;129;01min\u001b[39;00m tree.children:\n\u001b[32m     76\u001b[39m     \u001b[38;5;28;01mif\u001b[39;00m instruction.data.value == \u001b[33m\"\u001b[39m\u001b[33mddl_create\u001b[39m\u001b[33m\"\u001b[39m:\n\u001b[32m---> \u001b[39m\u001b[32m77\u001b[39m         \u001b[38;5;28;43mself\u001b[39;49m\u001b[43m.\u001b[49m\u001b[43mcreate\u001b[49m\u001b[43m(\u001b[49m\u001b[43m*\u001b[49m\u001b[43minstruction\u001b[49m\u001b[43m.\u001b[49m\u001b[43mchildren\u001b[49m\u001b[43m)\u001b[49m\n\u001b[32m     79\u001b[39m     \u001b[38;5;28;01melif\u001b[39;00m instruction.data.value == \u001b[33m\"\u001b[39m\u001b[33mddl_use\u001b[39m\u001b[33m\"\u001b[39m:\n\u001b[32m     80\u001b[39m         \u001b[38;5;28mself\u001b[39m.use(*instruction.children)\n",
      "\u001b[36mFile \u001b[39m\u001b[32md:\\HSE subj data\\compilers_hw\\ToFL_labs\\lab2-3\\OurSQL\\parser.py:155\u001b[39m, in \u001b[36mOurSQLInterpreter.create\u001b[39m\u001b[34m(self, entity, exists, name, struct)\u001b[39m\n\u001b[32m    152\u001b[39m         \u001b[38;5;28;01melse\u001b[39;00m:\n\u001b[32m    153\u001b[39m             \u001b[38;5;28;01mreturn\u001b[39;00m\n\u001b[32m--> \u001b[39m\u001b[32m155\u001b[39m     \u001b[38;5;28mself\u001b[39m.databases[\u001b[38;5;28mself\u001b[39m.cursor][name_str] = \u001b[38;5;28;43mself\u001b[39;49m\u001b[43m.\u001b[49m\u001b[43mcreate_table\u001b[49m\u001b[43m(\u001b[49m\u001b[43mstruct\u001b[49m\u001b[43m)\u001b[49m\n\u001b[32m    157\u001b[39m \u001b[38;5;28;01melse\u001b[39;00m:\n\u001b[32m    158\u001b[39m     \u001b[38;5;28;01mraise\u001b[39;00m \u001b[38;5;167;01mValueError\u001b[39;00m(\u001b[33mf\u001b[39m\u001b[33m\"\u001b[39m\u001b[33mInvalid entity \u001b[39m\u001b[38;5;130;01m\\\"\u001b[39;00m\u001b[38;5;132;01m{\u001b[39;00mentity_str\u001b[38;5;132;01m}\u001b[39;00m\u001b[38;5;130;01m\\\"\u001b[39;00m\u001b[33m\"\u001b[39m)\n",
      "\u001b[36mFile \u001b[39m\u001b[32md:\\HSE subj data\\compilers_hw\\ToFL_labs\\lab2-3\\OurSQL\\parser.py:199\u001b[39m, in \u001b[36mOurSQLInterpreter.create_table\u001b[39m\u001b[34m(self, struct)\u001b[39m\n\u001b[32m    196\u001b[39m     col = new_table[target_col]\n\u001b[32m    198\u001b[39m     \u001b[38;5;28;01mif\u001b[39;00m col.key \u001b[38;5;129;01mis\u001b[39;00m \u001b[38;5;129;01mnot\u001b[39;00m \u001b[38;5;28;01mNone\u001b[39;00m:\n\u001b[32m--> \u001b[39m\u001b[32m199\u001b[39m         \u001b[38;5;28;01mraise\u001b[39;00m \u001b[38;5;167;01mValueError\u001b[39;00m(\u001b[33mf\u001b[39m\u001b[33m\"\u001b[39m\u001b[38;5;132;01m{\u001b[39;00mtarget_col\u001b[38;5;132;01m}\u001b[39;00m\u001b[33m is already a \u001b[39m\u001b[38;5;132;01m{\u001b[39;00mcol.key.\u001b[34m__class__\u001b[39m.\u001b[34m__name__\u001b[39m\u001b[38;5;132;01m}\u001b[39;00m\u001b[33m.\u001b[39m\u001b[33m\"\u001b[39m)\n\u001b[32m    202\u001b[39m     new_table[target_col].key = \u001b[38;5;28mself\u001b[39m.create_key(var_def)\n\u001b[32m    204\u001b[39m \u001b[38;5;28;01melse\u001b[39;00m:\n",
      "\u001b[31mValueError\u001b[39m: id is already a PrimaryKey."
     ]
    }
   ],
   "source": [
    "v"
   ]
  },
  {
   "cell_type": "code",
   "execution_count": 10,
   "id": "6f5eda33",
   "metadata": {},
   "outputs": [
    {
     "ename": "ValueError",
     "evalue": "Дублирование атрибутов",
     "output_type": "error",
     "traceback": [
      "\u001b[31m---------------------------------------------------------------------------\u001b[39m",
      "\u001b[31mValueError\u001b[39m                                Traceback (most recent call last)",
      "\u001b[36mCell\u001b[39m\u001b[36m \u001b[39m\u001b[32mIn[10]\u001b[39m\u001b[32m, line 1\u001b[39m\n\u001b[32m----> \u001b[39m\u001b[32m1\u001b[39m \u001b[43minterpreter\u001b[49m\u001b[43m.\u001b[49m\u001b[43mrun\u001b[49m\u001b[43m(\u001b[49m\u001b[33;43m\"\"\"\u001b[39;49m\n\u001b[32m      2\u001b[39m \u001b[33;43m    CREATE TABLE User2(\u001b[39;49m\n\u001b[32m      3\u001b[39m \u001b[33;43m        id INT PRIMARY KEY AUTOINCREMENT PRIMARY KEY AUTOINCREMENT PRIMARY KEY AUTOINCREMENT PRIMARY KEY AUTOINCREMENT,\u001b[39;49m\n\u001b[32m      4\u001b[39m \u001b[33;43m        name STR NOT NULL,\u001b[39;49m\n\u001b[32m      5\u001b[39m \u001b[33;43m        type STR DEFAULT \u001b[39;49m\u001b[33;43m\"\u001b[39;49m\u001b[33;43mbasic\u001b[39;49m\u001b[33;43m\"\u001b[39;49m\u001b[33;43m,\u001b[39;49m\n\u001b[32m      6\u001b[39m \u001b[33;43m        FOREIGN KEY (type) REFERENCES Type(type)  \u001b[39;49m\n\u001b[32m      7\u001b[39m \u001b[33;43m    );\u001b[39;49m\n\u001b[32m      8\u001b[39m \u001b[33;43m\"\"\"\u001b[39;49m\u001b[43m)\u001b[49m\n",
      "\u001b[36mFile \u001b[39m\u001b[32md:\\HSE subj data\\compilers_hw\\ToFL_labs\\lab2-3\\OurSQL\\parser.py:77\u001b[39m, in \u001b[36mOurSQLInterpreter.run\u001b[39m\u001b[34m(self, string)\u001b[39m\n\u001b[32m     75\u001b[39m \u001b[38;5;28;01mfor\u001b[39;00m instruction \u001b[38;5;129;01min\u001b[39;00m tree.children:\n\u001b[32m     76\u001b[39m     \u001b[38;5;28;01mif\u001b[39;00m instruction.data.value == \u001b[33m\"\u001b[39m\u001b[33mddl_create\u001b[39m\u001b[33m\"\u001b[39m:\n\u001b[32m---> \u001b[39m\u001b[32m77\u001b[39m         \u001b[38;5;28;43mself\u001b[39;49m\u001b[43m.\u001b[49m\u001b[43mcreate\u001b[49m\u001b[43m(\u001b[49m\u001b[43m*\u001b[49m\u001b[43minstruction\u001b[49m\u001b[43m.\u001b[49m\u001b[43mchildren\u001b[49m\u001b[43m)\u001b[49m\n\u001b[32m     79\u001b[39m     \u001b[38;5;28;01melif\u001b[39;00m instruction.data.value == \u001b[33m\"\u001b[39m\u001b[33mddl_use\u001b[39m\u001b[33m\"\u001b[39m:\n\u001b[32m     80\u001b[39m         \u001b[38;5;28mself\u001b[39m.use(*instruction.children)\n",
      "\u001b[36mFile \u001b[39m\u001b[32md:\\HSE subj data\\compilers_hw\\ToFL_labs\\lab2-3\\OurSQL\\parser.py:155\u001b[39m, in \u001b[36mOurSQLInterpreter.create\u001b[39m\u001b[34m(self, entity, exists, name, struct)\u001b[39m\n\u001b[32m    152\u001b[39m         \u001b[38;5;28;01melse\u001b[39;00m:\n\u001b[32m    153\u001b[39m             \u001b[38;5;28;01mreturn\u001b[39;00m\n\u001b[32m--> \u001b[39m\u001b[32m155\u001b[39m     \u001b[38;5;28mself\u001b[39m.databases[\u001b[38;5;28mself\u001b[39m.cursor][name_str] = \u001b[38;5;28;43mself\u001b[39;49m\u001b[43m.\u001b[49m\u001b[43mcreate_table\u001b[49m\u001b[43m(\u001b[49m\u001b[43mstruct\u001b[49m\u001b[43m)\u001b[49m\n\u001b[32m    157\u001b[39m \u001b[38;5;28;01melse\u001b[39;00m:\n\u001b[32m    158\u001b[39m     \u001b[38;5;28;01mraise\u001b[39;00m \u001b[38;5;167;01mValueError\u001b[39;00m(\u001b[33mf\u001b[39m\u001b[33m\"\u001b[39m\u001b[33mInvalid entity \u001b[39m\u001b[38;5;130;01m\\\"\u001b[39;00m\u001b[38;5;132;01m{\u001b[39;00mentity_str\u001b[38;5;132;01m}\u001b[39;00m\u001b[38;5;130;01m\\\"\u001b[39;00m\u001b[33m\"\u001b[39m)\n",
      "\u001b[36mFile \u001b[39m\u001b[32md:\\HSE subj data\\compilers_hw\\ToFL_labs\\lab2-3\\OurSQL\\parser.py:229\u001b[39m, in \u001b[36mOurSQLInterpreter.create_table\u001b[39m\u001b[34m(self, struct)\u001b[39m\n\u001b[32m    226\u001b[39m attr_name = optional_attr.data.lower()\n\u001b[32m    228\u001b[39m \u001b[38;5;28;01mif\u001b[39;00m attr_name \u001b[38;5;129;01min\u001b[39;00m visited_attrs:\n\u001b[32m--> \u001b[39m\u001b[32m229\u001b[39m     \u001b[38;5;28;01mraise\u001b[39;00m \u001b[38;5;167;01mValueError\u001b[39;00m(\u001b[33mf\u001b[39m\u001b[33m\"\u001b[39m\u001b[33mДублирование атрибутов\u001b[39m\u001b[33m\"\u001b[39m)\n\u001b[32m    230\u001b[39m \u001b[38;5;28;01melse\u001b[39;00m:\n\u001b[32m    231\u001b[39m     visited_attrs.add(attr_name)\n",
      "\u001b[31mValueError\u001b[39m: Дублирование атрибутов"
     ]
    }
   ],
   "source": [
    "interpreter.run(\"\"\"\n",
    "    CREATE TABLE User2(\n",
    "        id INT PRIMARY KEY AUTOINCREMENT PRIMARY KEY AUTOINCREMENT PRIMARY KEY AUTOINCREMENT PRIMARY KEY AUTOINCREMENT,\n",
    "        name STR NOT NULL,\n",
    "        type STR DEFAULT \"basic\",\n",
    "        FOREIGN KEY (type) REFERENCES Type(type)  \n",
    "    );\n",
    "\"\"\")"
   ]
  },
  {
   "cell_type": "code",
   "execution_count": 12,
   "id": "b3361c4f",
   "metadata": {},
   "outputs": [
    {
     "ename": "ValueError",
     "evalue": "Value 1 doesnt match type str",
     "output_type": "error",
     "traceback": [
      "\u001b[31m---------------------------------------------------------------------------\u001b[39m",
      "\u001b[31mValueError\u001b[39m                                Traceback (most recent call last)",
      "\u001b[36mCell\u001b[39m\u001b[36m \u001b[39m\u001b[32mIn[12]\u001b[39m\u001b[32m, line 1\u001b[39m\n\u001b[32m----> \u001b[39m\u001b[32m1\u001b[39m \u001b[43minterpreter\u001b[49m\u001b[43m.\u001b[49m\u001b[43mrun\u001b[49m\u001b[43m(\u001b[49m\u001b[33;43m\"\"\"\u001b[39;49m\n\u001b[32m      2\u001b[39m \u001b[33;43m    CREATE TABLE User2(\u001b[39;49m\n\u001b[32m      3\u001b[39m \u001b[33;43m        id INT PRIMARY KEY AUTOINCREMENT,\u001b[39;49m\n\u001b[32m      4\u001b[39m \u001b[33;43m        name STR NOT NULL,\u001b[39;49m\n\u001b[32m      5\u001b[39m \u001b[33;43m        type STR DEFAULT 1,\u001b[39;49m\n\u001b[32m      6\u001b[39m \u001b[33;43m        PRIMARY KEY (id),\u001b[39;49m\n\u001b[32m      7\u001b[39m \u001b[33;43m        FOREIGN KEY (type) REFERENCES Type(type)  \u001b[39;49m\n\u001b[32m      8\u001b[39m \u001b[33;43m    );\u001b[39;49m\n\u001b[32m      9\u001b[39m \u001b[33;43m\"\"\"\u001b[39;49m\u001b[43m)\u001b[49m\n",
      "\u001b[36mFile \u001b[39m\u001b[32md:\\HSE subj data\\compilers_hw\\ToFL_labs\\lab2-3\\OurSQL\\parser.py:77\u001b[39m, in \u001b[36mOurSQLInterpreter.run\u001b[39m\u001b[34m(self, string)\u001b[39m\n\u001b[32m     75\u001b[39m \u001b[38;5;28;01mfor\u001b[39;00m instruction \u001b[38;5;129;01min\u001b[39;00m tree.children:\n\u001b[32m     76\u001b[39m     \u001b[38;5;28;01mif\u001b[39;00m instruction.data.value == \u001b[33m\"\u001b[39m\u001b[33mddl_create\u001b[39m\u001b[33m\"\u001b[39m:\n\u001b[32m---> \u001b[39m\u001b[32m77\u001b[39m         \u001b[38;5;28;43mself\u001b[39;49m\u001b[43m.\u001b[49m\u001b[43mcreate\u001b[49m\u001b[43m(\u001b[49m\u001b[43m*\u001b[49m\u001b[43minstruction\u001b[49m\u001b[43m.\u001b[49m\u001b[43mchildren\u001b[49m\u001b[43m)\u001b[49m\n\u001b[32m     79\u001b[39m     \u001b[38;5;28;01melif\u001b[39;00m instruction.data.value == \u001b[33m\"\u001b[39m\u001b[33mddl_use\u001b[39m\u001b[33m\"\u001b[39m:\n\u001b[32m     80\u001b[39m         \u001b[38;5;28mself\u001b[39m.use(*instruction.children)\n",
      "\u001b[36mFile \u001b[39m\u001b[32md:\\HSE subj data\\compilers_hw\\ToFL_labs\\lab2-3\\OurSQL\\parser.py:155\u001b[39m, in \u001b[36mOurSQLInterpreter.create\u001b[39m\u001b[34m(self, entity, exists, name, struct)\u001b[39m\n\u001b[32m    152\u001b[39m         \u001b[38;5;28;01melse\u001b[39;00m:\n\u001b[32m    153\u001b[39m             \u001b[38;5;28;01mreturn\u001b[39;00m\n\u001b[32m--> \u001b[39m\u001b[32m155\u001b[39m     \u001b[38;5;28mself\u001b[39m.databases[\u001b[38;5;28mself\u001b[39m.cursor][name_str] = \u001b[38;5;28;43mself\u001b[39;49m\u001b[43m.\u001b[49m\u001b[43mcreate_table\u001b[49m\u001b[43m(\u001b[49m\u001b[43mstruct\u001b[49m\u001b[43m)\u001b[49m\n\u001b[32m    157\u001b[39m \u001b[38;5;28;01melse\u001b[39;00m:\n\u001b[32m    158\u001b[39m     \u001b[38;5;28;01mraise\u001b[39;00m \u001b[38;5;167;01mValueError\u001b[39;00m(\u001b[33mf\u001b[39m\u001b[33m\"\u001b[39m\u001b[33mInvalid entity \u001b[39m\u001b[38;5;130;01m\\\"\u001b[39;00m\u001b[38;5;132;01m{\u001b[39;00mentity_str\u001b[38;5;132;01m}\u001b[39;00m\u001b[38;5;130;01m\\\"\u001b[39;00m\u001b[33m\"\u001b[39m)\n",
      "\u001b[36mFile \u001b[39m\u001b[32md:\\HSE subj data\\compilers_hw\\ToFL_labs\\lab2-3\\OurSQL\\parser.py:239\u001b[39m, in \u001b[36mOurSQLInterpreter.create_table\u001b[39m\u001b[34m(self, struct)\u001b[39m\n\u001b[32m    237\u001b[39m     val = optional_attr.children[\u001b[32m0\u001b[39m].children[\u001b[32m0\u001b[39m].value\n\u001b[32m    238\u001b[39m     \u001b[38;5;28;01mif\u001b[39;00m dtype != kwargs[\u001b[33m'\u001b[39m\u001b[33mdtype\u001b[39m\u001b[33m'\u001b[39m]:\n\u001b[32m--> \u001b[39m\u001b[32m239\u001b[39m         \u001b[38;5;28;01mraise\u001b[39;00m \u001b[38;5;167;01mValueError\u001b[39;00m(\u001b[33mf\u001b[39m\u001b[33m\"\u001b[39m\u001b[33mValue \u001b[39m\u001b[38;5;132;01m{\u001b[39;00mval\u001b[38;5;132;01m}\u001b[39;00m\u001b[33m doesnt match type \u001b[39m\u001b[38;5;132;01m{\u001b[39;00mkwargs[\u001b[33m'\u001b[39m\u001b[33mdtype\u001b[39m\u001b[33m'\u001b[39m]\u001b[38;5;132;01m}\u001b[39;00m\u001b[33m\"\u001b[39m)\n\u001b[32m    241\u001b[39m \u001b[38;5;28;01melse\u001b[39;00m:\n\u001b[32m    242\u001b[39m     val = optional_attr.data.value\n",
      "\u001b[31mValueError\u001b[39m: Value 1 doesnt match type str"
     ]
    }
   ],
   "source": [
    "interpreter.run(\"\"\"\n",
    "    CREATE TABLE User2(\n",
    "        id INT PRIMARY KEY AUTOINCREMENT,\n",
    "        name STR NOT NULL,\n",
    "        type STR DEFAULT 1,\n",
    "        PRIMARY KEY (id),\n",
    "        FOREIGN KEY (type) REFERENCES Type(type)  \n",
    "    );\n",
    "\"\"\")"
   ]
  },
  {
   "cell_type": "code",
   "execution_count": 13,
   "id": "4f802775",
   "metadata": {},
   "outputs": [],
   "source": [
    "interpreter.run(\"DrOp DaTaBaSe MyShinyDB;\")"
   ]
  },
  {
   "cell_type": "code",
   "execution_count": null,
   "id": "bbb2a2f0",
   "metadata": {},
   "outputs": [],
   "source": []
  }
 ],
 "metadata": {
  "kernelspec": {
   "display_name": "Python 3",
   "language": "python",
   "name": "python3"
  },
  "language_info": {
   "codemirror_mode": {
    "name": "ipython",
    "version": 3
   },
   "file_extension": ".py",
   "mimetype": "text/x-python",
   "name": "python",
   "nbconvert_exporter": "python",
   "pygments_lexer": "ipython3",
   "version": "3.13.1"
  }
 },
 "nbformat": 4,
 "nbformat_minor": 5
}
